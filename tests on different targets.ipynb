{
 "cells": [
  {
   "cell_type": "code",
   "execution_count": 1,
   "id": "e9b67226",
   "metadata": {},
   "outputs": [],
   "source": [
    "import os\n",
    "import pandas as pd"
   ]
  },
  {
   "cell_type": "code",
   "execution_count": 2,
   "id": "05a5875b",
   "metadata": {},
   "outputs": [
    {
     "name": "stdout",
     "output_type": "stream",
     "text": [
      "0\n"
     ]
    }
   ],
   "source": [
    "print(os.system(\"cmd\"))"
   ]
  },
  {
   "cell_type": "code",
   "execution_count": 3,
   "id": "c3bfdac6",
   "metadata": {},
   "outputs": [],
   "source": [
    "df = pd.read_csv('Datasets\\\\mondial\\\\target.csv')\n",
    "df_population = pd.read_csv('Datasets\\\\mondial\\\\population.csv')\n",
    "df_encompasses = pd.read_csv('Datasets\\\\mondial\\\\encompasses.csv')\n",
    "df_economy = pd.read_csv('Datasets\\\\mondial\\\\economy.csv')\n",
    "df_language = pd.read_csv('Datasets\\\\mondial\\\\language.csv')"
   ]
  },
  {
   "cell_type": "code",
   "execution_count": 4,
   "id": "f1ee1431",
   "metadata": {},
   "outputs": [
    {
     "name": "stdout",
     "output_type": "stream",
     "text": [
      "mondial_original_target\n",
      "Christian        0.637255\n",
      "non-Christian    0.362745\n",
      "Name: Target, dtype: float64\n"
     ]
    }
   ],
   "source": [
    "print(\"mondial_original_target\")\n",
    "print(df[\"Target\"].value_counts(normalize=True))"
   ]
  },
  {
   "cell_type": "code",
   "execution_count": 5,
   "id": "36a14a43",
   "metadata": {},
   "outputs": [
    {
     "name": "stdout",
     "output_type": "stream",
     "text": [
      "mondial_target_infant_mortality_g40\n",
      "False    0.605042\n",
      "True     0.394958\n",
      "Name: Infant_Mortality, dtype: float64\n",
      "columns=['Country', 'Population_Growth', 'Infant_Mortality']\n"
     ]
    }
   ],
   "source": [
    "exp = \"mondial_target_infant_mortality_g40\"\n",
    "print(exp)\n",
    "print((df_population[\"Infant_Mortality\"]>40).value_counts(normalize=True))\n",
    "print(f\"columns={list(df_population.columns)}\")\n",
    "mondial_target_infant_mortality_g40=df_population.copy()[[\"Country\", \"Infant_Mortality\"]]\n",
    "mondial_target_infant_mortality_g40[\"Infant_Mortality\"]=(mondial_target_infant_mortality_g40[\"Infant_Mortality\"]>40)\n",
    "mondial_target_infant_mortality_g40.rename(columns={\"Infant_Mortality\":\"Target\"},inplace=True)\n",
    "mondial_target_infant_mortality_g40.to_csv(f'Datasets\\\\{exp}\\\\target.csv', index=False)  "
   ]
  },
  {
   "cell_type": "code",
   "execution_count": 6,
   "id": "8b43915c",
   "metadata": {},
   "outputs": [
    {
     "name": "stdout",
     "output_type": "stream",
     "text": [
      "mondial_target_continent\n",
      "Africa               0.227273\n",
      "Europe               0.219008\n",
      "Asia                 0.219008\n",
      "America              0.214876\n",
      "Australia/Oceania    0.119835\n",
      "Name: Continent, dtype: float64\n",
      "columns=['Country', 'Continent', 'Percentage']\n"
     ]
    }
   ],
   "source": [
    "exp = \"mondial_target_continent\"\n",
    "print(exp)\n",
    "print((df_encompasses[\"Continent\"]).value_counts(normalize=True))\n",
    "print(f\"columns={list(df_encompasses.columns)}\")\n",
    "mondial_target_continent=df_encompasses.copy()[[\"Country\", \"Continent\"]]\n",
    "mondial_target_continent.rename(columns={\"Continent\":\"Target\"},inplace=True)\n",
    "mondial_target_continent.to_csv(f'Datasets\\\\{exp}\\\\target.csv', index=False)  "
   ]
  },
  {
   "cell_type": "code",
   "execution_count": 7,
   "id": "a9f78128",
   "metadata": {},
   "outputs": [
    {
     "name": "stdout",
     "output_type": "stream",
     "text": [
      "mondial_target_GDP_g8e3\n",
      "True     0.5\n",
      "False    0.5\n",
      "Name: GDP, dtype: float64\n",
      "columns=['Country', 'GDP', 'Agriculture', 'Service', 'Industry', 'Inflation']\n"
     ]
    }
   ],
   "source": [
    "exp = \"mondial_target_GDP_g8e3\"\n",
    "print(exp)\n",
    "# print((df_economy[\"GDP\"]).describe())\n",
    "print((df_economy[\"GDP\"]>8e3).value_counts(normalize=True))\n",
    "print(f\"columns={list(df_economy.columns)}\")\n",
    "mondial_target_GDP_g8e3=df_economy.copy()[[\"Country\", \"GDP\"]]\n",
    "mondial_target_GDP_g8e3[\"GDP\"]=(mondial_target_GDP_g8e3[\"GDP\"]>8e3)\n",
    "mondial_target_GDP_g8e3.rename(columns={\"GDP\":\"Target\"},inplace=True)\n",
    "mondial_target_GDP_g8e3.to_csv(f'Datasets\\\\{exp}\\\\target.csv', index=False)  "
   ]
  },
  {
   "cell_type": "code",
   "execution_count": 8,
   "id": "8d78d46d",
   "metadata": {},
   "outputs": [
    {
     "name": "stdout",
     "output_type": "stream",
     "text": [
      "mondial_target_Inflation_g6\n",
      "False    0.508403\n",
      "True     0.491597\n",
      "Name: Inflation, dtype: float64\n",
      "columns=['Country', 'GDP', 'Agriculture', 'Service', 'Industry', 'Inflation']\n"
     ]
    }
   ],
   "source": [
    "exp = \"mondial_target_Inflation_g6\"\n",
    "print(exp)\n",
    "# print((df_economy[\"Inflation\"]).describe())\n",
    "print((df_economy[\"Inflation\"]>6).value_counts(normalize=True))\n",
    "print(f\"columns={list(df_economy.columns)}\")\n",
    "mondial_target_Inflation_g6=df_economy.copy()[[\"Country\", \"Inflation\"]]\n",
    "mondial_target_Inflation_g6[\"Inflation\"]=(mondial_target_Inflation_g6[\"Inflation\"]>6)\n",
    "mondial_target_Inflation_g6.rename(columns={\"Inflation\":\"Target\"},inplace=True)\n",
    "mondial_target_Inflation_g6.to_csv(f'Datasets\\\\{exp}\\\\target.csv', index=False) "
   ]
  },
  {
   "cell_type": "code",
   "execution_count": 9,
   "id": "88ce3dce",
   "metadata": {},
   "outputs": [
    {
     "name": "stdout",
     "output_type": "stream",
     "text": [
      "mondial_target_latin_language\n",
      "English        0.145833\n",
      "French         0.069444\n",
      "Spanish        0.055556\n",
      "Russian        0.041667\n",
      "German         0.034722\n",
      "                 ...   \n",
      "Luri           0.006944\n",
      "Macedonian     0.006944\n",
      "Montenegrin    0.006944\n",
      "Nepali         0.006944\n",
      "Wallisian      0.006944\n",
      "Name: Name, Length: 74, dtype: float64\n",
      "columns=['Country', 'Name', 'Percentage']\n",
      "False    0.8125\n",
      "True     0.1875\n",
      "Name: Name, dtype: float64\n"
     ]
    },
    {
     "data": {
      "text/html": [
       "<div>\n",
       "<style scoped>\n",
       "    .dataframe tbody tr th:only-of-type {\n",
       "        vertical-align: middle;\n",
       "    }\n",
       "\n",
       "    .dataframe tbody tr th {\n",
       "        vertical-align: top;\n",
       "    }\n",
       "\n",
       "    .dataframe thead th {\n",
       "        text-align: right;\n",
       "    }\n",
       "</style>\n",
       "<table border=\"1\" class=\"dataframe\">\n",
       "  <thead>\n",
       "    <tr style=\"text-align: right;\">\n",
       "      <th></th>\n",
       "      <th>Country</th>\n",
       "      <th>Name</th>\n",
       "    </tr>\n",
       "  </thead>\n",
       "  <tbody>\n",
       "    <tr>\n",
       "      <th>0</th>\n",
       "      <td>AFG</td>\n",
       "      <td>False</td>\n",
       "    </tr>\n",
       "    <tr>\n",
       "      <th>1</th>\n",
       "      <td>NAM</td>\n",
       "      <td>False</td>\n",
       "    </tr>\n",
       "    <tr>\n",
       "      <th>2</th>\n",
       "      <td>MK</td>\n",
       "      <td>False</td>\n",
       "    </tr>\n",
       "    <tr>\n",
       "      <th>3</th>\n",
       "      <td>MNE</td>\n",
       "      <td>False</td>\n",
       "    </tr>\n",
       "    <tr>\n",
       "      <th>4</th>\n",
       "      <td>IR</td>\n",
       "      <td>False</td>\n",
       "    </tr>\n",
       "    <tr>\n",
       "      <th>...</th>\n",
       "      <td>...</td>\n",
       "      <td>...</td>\n",
       "    </tr>\n",
       "    <tr>\n",
       "      <th>139</th>\n",
       "      <td>TM</td>\n",
       "      <td>False</td>\n",
       "    </tr>\n",
       "    <tr>\n",
       "      <th>140</th>\n",
       "      <td>PK</td>\n",
       "      <td>False</td>\n",
       "    </tr>\n",
       "    <tr>\n",
       "      <th>141</th>\n",
       "      <td>TM</td>\n",
       "      <td>False</td>\n",
       "    </tr>\n",
       "    <tr>\n",
       "      <th>142</th>\n",
       "      <td>UZB</td>\n",
       "      <td>False</td>\n",
       "    </tr>\n",
       "    <tr>\n",
       "      <th>143</th>\n",
       "      <td>WAFU</td>\n",
       "      <td>False</td>\n",
       "    </tr>\n",
       "  </tbody>\n",
       "</table>\n",
       "<p>144 rows × 2 columns</p>\n",
       "</div>"
      ],
      "text/plain": [
       "    Country   Name\n",
       "0       AFG  False\n",
       "1       NAM  False\n",
       "2        MK  False\n",
       "3       MNE  False\n",
       "4        IR  False\n",
       "..      ...    ...\n",
       "139      TM  False\n",
       "140      PK  False\n",
       "141      TM  False\n",
       "142     UZB  False\n",
       "143    WAFU  False\n",
       "\n",
       "[144 rows x 2 columns]"
      ]
     },
     "execution_count": 9,
     "metadata": {},
     "output_type": "execute_result"
    }
   ],
   "source": [
    "# didn't do tests because 81% of languages are not \"from Latin\"\n",
    "exp = \"mondial_target_latin_language\"\n",
    "print(exp)\n",
    "# print((df_language[\"Name\"]).describe())\n",
    "latin_languages = [\"Italian\",\"French\",\"Portuguese\",\"Spanish\",\"Romanian\",\"Catalan\",\"Valenciá\",\"Occitan\",\"Galician\",\"Sardo\",\n",
    "                   \"Sicilian\",\"Furlan\",\"Romansch\",\"Ladino\",\"Judeo-Spanish\",\"Ladin\"]\n",
    "print((df_language[\"Name\"]).value_counts(normalize=True))\n",
    "print(f\"columns={list(df_language.columns)}\")\n",
    "mondial_target_latin_language=df_language.copy()[[\"Country\", \"Name\"]]\n",
    "mondial_target_latin_language[\"Name\"]=mondial_target_latin_language[\"Name\"].apply(lambda x: x in latin_languages)\n",
    "print((mondial_target_latin_language[\"Name\"]).value_counts(normalize=True))\n",
    "mondial_target_latin_language.rename(columns={\"Inflation\":\"Target\"},inplace=True)\n",
    "# mondial_target_latin_language.to_csv(f'Datasets\\\\{exp}\\\\target.csv', index=False) \n",
    "mondial_target_latin_language"
   ]
  },
  {
   "cell_type": "code",
   "execution_count": 49,
   "id": "b61d777b",
   "metadata": {},
   "outputs": [
    {
     "name": "stdout",
     "output_type": "stream",
     "text": [
      "\u001b[1;31;47mCountry@target-Code@country>Code@country-Country1@borders>Country2@borders-Code@country>country>Area@country\n",
      "\u001b[1;32;47mCountry@target-Code@country>Code@country-Country1@borders>Country2@borders-Code@country>country>Capital@country\n",
      "\u001b[1;32;47mCountry@target-Code@country>Code@country-Country1@borders>Country2@borders-Code@country>country>Name@country\n",
      "\u001b[1;31;47mCountry@target-Code@country>Code@country-Country1@borders>Country2@borders-Code@country>country>Population@country\n",
      "\u001b[1;31;47mCountry@target-Code@country>Code@country-Country1@borders>Country2@borders-Code@country>country>Province@country\n",
      "\u001b[1;32;47mCountry@target-Code@country>Code@country-Country1@borders>borders>Length@borders\n",
      "\u001b[1;31;47mCountry@target-Code@country>Code@country-Country2@borders>Country1@borders-Code@country>country>Area@country\n",
      "\u001b[1;32;47mCountry@target-Code@country>Code@country-Country2@borders>Country1@borders-Code@country>country>Capital@country\n",
      "\u001b[1;32;47mCountry@target-Code@country>Code@country-Country2@borders>Country1@borders-Code@country>country>Name@country\n",
      "\u001b[1;32;47mCountry@target-Code@country>Code@country-Country2@borders>Country1@borders-Code@country>country>Population@country\n",
      "\u001b[1;32;47mCountry@target-Code@country>Code@country-Country2@borders>Country1@borders-Code@country>country>Province@country\n",
      "\u001b[1;32;47mCountry@target-Code@country>Code@country-Country2@borders>borders>Length@borders\n",
      "\u001b[1;31;47mCountry@target-Code@country>Code@country-Country@economy>economy>Agriculture@economy\n",
      "\u001b[1;31;47mCountry@target-Code@country>Code@country-Country@economy>economy>GDP@economy\n",
      "\u001b[1;31;47mCountry@target-Code@country>Code@country-Country@economy>economy>Industry@economy\n",
      "\u001b[1;31;47mCountry@target-Code@country>Code@country-Country@economy>economy>Inflation@economy\n",
      "\u001b[1;31;47mCountry@target-Code@country>Code@country-Country@economy>economy>Service@economy\n",
      "\u001b[1;32;47mCountry@target-Code@country>Code@country-Country@encompasses>Continent@encompasses-Name@continent>continent>Area@continent\n",
      "\u001b[1;31;47mCountry@target-Code@country>Code@country-Country@encompasses>encompasses>Percentage@encompasses\n",
      "\u001b[1;31;47mCountry@target-Code@country>Code@country-Country@ethnicgroup>ethnicgroup>Name@ethnicgroup\n",
      "\u001b[1;32;47mCountry@target-Code@country>Code@country-Country@ethnicgroup>ethnicgroup>Percentage@ethnicgroup\n",
      "\u001b[1;31;47mCountry@target-Code@country>Code@country-Country@ismember>Organization@ismember-Abbreviation@organization>organization>Established@organization\n",
      "\u001b[1;32;47mCountry@target-Code@country>Code@country-Country@ismember>Organization@ismember-Abbreviation@organization>organization>Name@organization\n",
      "\u001b[1;31;47mCountry@target-Code@country>Code@country-Country@ismember>ismember>Type@ismember\n",
      "\u001b[1;31;47mCountry@target-Code@country>Code@country-Country@language>language>Name@language\n",
      "\u001b[1;32;47mCountry@target-Code@country>Code@country-Country@language>language>Percentage@language\n",
      "\u001b[1;32;47mCountry@target-Code@country>Code@country-Country@politics>Dependent@politics-Code@country>country>Area@country\n",
      "\u001b[1;32;47mCountry@target-Code@country>Code@country-Country@politics>Dependent@politics-Code@country>country>Capital@country\n",
      "\u001b[1;31;47mCountry@target-Code@country>Code@country-Country@politics>Dependent@politics-Code@country>country>Name@country\n",
      "\u001b[1;31;47mCountry@target-Code@country>Code@country-Country@politics>Dependent@politics-Code@country>country>Population@country\n",
      "\u001b[1;32;47mCountry@target-Code@country>Code@country-Country@politics>Dependent@politics-Code@country>country>Province@country\n",
      "\u001b[1;31;47mCountry@target-Code@country>Code@country-Country@politics>politics>Government@politics\n",
      "\u001b[1;31;47mCountry@target-Code@country>Code@country-Country@politics>politics>Independence@politics\n",
      "\u001b[1;31;47mCountry@target-Code@country>Code@country-Country@population>population>Infant_Mortality@population\n",
      "\u001b[1;32;47mCountry@target-Code@country>Code@country-Country@population>population>Population_Growth@population\n",
      "\u001b[1;32;47mCountry@target-Code@country>Code@country-Country@province>Country@province-Country@city>city>Latitude@city\n",
      "\u001b[1;31;47mCountry@target-Code@country>Code@country-Country@province>Country@province-Country@city>city>Longitude@city\n",
      "\u001b[1;32;47mCountry@target-Code@country>Code@country-Country@province>Country@province-Country@city>city>Population@city\n",
      "\u001b[1;32;47mCountry@target-Code@country>Code@country-Country@province>Country@province-Country@organization>organization>Established@organization\n",
      "\u001b[1;31;47mCountry@target-Code@country>Code@country-Country@province>Country@province-Country@organization>organization>Name@organization\n",
      "\u001b[1;31;47mCountry@target-Code@country>Code@country-Country@province>Name@province-Province@city>city>Latitude@city\n",
      "\u001b[1;32;47mCountry@target-Code@country>Code@country-Country@province>Name@province-Province@city>city>Longitude@city\n",
      "\u001b[1;31;47mCountry@target-Code@country>Code@country-Country@province>Name@province-Province@city>city>Population@city\n",
      "\u001b[1;31;47mCountry@target-Code@country>Code@country-Country@province>Name@province-Province@organization>organization>Established@organization\n",
      "\u001b[1;32;47mCountry@target-Code@country>Code@country-Country@province>Name@province-Province@organization>organization>Name@organization\n",
      "\u001b[1;32;47mCountry@target-Code@country>Code@country-Country@province>province>Area@province\n",
      "\u001b[1;31;47mCountry@target-Code@country>Code@country-Country@province>province>CapProv@province\n",
      "\u001b[1;31;47mCountry@target-Code@country>Code@country-Country@province>province>Capital@province\n",
      "\u001b[1;31;47mCountry@target-Code@country>Code@country-Country@province>province>Population@province\n",
      "\u001b[1;32;47mCountry@target-Code@country>Code@country-Country@religion>religion>Name@religion\n",
      "\u001b[1;32;47mCountry@target-Code@country>Code@country-Country@religion>religion>Percentage@religion\n",
      "\u001b[1;31;47mCountry@target-Code@country>Code@country-Dependent@politics>Country@politics-Code@country>country>Area@country\n",
      "\u001b[1;31;47mCountry@target-Code@country>Code@country-Dependent@politics>Country@politics-Code@country>country>Capital@country\n",
      "\u001b[1;32;47mCountry@target-Code@country>Code@country-Dependent@politics>Country@politics-Code@country>country>Name@country\n",
      "\u001b[1;31;47mCountry@target-Code@country>Code@country-Dependent@politics>Country@politics-Code@country>country>Population@country\n",
      "\u001b[1;31;47mCountry@target-Code@country>Code@country-Dependent@politics>Country@politics-Code@country>country>Province@country\n",
      "\u001b[1;31;47mCountry@target-Code@country>Code@country-Dependent@politics>politics>Government@politics\n",
      "\u001b[1;32;47mCountry@target-Code@country>Code@country-Dependent@politics>politics>Independence@politics\n",
      "\u001b[1;32;47mCountry@target-Code@country>country>Area@country\n",
      "\u001b[1;32;47mCountry@target-Code@country>country>Capital@country\n",
      "\u001b[1;31;47mCountry@target-Code@country>country>Name@country\n",
      "\u001b[1;32;47mCountry@target-Code@country>country>Population@country\n",
      "\u001b[1;32;47mCountry@target-Code@country>country>Province@country\n"
     ]
    },
    {
     "data": {
      "text/plain": [
       "'Country@target-Code@country>Code@country-Country@religion>religion>Percentage@religion'"
      ]
     },
     "execution_count": 49,
     "metadata": {},
     "output_type": "execute_result"
    }
   ],
   "source": [
    "# colors url: https://stackabuse.com/how-to-print-colored-text-in-python/\n",
    "all_schemes = ['Country@target-Code@country>country>Name@country', 'Country@target-Code@country>country>Capital@country', 'Country@target-Code@country>country>Province@country', 'Country@target-Code@country>country>Area@country', 'Country@target-Code@country>country>Population@country', 'Country@target-Code@country>Code@country-Country1@borders>borders>Length@borders', 'Country@target-Code@country>Code@country-Country1@borders>Country2@borders-Code@country>country>Name@country', 'Country@target-Code@country>Code@country-Country1@borders>Country2@borders-Code@country>country>Capital@country', 'Country@target-Code@country>Code@country-Country1@borders>Country2@borders-Code@country>country>Province@country', 'Country@target-Code@country>Code@country-Country1@borders>Country2@borders-Code@country>country>Area@country', 'Country@target-Code@country>Code@country-Country1@borders>Country2@borders-Code@country>country>Population@country', 'Country@target-Code@country>Code@country-Country2@borders>borders>Length@borders', 'Country@target-Code@country>Code@country-Country2@borders>Country1@borders-Code@country>country>Name@country', 'Country@target-Code@country>Code@country-Country2@borders>Country1@borders-Code@country>country>Capital@country', 'Country@target-Code@country>Code@country-Country2@borders>Country1@borders-Code@country>country>Province@country', 'Country@target-Code@country>Code@country-Country2@borders>Country1@borders-Code@country>country>Area@country', 'Country@target-Code@country>Code@country-Country2@borders>Country1@borders-Code@country>country>Population@country', 'Country@target-Code@country>Code@country-Country@economy>economy>GDP@economy', 'Country@target-Code@country>Code@country-Country@economy>economy>Agriculture@economy', 'Country@target-Code@country>Code@country-Country@economy>economy>Service@economy', 'Country@target-Code@country>Code@country-Country@economy>economy>Industry@economy', 'Country@target-Code@country>Code@country-Country@economy>economy>Inflation@economy', 'Country@target-Code@country>Code@country-Country@encompasses>encompasses>Percentage@encompasses', 'Country@target-Code@country>Code@country-Country@encompasses>Continent@encompasses-Name@continent>continent>Area@continent', 'Country@target-Code@country>Code@country-Country@ethnicgroup>ethnicgroup>Name@ethnicgroup', 'Country@target-Code@country>Code@country-Country@ethnicgroup>ethnicgroup>Percentage@ethnicgroup', 'Country@target-Code@country>Code@country-Country@ismember>ismember>Type@ismember', 'Country@target-Code@country>Code@country-Country@ismember>Organization@ismember-Abbreviation@organization>organization>Name@organization', 'Country@target-Code@country>Code@country-Country@ismember>Organization@ismember-Abbreviation@organization>organization>Established@organization', 'Country@target-Code@country>Code@country-Country@language>language>Name@language', 'Country@target-Code@country>Code@country-Country@language>language>Percentage@language', 'Country@target-Code@country>Code@country-Country@politics>politics>Independence@politics', 'Country@target-Code@country>Code@country-Country@politics>politics>Government@politics', 'Country@target-Code@country>Code@country-Country@politics>Dependent@politics-Code@country>country>Name@country', 'Country@target-Code@country>Code@country-Country@politics>Dependent@politics-Code@country>country>Capital@country', 'Country@target-Code@country>Code@country-Country@politics>Dependent@politics-Code@country>country>Province@country', 'Country@target-Code@country>Code@country-Country@politics>Dependent@politics-Code@country>country>Area@country', 'Country@target-Code@country>Code@country-Country@politics>Dependent@politics-Code@country>country>Population@country', 'Country@target-Code@country>Code@country-Dependent@politics>politics>Independence@politics', 'Country@target-Code@country>Code@country-Dependent@politics>politics>Government@politics', 'Country@target-Code@country>Code@country-Dependent@politics>Country@politics-Code@country>country>Name@country', 'Country@target-Code@country>Code@country-Dependent@politics>Country@politics-Code@country>country>Capital@country', 'Country@target-Code@country>Code@country-Dependent@politics>Country@politics-Code@country>country>Province@country', 'Country@target-Code@country>Code@country-Dependent@politics>Country@politics-Code@country>country>Area@country', 'Country@target-Code@country>Code@country-Dependent@politics>Country@politics-Code@country>country>Population@country', 'Country@target-Code@country>Code@country-Country@population>population>Population_Growth@population', 'Country@target-Code@country>Code@country-Country@population>population>Infant_Mortality@population', 'Country@target-Code@country>Code@country-Country@province>province>Population@province', 'Country@target-Code@country>Code@country-Country@province>province>Area@province', 'Country@target-Code@country>Code@country-Country@province>province>Capital@province', 'Country@target-Code@country>Code@country-Country@province>province>CapProv@province', 'Country@target-Code@country>Code@country-Country@province>Country@province-Country@city>city>Population@city', 'Country@target-Code@country>Code@country-Country@province>Country@province-Country@city>city>Longitude@city', 'Country@target-Code@country>Code@country-Country@province>Country@province-Country@city>city>Latitude@city', 'Country@target-Code@country>Code@country-Country@province>Name@province-Province@city>city>Population@city', 'Country@target-Code@country>Code@country-Country@province>Name@province-Province@city>city>Longitude@city', 'Country@target-Code@country>Code@country-Country@province>Name@province-Province@city>city>Latitude@city', 'Country@target-Code@country>Code@country-Country@province>Country@province-Country@organization>organization>Name@organization', 'Country@target-Code@country>Code@country-Country@province>Country@province-Country@organization>organization>Established@organization', 'Country@target-Code@country>Code@country-Country@province>Name@province-Province@organization>organization>Name@organization', 'Country@target-Code@country>Code@country-Country@province>Name@province-Province@organization>organization>Established@organization', 'Country@target-Code@country>Code@country-Country@religion>religion>Name@religion', 'Country@target-Code@country>Code@country-Country@religion>religion>Percentage@religion']\n",
    "r6_schemes = ['Country@target-Code@country>country>Capital@country', 'Country@target-Code@country>Code@country-Country1@borders>Country2@borders-Code@country>country>Capital@country', 'Country@target-Code@country>Code@country-Dependent@politics>Country@politics-Code@country>country>Name@country', 'Country@target-Code@country>Code@country-Country2@borders>Country1@borders-Code@country>country>Name@country', 'Country@target-Code@country>Code@country-Dependent@politics>politics>Independence@politics', 'Country@target-Code@country>Code@country-Country@province>Country@province-Country@city>city>Latitude@city', 'Country@target-Code@country>Code@country-Country@politics>Dependent@politics-Code@country>country>Area@country', 'Country@target-Code@country>Code@country-Country@religion>religion>Name@religion', 'Country@target-Code@country>Code@country-Country@ethnicgroup>ethnicgroup>Percentage@ethnicgroup', 'Country@target-Code@country>Code@country-Country1@borders>borders>Length@borders', 'Country@target-Code@country>Code@country-Country@encompasses>Continent@encompasses-Name@continent>continent>Area@continent', 'Country@target-Code@country>Code@country-Country@province>Name@province-Province@city>city>Longitude@city', 'Country@target-Code@country>country>Province@country', 'Country@target-Code@country>Code@country-Country@province>Country@province-Country@organization>organization>Established@organization', 'Country@target-Code@country>Code@country-Country@religion>religion>Percentage@religion', 'Country@target-Code@country>Code@country-Country@province>Name@province-Province@organization>organization>Name@organization', 'Country@target-Code@country>Code@country-Country2@borders>borders>Length@borders', 'Country@target-Code@country>Code@country-Country@population>population>Population_Growth@population', 'Country@target-Code@country>Code@country-Country@province>Country@province-Country@city>city>Population@city', 'Country@target-Code@country>Code@country-Country@language>language>Percentage@language', 'Country@target-Code@country>Code@country-Country2@borders>Country1@borders-Code@country>country>Capital@country', 'Country@target-Code@country>country>Area@country', 'Country@target-Code@country>Code@country-Country@province>province>Area@province', 'Country@target-Code@country>Code@country-Country@politics>Dependent@politics-Code@country>country>Capital@country', 'Country@target-Code@country>Code@country-Country@ismember>Organization@ismember-Abbreviation@organization>organization>Name@organization', 'Country@target-Code@country>Code@country-Country1@borders>Country2@borders-Code@country>country>Name@country', 'Country@target-Code@country>Code@country-Country2@borders>Country1@borders-Code@country>country>Population@country', 'Country@target-Code@country>country>Population@country', 'Country@target-Code@country>Code@country-Country2@borders>Country1@borders-Code@country>country>Province@country', 'Country@target-Code@country>Code@country-Country@politics>Dependent@politics-Code@country>country>Province@country']\n",
    "for scheme in sorted(all_schemes):\n",
    "    if scheme in r6_schemes:\n",
    "        print(f'\\033[1;32;47m{scheme}')\n",
    "    else:\n",
    "        print(f'\\033[1;31;47m{scheme}')\n",
    "    # print(f'\\033[1;35;47m{scheme}') #purpule\n",
    "    \n",
    "# heuristic to remove on of:\n",
    "#    Country1@borders>Country2@borders\n",
    "#    Country2@borders>Country1@borders\n",
    "remove_from_r6_to_reduse = [\"Country@target-Code@country>Code@country-Country2@borders>Country1@borders-Code@country>country>Capital@country\",\n",
    "\"Country@target-Code@country>Code@country-Country2@borders>Country1@borders-Code@country>country>Name@country\",\n",
    "\"Country@target-Code@country>Code@country-Country2@borders>Country1@borders-Code@country>country>Population@country\",\n",
    "\"Country@target-Code@country>Code@country-Country2@borders>Country1@borders-Code@country>country>Province@country\",\\\n",
    "# no semantic meaning to Latitude (yuval) - DAMAGES\n",
    "\"Country@target-Code@country>Code@country-Country@province>Country@province-Country@city>city>Latitude@city\"]\n",
    "#from tests\n",
    "\"Country@target-Code@country>Code@country-Country@religion>religion>Percentage@religion\"\n",
    "\n"
   ]
  },
  {
   "cell_type": "code",
   "execution_count": 31,
   "id": "0d8dbb1a",
   "metadata": {},
   "outputs": [
    {
     "name": "stdout",
     "output_type": "stream",
     "text": [
      "\u001b[1;31;41mCountry@target-Code@country>Code@country-Country1@borders>Country2@borders-Code@country>country>Area@country\n",
      "\u001b[1;32;41mCountry@target-Code@country>Code@country-Country1@borders>Country2@borders-Code@country>country>Capital@country\n",
      "\u001b[1;32;41mCountry@target-Code@country>Code@country-Country1@borders>Country2@borders-Code@country>country>Name@country\n",
      "\u001b[1;31;41mCountry@target-Code@country>Code@country-Country1@borders>Country2@borders-Code@country>country>Population@country\n",
      "\u001b[1;31;41mCountry@target-Code@country>Code@country-Country1@borders>Country2@borders-Code@country>country>Province@country\n",
      "\u001b[1;32;41mCountry@target-Code@country>Code@country-Country1@borders>borders>Length@borders\n",
      "\u001b[1;31;41mCountry@target-Code@country>Code@country-Country2@borders>Country1@borders-Code@country>country>Area@country\n",
      "\u001b[1;32;41mCountry@target-Code@country>Code@country-Country2@borders>Country1@borders-Code@country>country>Capital@country\n",
      "\u001b[1;32;41mCountry@target-Code@country>Code@country-Country2@borders>Country1@borders-Code@country>country>Name@country\n",
      "\u001b[1;32;41mCountry@target-Code@country>Code@country-Country2@borders>Country1@borders-Code@country>country>Population@country\n",
      "\u001b[1;32;41mCountry@target-Code@country>Code@country-Country2@borders>Country1@borders-Code@country>country>Province@country\n",
      "\u001b[1;32;41mCountry@target-Code@country>Code@country-Country2@borders>borders>Length@borders\n",
      "\u001b[1;31;41mCountry@target-Code@country>Code@country-Country@economy>economy>Agriculture@economy\n",
      "\u001b[1;31;41mCountry@target-Code@country>Code@country-Country@economy>economy>GDP@economy\n",
      "\u001b[1;31;41mCountry@target-Code@country>Code@country-Country@economy>economy>Industry@economy\n",
      "\u001b[1;31;41mCountry@target-Code@country>Code@country-Country@economy>economy>Inflation@economy\n",
      "\u001b[1;31;41mCountry@target-Code@country>Code@country-Country@economy>economy>Service@economy\n",
      "\u001b[1;32;41mCountry@target-Code@country>Code@country-Country@encompasses>Continent@encompasses-Name@continent>continent>Area@continent\n",
      "\u001b[1;31;41mCountry@target-Code@country>Code@country-Country@encompasses>encompasses>Percentage@encompasses\n",
      "\u001b[1;31;41mCountry@target-Code@country>Code@country-Country@ethnicgroup>ethnicgroup>Name@ethnicgroup\n",
      "\u001b[1;32;41mCountry@target-Code@country>Code@country-Country@ethnicgroup>ethnicgroup>Percentage@ethnicgroup\n",
      "\u001b[1;31;41mCountry@target-Code@country>Code@country-Country@ismember>Organization@ismember-Abbreviation@organization>organization>Established@organization\n",
      "\u001b[1;32;41mCountry@target-Code@country>Code@country-Country@ismember>Organization@ismember-Abbreviation@organization>organization>Name@organization\n",
      "\u001b[1;31;41mCountry@target-Code@country>Code@country-Country@ismember>ismember>Type@ismember\n",
      "\u001b[1;31;41mCountry@target-Code@country>Code@country-Country@language>language>Name@language\n",
      "\u001b[1;32;41mCountry@target-Code@country>Code@country-Country@language>language>Percentage@language\n",
      "\u001b[1;32;41mCountry@target-Code@country>Code@country-Country@politics>Dependent@politics-Code@country>country>Area@country\n",
      "\u001b[1;32;41mCountry@target-Code@country>Code@country-Country@politics>Dependent@politics-Code@country>country>Capital@country\n",
      "\u001b[1;31;41mCountry@target-Code@country>Code@country-Country@politics>Dependent@politics-Code@country>country>Name@country\n",
      "\u001b[1;31;41mCountry@target-Code@country>Code@country-Country@politics>Dependent@politics-Code@country>country>Population@country\n",
      "\u001b[1;32;41mCountry@target-Code@country>Code@country-Country@politics>Dependent@politics-Code@country>country>Province@country\n",
      "\u001b[1;31;41mCountry@target-Code@country>Code@country-Country@politics>politics>Government@politics\n",
      "\u001b[1;31;41mCountry@target-Code@country>Code@country-Country@politics>politics>Independence@politics\n",
      "\u001b[1;31;41mCountry@target-Code@country>Code@country-Country@population>population>Infant_Mortality@population\n",
      "\u001b[1;32;41mCountry@target-Code@country>Code@country-Country@population>population>Population_Growth@population\n",
      "\u001b[1;32;41mCountry@target-Code@country>Code@country-Country@province>Country@province-Country@city>city>Latitude@city\n",
      "\u001b[1;31;41mCountry@target-Code@country>Code@country-Country@province>Country@province-Country@city>city>Longitude@city\n",
      "\u001b[1;32;41mCountry@target-Code@country>Code@country-Country@province>Country@province-Country@city>city>Population@city\n",
      "\u001b[1;32;41mCountry@target-Code@country>Code@country-Country@province>Country@province-Country@organization>organization>Established@organization\n",
      "\u001b[1;31;41mCountry@target-Code@country>Code@country-Country@province>Country@province-Country@organization>organization>Name@organization\n",
      "\u001b[1;31;41mCountry@target-Code@country>Code@country-Country@province>Name@province-Province@city>city>Latitude@city\n",
      "\u001b[1;32;41mCountry@target-Code@country>Code@country-Country@province>Name@province-Province@city>city>Longitude@city\n",
      "\u001b[1;31;41mCountry@target-Code@country>Code@country-Country@province>Name@province-Province@city>city>Population@city\n",
      "\u001b[1;31;41mCountry@target-Code@country>Code@country-Country@province>Name@province-Province@organization>organization>Established@organization\n",
      "\u001b[1;32;41mCountry@target-Code@country>Code@country-Country@province>Name@province-Province@organization>organization>Name@organization\n",
      "\u001b[1;32;41mCountry@target-Code@country>Code@country-Country@province>province>Area@province\n",
      "\u001b[1;31;41mCountry@target-Code@country>Code@country-Country@province>province>CapProv@province\n",
      "\u001b[1;31;41mCountry@target-Code@country>Code@country-Country@province>province>Capital@province\n",
      "\u001b[1;31;41mCountry@target-Code@country>Code@country-Country@province>province>Population@province\n",
      "\u001b[1;32;41mCountry@target-Code@country>Code@country-Country@religion>religion>Name@religion\n",
      "\u001b[1;32;41mCountry@target-Code@country>Code@country-Country@religion>religion>Percentage@religion\n",
      "\u001b[1;31;41mCountry@target-Code@country>Code@country-Dependent@politics>Country@politics-Code@country>country>Area@country\n",
      "\u001b[1;31;41mCountry@target-Code@country>Code@country-Dependent@politics>Country@politics-Code@country>country>Capital@country\n",
      "\u001b[1;32;41mCountry@target-Code@country>Code@country-Dependent@politics>Country@politics-Code@country>country>Name@country\n",
      "\u001b[1;31;41mCountry@target-Code@country>Code@country-Dependent@politics>Country@politics-Code@country>country>Population@country\n",
      "\u001b[1;31;41mCountry@target-Code@country>Code@country-Dependent@politics>Country@politics-Code@country>country>Province@country\n",
      "\u001b[1;31;41mCountry@target-Code@country>Code@country-Dependent@politics>politics>Government@politics\n",
      "\u001b[1;32;41mCountry@target-Code@country>Code@country-Dependent@politics>politics>Independence@politics\n",
      "\u001b[1;32;41mCountry@target-Code@country>country>Area@country\n",
      "\u001b[1;32;41mCountry@target-Code@country>country>Capital@country\n",
      "\u001b[1;31;41mCountry@target-Code@country>country>Name@country\n",
      "\u001b[1;32;41mCountry@target-Code@country>country>Population@country\n",
      "\u001b[1;32;41mCountry@target-Code@country>country>Province@country\n"
     ]
    }
   ],
   "source": [
    "# bad subset of schemes compared to r6 on mondial original target (Christian-Not Cristian)\n",
    "all_schemes = ['Country@target-Code@country>country>Name@country', 'Country@target-Code@country>country>Capital@country', 'Country@target-Code@country>country>Province@country', 'Country@target-Code@country>country>Area@country', 'Country@target-Code@country>country>Population@country', 'Country@target-Code@country>Code@country-Country1@borders>borders>Length@borders', 'Country@target-Code@country>Code@country-Country1@borders>Country2@borders-Code@country>country>Name@country', 'Country@target-Code@country>Code@country-Country1@borders>Country2@borders-Code@country>country>Capital@country', 'Country@target-Code@country>Code@country-Country1@borders>Country2@borders-Code@country>country>Province@country', 'Country@target-Code@country>Code@country-Country1@borders>Country2@borders-Code@country>country>Area@country', 'Country@target-Code@country>Code@country-Country1@borders>Country2@borders-Code@country>country>Population@country', 'Country@target-Code@country>Code@country-Country2@borders>borders>Length@borders', 'Country@target-Code@country>Code@country-Country2@borders>Country1@borders-Code@country>country>Name@country', 'Country@target-Code@country>Code@country-Country2@borders>Country1@borders-Code@country>country>Capital@country', 'Country@target-Code@country>Code@country-Country2@borders>Country1@borders-Code@country>country>Province@country', 'Country@target-Code@country>Code@country-Country2@borders>Country1@borders-Code@country>country>Area@country', 'Country@target-Code@country>Code@country-Country2@borders>Country1@borders-Code@country>country>Population@country', 'Country@target-Code@country>Code@country-Country@economy>economy>GDP@economy', 'Country@target-Code@country>Code@country-Country@economy>economy>Agriculture@economy', 'Country@target-Code@country>Code@country-Country@economy>economy>Service@economy', 'Country@target-Code@country>Code@country-Country@economy>economy>Industry@economy', 'Country@target-Code@country>Code@country-Country@economy>economy>Inflation@economy', 'Country@target-Code@country>Code@country-Country@encompasses>encompasses>Percentage@encompasses', 'Country@target-Code@country>Code@country-Country@encompasses>Continent@encompasses-Name@continent>continent>Area@continent', 'Country@target-Code@country>Code@country-Country@ethnicgroup>ethnicgroup>Name@ethnicgroup', 'Country@target-Code@country>Code@country-Country@ethnicgroup>ethnicgroup>Percentage@ethnicgroup', 'Country@target-Code@country>Code@country-Country@ismember>ismember>Type@ismember', 'Country@target-Code@country>Code@country-Country@ismember>Organization@ismember-Abbreviation@organization>organization>Name@organization', 'Country@target-Code@country>Code@country-Country@ismember>Organization@ismember-Abbreviation@organization>organization>Established@organization', 'Country@target-Code@country>Code@country-Country@language>language>Name@language', 'Country@target-Code@country>Code@country-Country@language>language>Percentage@language', 'Country@target-Code@country>Code@country-Country@politics>politics>Independence@politics', 'Country@target-Code@country>Code@country-Country@politics>politics>Government@politics', 'Country@target-Code@country>Code@country-Country@politics>Dependent@politics-Code@country>country>Name@country', 'Country@target-Code@country>Code@country-Country@politics>Dependent@politics-Code@country>country>Capital@country', 'Country@target-Code@country>Code@country-Country@politics>Dependent@politics-Code@country>country>Province@country', 'Country@target-Code@country>Code@country-Country@politics>Dependent@politics-Code@country>country>Area@country', 'Country@target-Code@country>Code@country-Country@politics>Dependent@politics-Code@country>country>Population@country', 'Country@target-Code@country>Code@country-Dependent@politics>politics>Independence@politics', 'Country@target-Code@country>Code@country-Dependent@politics>politics>Government@politics', 'Country@target-Code@country>Code@country-Dependent@politics>Country@politics-Code@country>country>Name@country', 'Country@target-Code@country>Code@country-Dependent@politics>Country@politics-Code@country>country>Capital@country', 'Country@target-Code@country>Code@country-Dependent@politics>Country@politics-Code@country>country>Province@country', 'Country@target-Code@country>Code@country-Dependent@politics>Country@politics-Code@country>country>Area@country', 'Country@target-Code@country>Code@country-Dependent@politics>Country@politics-Code@country>country>Population@country', 'Country@target-Code@country>Code@country-Country@population>population>Population_Growth@population', 'Country@target-Code@country>Code@country-Country@population>population>Infant_Mortality@population', 'Country@target-Code@country>Code@country-Country@province>province>Population@province', 'Country@target-Code@country>Code@country-Country@province>province>Area@province', 'Country@target-Code@country>Code@country-Country@province>province>Capital@province', 'Country@target-Code@country>Code@country-Country@province>province>CapProv@province', 'Country@target-Code@country>Code@country-Country@province>Country@province-Country@city>city>Population@city', 'Country@target-Code@country>Code@country-Country@province>Country@province-Country@city>city>Longitude@city', 'Country@target-Code@country>Code@country-Country@province>Country@province-Country@city>city>Latitude@city', 'Country@target-Code@country>Code@country-Country@province>Name@province-Province@city>city>Population@city', 'Country@target-Code@country>Code@country-Country@province>Name@province-Province@city>city>Longitude@city', 'Country@target-Code@country>Code@country-Country@province>Name@province-Province@city>city>Latitude@city', 'Country@target-Code@country>Code@country-Country@province>Country@province-Country@organization>organization>Name@organization', 'Country@target-Code@country>Code@country-Country@province>Country@province-Country@organization>organization>Established@organization', 'Country@target-Code@country>Code@country-Country@province>Name@province-Province@organization>organization>Name@organization', 'Country@target-Code@country>Code@country-Country@province>Name@province-Province@organization>organization>Established@organization', 'Country@target-Code@country>Code@country-Country@religion>religion>Name@religion', 'Country@target-Code@country>Code@country-Country@religion>religion>Percentage@religion']\n",
    "r9_schemes = ['Country@target-Code@country>Code@country-Country@politics>Dependent@politics-Code@country>country>Population@country', 'Country@target-Code@country>Code@country-Country@province>Name@province-Province@organization>organization>Established@organization', 'Country@target-Code@country>Code@country-Country@province>Country@province-Country@organization>organization>Name@organization', 'Country@target-Code@country>Code@country-Dependent@politics>Country@politics-Code@country>country>Name@country', 'Country@target-Code@country>Code@country-Country@province>Name@province-Province@city>city>Population@city', 'Country@target-Code@country>Code@country-Dependent@politics>politics>Government@politics', 'Country@target-Code@country>Code@country-Country1@borders>Country2@borders-Code@country>country>Province@country', 'Country@target-Code@country>Code@country-Country@population>population>Population_Growth@population', 'Country@target-Code@country>Code@country-Country@economy>economy>Service@economy', 'Country@target-Code@country>Code@country-Country@ethnicgroup>ethnicgroup>Name@ethnicgroup', 'Country@target-Code@country>Code@country-Country@province>province>Population@province', 'Country@target-Code@country>Code@country-Country@ismember>ismember>Type@ismember', 'Country@target-Code@country>Code@country-Dependent@politics>Country@politics-Code@country>country>Capital@country', 'Country@target-Code@country>Code@country-Country1@borders>borders>Length@borders', 'Country@target-Code@country>country>Name@country', 'Country@target-Code@country>Code@country-Dependent@politics>politics>Independence@politics', 'Country@target-Code@country>Code@country-Country2@borders>Country1@borders-Code@country>country>Name@country', 'Country@target-Code@country>Code@country-Dependent@politics>Country@politics-Code@country>country>Population@country', 'Country@target-Code@country>Code@country-Country@economy>economy>Inflation@economy', 'Country@target-Code@country>Code@country-Country1@borders>Country2@borders-Code@country>country>Population@country', 'Country@target-Code@country>Code@country-Country2@borders>Country1@borders-Code@country>country>Area@country', 'Country@target-Code@country>Code@country-Country2@borders>Country1@borders-Code@country>country>Province@country', 'Country@target-Code@country>Code@country-Country@province>Name@province-Province@organization>organization>Name@organization', 'Country@target-Code@country>Code@country-Country@ismember>Organization@ismember-Abbreviation@organization>organization>Established@organization', 'Country@target-Code@country>Code@country-Country@province>Country@province-Country@city>city>Latitude@city', 'Country@target-Code@country>Code@country-Country@politics>Dependent@politics-Code@country>country>Area@country', 'Country@target-Code@country>Code@country-Country@province>Country@province-Country@city>city>Population@city', 'Country@target-Code@country>country>Province@country', 'Country@target-Code@country>Code@country-Country@ethnicgroup>ethnicgroup>Percentage@ethnicgroup', 'Country@target-Code@country>Code@country-Country@religion>religion>Percentage@religion']\n",
    "for scheme in sorted(all_schemes):\n",
    "    if scheme in r6_schemes:\n",
    "        print(f'\\033[1;32;41m{scheme}')\n",
    "    else:\n",
    "        print(f'\\033[1;31;41m{scheme}')\n",
    "    # print(f'\\033[1;35;47m{scheme}') #purpule"
   ]
  },
  {
   "cell_type": "code",
   "execution_count": 32,
   "id": "ad9e5dbc",
   "metadata": {},
   "outputs": [
    {
     "name": "stdout",
     "output_type": "stream",
     "text": [
      "Country@target-Code@country>Code@country-Country1@borders>borders>Length@borders\n",
      "Country@target-Code@country>Code@country-Country2@borders>Country1@borders-Code@country>country>Name@country\n",
      "Country@target-Code@country>Code@country-Country2@borders>Country1@borders-Code@country>country>Province@country\n",
      "Country@target-Code@country>Code@country-Country@ethnicgroup>ethnicgroup>Percentage@ethnicgroup\n",
      "Country@target-Code@country>Code@country-Country@politics>Dependent@politics-Code@country>country>Area@country\n",
      "Country@target-Code@country>Code@country-Country@population>population>Population_Growth@population\n",
      "Country@target-Code@country>Code@country-Country@province>Country@province-Country@city>city>Latitude@city\n",
      "Country@target-Code@country>Code@country-Country@province>Country@province-Country@city>city>Population@city\n",
      "Country@target-Code@country>Code@country-Country@province>Name@province-Province@organization>organization>Name@organization\n",
      "Country@target-Code@country>Code@country-Country@religion>religion>Percentage@religion\n",
      "Country@target-Code@country>Code@country-Dependent@politics>Country@politics-Code@country>country>Name@country\n",
      "Country@target-Code@country>Code@country-Dependent@politics>politics>Independence@politics\n",
      "Country@target-Code@country>country>Province@country\n"
     ]
    }
   ],
   "source": [
    "# schemes in r6 (good) and not in r9 (bad) | |num schames| = 13\n",
    "for scheme in sorted(r6_schemes):\n",
    "    if scheme in r9_schemes:\n",
    "        print(f'{scheme}')"
   ]
  },
  {
   "cell_type": "code",
   "execution_count": 33,
   "id": "9b84c496",
   "metadata": {},
   "outputs": [
    {
     "name": "stdout",
     "output_type": "stream",
     "text": [
      "Country@target-Code@country>Code@country-Country@religion>religion>Percentage@religion\n"
     ]
    }
   ],
   "source": [
    "r6_schemes = ['Country@target-Code@country>country>Capital@country', 'Country@target-Code@country>Code@country-Country1@borders>Country2@borders-Code@country>country>Capital@country', 'Country@target-Code@country>Code@country-Dependent@politics>Country@politics-Code@country>country>Name@country', 'Country@target-Code@country>Code@country-Country2@borders>Country1@borders-Code@country>country>Name@country', 'Country@target-Code@country>Code@country-Dependent@politics>politics>Independence@politics', 'Country@target-Code@country>Code@country-Country@province>Country@province-Country@city>city>Latitude@city', 'Country@target-Code@country>Code@country-Country@politics>Dependent@politics-Code@country>country>Area@country', 'Country@target-Code@country>Code@country-Country@religion>religion>Name@religion', 'Country@target-Code@country>Code@country-Country@ethnicgroup>ethnicgroup>Percentage@ethnicgroup', 'Country@target-Code@country>Code@country-Country1@borders>borders>Length@borders', 'Country@target-Code@country>Code@country-Country@encompasses>Continent@encompasses-Name@continent>continent>Area@continent', 'Country@target-Code@country>Code@country-Country@province>Name@province-Province@city>city>Longitude@city', 'Country@target-Code@country>country>Province@country', 'Country@target-Code@country>Code@country-Country@province>Country@province-Country@organization>organization>Established@organization', 'Country@target-Code@country>Code@country-Country@religion>religion>Percentage@religion', 'Country@target-Code@country>Code@country-Country@province>Name@province-Province@organization>organization>Name@organization', 'Country@target-Code@country>Code@country-Country2@borders>borders>Length@borders', 'Country@target-Code@country>Code@country-Country@population>population>Population_Growth@population', 'Country@target-Code@country>Code@country-Country@province>Country@province-Country@city>city>Population@city', 'Country@target-Code@country>Code@country-Country@language>language>Percentage@language', 'Country@target-Code@country>Code@country-Country2@borders>Country1@borders-Code@country>country>Capital@country', 'Country@target-Code@country>country>Area@country', 'Country@target-Code@country>Code@country-Country@province>province>Area@province', 'Country@target-Code@country>Code@country-Country@politics>Dependent@politics-Code@country>country>Capital@country', 'Country@target-Code@country>Code@country-Country@ismember>Organization@ismember-Abbreviation@organization>organization>Name@organization', 'Country@target-Code@country>Code@country-Country1@borders>Country2@borders-Code@country>country>Name@country', 'Country@target-Code@country>Code@country-Country2@borders>Country1@borders-Code@country>country>Population@country', 'Country@target-Code@country>country>Population@country', 'Country@target-Code@country>Code@country-Country2@borders>Country1@borders-Code@country>country>Province@country', 'Country@target-Code@country>Code@country-Country@politics>Dependent@politics-Code@country>country>Province@country']\n",
    "\n",
    "for scheme in r6_schemes:\n",
    "    if scheme not in ['Country@target-Code@country>Code@country-Dependent@politics>politics>Independence@politics', 'Country@target-Code@country>Code@country-Country@ethnicgroup>ethnicgroup>Percentage@ethnicgroup', 'Country@target-Code@country>Code@country-Country@encompasses>Continent@encompasses-Name@continent>continent>Area@continent', 'Country@target-Code@country>country>Population@country', 'Country@target-Code@country>Code@country-Country1@borders>Country2@borders-Code@country>country>Name@country', 'Country@target-Code@country>Code@country-Country@province>Name@province-Province@city>city>Longitude@city', 'Country@target-Code@country>Code@country-Country@province>province>Area@province', 'Country@target-Code@country>Code@country-Dependent@politics>Country@politics-Code@country>country>Name@country', 'Country@target-Code@country>Code@country-Country2@borders>Country1@borders-Code@country>country>Population@country', 'Country@target-Code@country>Code@country-Country@language>language>Percentage@language', 'Country@target-Code@country>Code@country-Country1@borders>Country2@borders-Code@country>country>Capital@country', 'Country@target-Code@country>Code@country-Country2@borders>Country1@borders-Code@country>country>Capital@country', 'Country@target-Code@country>Code@country-Country2@borders>Country1@borders-Code@country>country>Province@country', 'Country@target-Code@country>Code@country-Country@province>Country@province-Country@city>city>Latitude@city', 'Country@target-Code@country>Code@country-Country@politics>Dependent@politics-Code@country>country>Province@country', 'Country@target-Code@country>Code@country-Country1@borders>borders>Length@borders', 'Country@target-Code@country>Code@country-Country@province>Name@province-Province@organization>organization>Name@organization', 'Country@target-Code@country>Code@country-Country2@borders>borders>Length@borders', 'Country@target-Code@country>Code@country-Country@politics>Dependent@politics-Code@country>country>Area@country', 'Country@target-Code@country>Code@country-Country@population>population>Population_Growth@population', 'Country@target-Code@country>Code@country-Country@politics>Dependent@politics-Code@country>country>Capital@country', 'Country@target-Code@country>Code@country-Country@province>Country@province-Country@organization>organization>Established@organization', 'Country@target-Code@country>Code@country-Country@province>Country@province-Country@city>city>Population@city', 'Country@target-Code@country>Code@country-Country2@borders>Country1@borders-Code@country>country>Name@country', 'Country@target-Code@country>country>Province@country', 'Country@target-Code@country>Code@country-Country@religion>religion>Name@religion', 'Country@target-Code@country>country>Capital@country', 'Country@target-Code@country>country>Area@country', 'Country@target-Code@country>Code@country-Country@ismember>Organization@ismember-Abbreviation@organization>organization>Name@organization']:\n",
    "                print(scheme)"
   ]
  },
  {
   "cell_type": "markdown",
   "id": "8f5bde22",
   "metadata": {},
   "source": [
    "# Enthropy of walk schemes experiments to reduce number of schemes"
   ]
  },
  {
   "cell_type": "code",
   "execution_count": 39,
   "id": "2d18f6d8",
   "metadata": {},
   "outputs": [],
   "source": [
    "import json\n",
    "with open('scheme_tuple_map.json', 'r') as scheme_tuple_map_file:\n",
    "    scheme_tuple_map = json.load(scheme_tuple_map_file)\n",
    "#print(scheme_tuple_map)"
   ]
  },
  {
   "cell_type": "code",
   "execution_count": 40,
   "id": "51b08fd3",
   "metadata": {},
   "outputs": [
    {
     "name": "stdout",
     "output_type": "stream",
     "text": [
      "1.5171063970610277\n",
      "1.5171063970610277\n",
      "1.5171063970610277\n",
      "1.5171063970610277\n"
     ]
    }
   ],
   "source": [
    "import numpy as np\n",
    "from scipy.stats import entropy\n",
    "from math import log, e\n",
    "import pandas as pd\n",
    "\n",
    "import timeit\n",
    "\n",
    "def entropy1(labels, base=None):\n",
    "  value,counts = np.unique(labels, return_counts=True)\n",
    "  return entropy(counts, base=base)\n",
    "\n",
    "def entropy2(labels, base=None):\n",
    "  \"\"\" Computes entropy of label distribution. \"\"\"\n",
    "\n",
    "  n_labels = len(labels)\n",
    "\n",
    "  if n_labels <= 1:\n",
    "    return 0\n",
    "\n",
    "  value,counts = np.unique(labels, return_counts=True)\n",
    "  probs = counts / n_labels\n",
    "  n_classes = np.count_nonzero(probs)\n",
    "\n",
    "  if n_classes <= 1:\n",
    "    return 0\n",
    "\n",
    "  ent = 0.\n",
    "\n",
    "  # Compute entropy\n",
    "  base = e if base is None else base\n",
    "  for i in probs:\n",
    "    ent -= i * log(i, base)\n",
    "\n",
    "  return ent\n",
    "\n",
    "def entropy3(labels, base=None):\n",
    "  vc = pd.Series(labels).value_counts(normalize=True, sort=False)\n",
    "  base = e if base is None else base\n",
    "  return -(vc * np.log(vc)/np.log(base)).sum()\n",
    "\n",
    "def entropy4(labels, base=None):\n",
    "  value,counts = np.unique(labels, return_counts=True)\n",
    "  norm_counts = counts / counts.sum()\n",
    "  base = e if base is None else base\n",
    "  return -(norm_counts * np.log(norm_counts)/np.log(base)).sum()\n",
    "\n",
    "labels = [1,3,5,2,3,5,3,2,1,3,4,5]\n",
    "\n",
    "print(entropy1(labels))\n",
    "print(entropy2(labels))\n",
    "print(entropy3(labels))\n",
    "print(entropy4(labels))"
   ]
  },
  {
   "cell_type": "code",
   "execution_count": 41,
   "id": "71ff628f",
   "metadata": {},
   "outputs": [
    {
     "name": "stdout",
     "output_type": "stream",
     "text": [
      "dict_values([8, 6, 4, 0, 2, 4, 4, 0, 0, 0, 4, 4, 2, 0, 4, 0, 5, 5, 2, 3, 3, 5, 9, 0, 1, 0, 0, 5, 2, 0, 6, 0, 1, 4, 4, 0, 4, 0, 0, 0, 2, 0, 0, 3, 5, 3, 0, 1, 7, 3, 5, 1, 2, 4, 2, 3, 0, 1, 0, 0, 0, 0, 2, 1, 0, 2, 1, 2, 0, 2, 0, 0, 0, 2, 6, 1, 1, 3, 3, 4, 4, 4, 0, 5, 0, 0, 0, 3, 3, 5, 0, 1, 0, 4, 4, 2, 1, 0, 1, 1, 0, 0, 0, 2, 1, 0, 1, 1, 2, 5, 0, 0, 1, 2, 3, 3, 0, 0, 1, 0, 0, 0, 0, 0, 3, 0, 0, 1, 0, 1, 3, 1, 0, 1, 1, 2, 2, 0, 1, 0, 0, 3, 0, 1, 3, 1, 0, 2, 2, 2, 0, 0, 0, 2, 0, 0, 1, 1, 2, 0, 0, 1, 0, 0, 0, 1, 0, 0, 0, 2, 0, 1, 2, 1, 0, 1, 0, 1, 0, 0, 0, 0, 0, 0, 0, 0, 0, 0, 0, 0, 0, 0, 0, 0, 0, 0, 0, 0, 0, 0, 0, 2, 0, 0])\n"
     ]
    },
    {
     "data": {
      "text/plain": [
       "1.582891506738216"
      ]
     },
     "execution_count": 41,
     "metadata": {},
     "output_type": "execute_result"
    }
   ],
   "source": [
    "sc = scheme_tuple_map['Country@target-Code@country>Code@country-Country1@borders>Country2@borders-Code@country>country']\n",
    "sc_lens = {source:len(dests) for source,dests in sc.items()}.values()\n",
    "print(sc_lens)\n",
    "entropy3(sc_lens)"
   ]
  },
  {
   "cell_type": "code",
   "execution_count": 42,
   "id": "76386cc6",
   "metadata": {
    "collapsed": true
   },
   "outputs": [
    {
     "name": "stdout",
     "output_type": "stream",
     "text": [
      "Entropy=-0.0 , Walk Scheme=target\n",
      "Entropy=-0.0 , Walk Scheme=Country@target-Code@country>country\n",
      "Entropy=1.582891506738216 , Walk Scheme=Country@target-Code@country>Code@country-Country1@borders>borders\n",
      "Entropy=1.582891506738216 , Walk Scheme=Country@target-Code@country>Code@country-Country1@borders>Country2@borders-Code@country>country\n",
      "Entropy=1.5614641834182732 , Walk Scheme=Country@target-Code@country>Code@country-Country2@borders>borders\n",
      "Entropy=1.5614641834182732 , Walk Scheme=Country@target-Code@country>Code@country-Country2@borders>Country1@borders-Code@country>country\n",
      "Entropy=-0.0 , Walk Scheme=Country@target-Code@country>Code@country-Country@economy>economy\n",
      "Entropy=0.07664880077618422 , Walk Scheme=Country@target-Code@country>Code@country-Country@encompasses>encompasses\n",
      "Entropy=0.07664880077618422 , Walk Scheme=Country@target-Code@country>Code@country-Country@encompasses>Continent@encompasses-Name@continent>continent\n",
      "Entropy=1.9038940947073166 , Walk Scheme=Country@target-Code@country>Code@country-Country@ethnicgroup>ethnicgroup\n",
      "Entropy=3.891404275282037 , Walk Scheme=Country@target-Code@country>Code@country-Country@ismember>ismember\n",
      "Entropy=3.891404275282037 , Walk Scheme=Country@target-Code@country>Code@country-Country@ismember>Organization@ismember-Abbreviation@organization>organization\n",
      "Entropy=1.007728719883409 , Walk Scheme=Country@target-Code@country>Code@country-Country@language>language\n",
      "Entropy=-0.0 , Walk Scheme=Country@target-Code@country>Code@country-Country@politics>politics\n",
      "Entropy=0.39994886927744955 , Walk Scheme=Country@target-Code@country>Code@country-Country@politics>Dependent@politics-Code@country>country\n",
      "Entropy=0.22403859954860067 , Walk Scheme=Country@target-Code@country>Code@country-Dependent@politics>politics\n",
      "Entropy=0.22403859954860067 , Walk Scheme=Country@target-Code@country>Code@country-Dependent@politics>Country@politics-Code@country>country\n",
      "Entropy=-0.0 , Walk Scheme=Country@target-Code@country>Code@country-Country@population>population\n",
      "Entropy=1.4434207865277848 , Walk Scheme=Country@target-Code@country>Code@country-Country@province>province\n",
      "Entropy=2.1197166294753984 , Walk Scheme=Country@target-Code@country>Code@country-Country@province>Country@province-Country@city>city\n",
      "Entropy=2.19337910597714 , Walk Scheme=Country@target-Code@country>Code@country-Country@province>Name@province-Province@city>city\n",
      "Entropy=0.8409261390173055 , Walk Scheme=Country@target-Code@country>Code@country-Country@province>Country@province-Country@geo_desert>geo_desert\n",
      "Entropy=0.8409261390173055 , Walk Scheme=Country@target-Code@country>Code@country-Country@province>Name@province-Province@geo_desert>geo_desert\n",
      "Entropy=1.246308885724256 , Walk Scheme=Country@target-Code@country>Code@country-Country@province>Country@province-Country@geo_estuary>geo_estuary\n",
      "Entropy=1.2458703460334362 , Walk Scheme=Country@target-Code@country>Code@country-Country@province>Name@province-Province@geo_estuary>geo_estuary\n",
      "Entropy=1.2374054125509377 , Walk Scheme=Country@target-Code@country>Code@country-Country@province>Country@province-Country@geo_island>geo_island\n",
      "Entropy=1.2408245059893768 , Walk Scheme=Country@target-Code@country>Code@country-Country@province>Name@province-Province@geo_island>geo_island\n",
      "Entropy=1.1134098801092767 , Walk Scheme=Country@target-Code@country>Code@country-Country@province>Country@province-Country@geo_lake>geo_lake\n",
      "Entropy=1.1134788078749855 , Walk Scheme=Country@target-Code@country>Code@country-Country@province>Name@province-Province@geo_lake>geo_lake\n",
      "Entropy=1.3880405228399477 , Walk Scheme=Country@target-Code@country>Code@country-Country@province>Country@province-Country@geo_mountain>geo_mountain\n",
      "Entropy=1.3820652412673944 , Walk Scheme=Country@target-Code@country>Code@country-Country@province>Name@province-Province@geo_mountain>geo_mountain\n",
      "Entropy=1.8950177676163502 , Walk Scheme=Country@target-Code@country>Code@country-Country@province>Country@province-Country@geo_river>geo_river\n",
      "Entropy=1.9111119180534588 , Walk Scheme=Country@target-Code@country>Code@country-Country@province>Name@province-Province@geo_river>geo_river\n",
      "Entropy=1.8942734348354493 , Walk Scheme=Country@target-Code@country>Code@country-Country@province>Country@province-Country@geo_sea>geo_sea\n",
      "Entropy=1.903803041808598 , Walk Scheme=Country@target-Code@country>Code@country-Country@province>Name@province-Province@geo_sea>geo_sea\n",
      "Entropy=1.039237705647399 , Walk Scheme=Country@target-Code@country>Code@country-Country@province>Country@province-Country@geo_source>geo_source\n",
      "Entropy=1.039237705647399 , Walk Scheme=Country@target-Code@country>Code@country-Country@province>Name@province-Province@geo_source>geo_source\n",
      "Entropy=1.887018924535129 , Walk Scheme=Country@target-Code@country>Code@country-Country@province>Name@province-Province@located>located\n",
      "Entropy=1.8619111969754842 , Walk Scheme=Country@target-Code@country>Code@country-Country@province>Country@province-Country@located>located\n",
      "Entropy=1.0442044538977495 , Walk Scheme=Country@target-Code@country>Code@country-Country@province>Name@province-Province@locatedon>locatedon\n",
      "Entropy=1.0403008193078132 , Walk Scheme=Country@target-Code@country>Code@country-Country@province>Country@province-Country@locatedon>locatedon\n",
      "Entropy=0.7622736648472739 , Walk Scheme=Country@target-Code@country>Code@country-Country@province>Country@province-Country@organization>organization\n",
      "Entropy=0.7637692493529217 , Walk Scheme=Country@target-Code@country>Code@country-Country@province>Name@province-Province@organization>organization\n",
      "Entropy=1.4151703229231538 , Walk Scheme=Country@target-Code@country>Code@country-Country@religion>religion\n"
     ]
    }
   ],
   "source": [
    "for scheme,row_map in scheme_tuple_map.items():\n",
    "    print(f\"Entropy={entropy3({source:len(dests) for source,dests in row_map.items()}.values())} , Walk Scheme={scheme}\")"
   ]
  },
  {
   "cell_type": "code",
   "execution_count": 43,
   "id": "74c16395",
   "metadata": {
    "collapsed": true
   },
   "outputs": [
    {
     "name": "stdout",
     "output_type": "stream",
     "text": [
      "Sampled_Varience=0 , Walk Scheme=target\n",
      "Sampled_Varience=0 , Walk Scheme=Country@target-Code@country>country\n",
      "Sampled_Varience=3.260769825171448 , Walk Scheme=Country@target-Code@country>Code@country-Country1@borders>borders\n",
      "Sampled_Varience=3.260769825171448 , Walk Scheme=Country@target-Code@country>Code@country-Country1@borders>Country2@borders-Code@country>country\n",
      "Sampled_Varience=3.909784603496571 , Walk Scheme=Country@target-Code@country>Code@country-Country2@borders>borders\n",
      "Sampled_Varience=3.909784603496571 , Walk Scheme=Country@target-Code@country>Code@country-Country2@borders>Country1@borders-Code@country>country\n",
      "Sampled_Varience=0 , Walk Scheme=Country@target-Code@country>Code@country-Country@economy>economy\n",
      "Sampled_Varience=0.014560996812518111 , Walk Scheme=Country@target-Code@country>Code@country-Country@encompasses>encompasses\n",
      "Sampled_Varience=0.014560996812518111 , Walk Scheme=Country@target-Code@country>Code@country-Country@encompasses>Continent@encompasses-Name@continent>continent\n",
      "Sampled_Varience=3.6487974500144884 , Walk Scheme=Country@target-Code@country>Code@country-Country@ethnicgroup>ethnicgroup\n",
      "Sampled_Varience=349.29013329469717 , Walk Scheme=Country@target-Code@country>Code@country-Country@ismember>ismember\n",
      "Sampled_Varience=349.29013329469717 , Walk Scheme=Country@target-Code@country>Code@country-Country@ismember>Organization@ismember-Abbreviation@organization>organization\n",
      "Sampled_Varience=1.3834395827296435 , Walk Scheme=Country@target-Code@country>Code@country-Country@language>language\n",
      "Sampled_Varience=0 , Walk Scheme=Country@target-Code@country>Code@country-Country@politics>politics\n",
      "Sampled_Varience=0.11899932386747804 , Walk Scheme=Country@target-Code@country>Code@country-Country@politics>Dependent@politics-Code@country>country\n",
      "Sampled_Varience=0.6696368202453394 , Walk Scheme=Country@target-Code@country>Code@country-Dependent@politics>politics\n",
      "Sampled_Varience=0.6696368202453394 , Walk Scheme=Country@target-Code@country>Code@country-Dependent@politics>Country@politics-Code@country>country\n",
      "Sampled_Varience=0 , Walk Scheme=Country@target-Code@country>Code@country-Country@population>population\n",
      "Sampled_Varience=113.70875591615956 , Walk Scheme=Country@target-Code@country>Code@country-Country@province>province\n",
      "Sampled_Varience=1153.5152129817445 , Walk Scheme=Country@target-Code@country>Code@country-Country@province>Country@province-Country@city>city\n",
      "Sampled_Varience=1153.0289529604945 , Walk Scheme=Country@target-Code@country>Code@country-Country@province>Name@province-Province@city>city\n",
      "Sampled_Varience=5.651381242152033 , Walk Scheme=Country@target-Code@country>Code@country-Country@province>Country@province-Country@geo_desert>geo_desert\n",
      "Sampled_Varience=5.651381242152033 , Walk Scheme=Country@target-Code@country>Code@country-Country@province>Name@province-Province@geo_desert>geo_desert\n",
      "Sampled_Varience=8.318651598570462 , Walk Scheme=Country@target-Code@country>Code@country-Country@province>Country@province-Country@geo_estuary>geo_estuary\n",
      "Sampled_Varience=8.239833864580314 , Walk Scheme=Country@target-Code@country>Code@country-Country@province>Name@province-Province@geo_estuary>geo_estuary\n",
      "Sampled_Varience=17.795107698251712 , Walk Scheme=Country@target-Code@country>Code@country-Country@province>Country@province-Country@geo_island>geo_island\n",
      "Sampled_Varience=17.78634212305612 , Walk Scheme=Country@target-Code@country>Code@country-Country@province>Name@province-Province@geo_island>geo_island\n",
      "Sampled_Varience=10.783444412247658 , Walk Scheme=Country@target-Code@country>Code@country-Country@province>Country@province-Country@geo_lake>geo_lake\n",
      "Sampled_Varience=10.945305708490293 , Walk Scheme=Country@target-Code@country>Code@country-Country@province>Name@province-Province@geo_lake>geo_lake\n",
      "Sampled_Varience=9.382497826716893 , Walk Scheme=Country@target-Code@country>Code@country-Country@province>Country@province-Country@geo_mountain>geo_mountain\n",
      "Sampled_Varience=9.66821211243118 , Walk Scheme=Country@target-Code@country>Code@country-Country@province>Name@province-Province@geo_mountain>geo_mountain\n",
      "Sampled_Varience=62.09176084226794 , Walk Scheme=Country@target-Code@country>Code@country-Country@province>Country@province-Country@geo_river>geo_river\n",
      "Sampled_Varience=62.49570172896745 , Walk Scheme=Country@target-Code@country>Code@country-Country@province>Name@province-Province@geo_river>geo_river\n",
      "Sampled_Varience=26.54177533082198 , Walk Scheme=Country@target-Code@country>Code@country-Country@province>Country@province-Country@geo_sea>geo_sea\n",
      "Sampled_Varience=26.87675070028011 , Walk Scheme=Country@target-Code@country>Code@country-Country@province>Name@province-Province@geo_sea>geo_sea\n",
      "Sampled_Varience=5.99620882835893 , Walk Scheme=Country@target-Code@country>Code@country-Country@province>Country@province-Country@geo_source>geo_source\n",
      "Sampled_Varience=5.99620882835893 , Walk Scheme=Country@target-Code@country>Code@country-Country@province>Name@province-Province@geo_source>geo_source\n",
      "Sampled_Varience=61.200424997585245 , Walk Scheme=Country@target-Code@country>Code@country-Country@province>Name@province-Province@located>located\n",
      "Sampled_Varience=61.131459480343864 , Walk Scheme=Country@target-Code@country>Code@country-Country@province>Country@province-Country@located>located\n",
      "Sampled_Varience=24.49425287356322 , Walk Scheme=Country@target-Code@country>Code@country-Country@province>Name@province-Province@locatedon>locatedon\n",
      "Sampled_Varience=24.500796870472325 , Walk Scheme=Country@target-Code@country>Code@country-Country@province>Country@province-Country@locatedon>locatedon\n",
      "Sampled_Varience=4.936153771853569 , Walk Scheme=Country@target-Code@country>Code@country-Country@province>Country@province-Country@organization>organization\n",
      "Sampled_Varience=4.965710422099874 , Walk Scheme=Country@target-Code@country>Code@country-Country@province>Name@province-Province@organization>organization\n",
      "Sampled_Varience=1.3603786342123056 , Walk Scheme=Country@target-Code@country>Code@country-Country@religion>religion\n"
     ]
    }
   ],
   "source": [
    "import statistics\n",
    "for scheme,row_map in scheme_tuple_map.items():\n",
    "    print(f\"Sampled_Varience={statistics.variance({source:len(dests) for source,dests in row_map.items()}.values())} , Walk Scheme={scheme}\")"
   ]
  },
  {
   "cell_type": "code",
   "execution_count": 50,
   "id": "8f1414af",
   "metadata": {
    "collapsed": true
   },
   "outputs": [
    {
     "name": "stdout",
     "output_type": "stream",
     "text": [
      "\u001b[1;31;47mSampled_Varience=14.2828568570857 , Walk Scheme=target\n",
      "\u001b[1;31;47mSampled_Varience=14.2828568570857 , Walk Scheme=Country@target-Code@country>country\n",
      "\u001b[1;31;47mSampled_Varience=32.38826948140329 , Walk Scheme=Country@target-Code@country>Code@country-Country1@borders>borders\n",
      "\u001b[1;31;47mSampled_Varience=32.38826948140329 , Walk Scheme=Country@target-Code@country>Code@country-Country1@borders>Country2@borders-Code@country>country\n",
      "\u001b[1;31;47mSampled_Varience=34.322004603461025 , Walk Scheme=Country@target-Code@country>Code@country-Country2@borders>borders\n",
      "\u001b[1;31;47mSampled_Varience=34.322004603461025 , Walk Scheme=Country@target-Code@country>Code@country-Country2@borders>Country1@borders-Code@country>country\n",
      "\u001b[1;31;47mSampled_Varience=14.2828568570857 , Walk Scheme=Country@target-Code@country>Code@country-Country@economy>economy\n",
      "\u001b[1;31;47mSampled_Varience=14.594519519326424 , Walk Scheme=Country@target-Code@country>Code@country-Country@encompasses>encompasses\n",
      "\u001b[1;31;47mSampled_Varience=14.594519519326424 , Walk Scheme=Country@target-Code@country>Code@country-Country@encompasses>Continent@encompasses-Name@continent>continent\n",
      "\u001b[1;31;47mSampled_Varience=41.95235392680606 , Walk Scheme=Country@target-Code@country>Code@country-Country@ethnicgroup>ethnicgroup\n",
      "\u001b[1;31;47mSampled_Varience=567.3244221783511 , Walk Scheme=Country@target-Code@country>Code@country-Country@ismember>ismember\n",
      "\u001b[1;31;47mSampled_Varience=567.3244221783511 , Walk Scheme=Country@target-Code@country>Code@country-Country@ismember>Organization@ismember-Abbreviation@organization>organization\n",
      "\u001b[1;31;47mSampled_Varience=18.841443681416774 , Walk Scheme=Country@target-Code@country>Code@country-Country@language>language\n",
      "\u001b[1;31;47mSampled_Varience=14.2828568570857 , Walk Scheme=Country@target-Code@country>Code@country-Country@politics>politics\n",
      "\u001b[1;31;47mSampled_Varience=5.291502622129181 , Walk Scheme=Country@target-Code@country>Code@country-Country@politics>Dependent@politics-Code@country>country\n",
      "\u001b[1;31;47mSampled_Varience=11.789826122551595 , Walk Scheme=Country@target-Code@country>Code@country-Dependent@politics>politics\n",
      "\u001b[1;31;47mSampled_Varience=11.789826122551595 , Walk Scheme=Country@target-Code@country>Code@country-Dependent@politics>Country@politics-Code@country>country\n",
      "\u001b[1;31;47mSampled_Varience=14.2828568570857 , Walk Scheme=Country@target-Code@country>Code@country-Country@population>population\n",
      "\u001b[1;31;47mSampled_Varience=173.44451562387323 , Walk Scheme=Country@target-Code@country>Code@country-Country@province>province\n",
      "\u001b[1;31;47mSampled_Varience=517.5557940937383 , Walk Scheme=Country@target-Code@country>Code@country-Country@province>Country@province-Country@city>city\n",
      "\u001b[1;31;47mSampled_Varience=517.485265490719 , Walk Scheme=Country@target-Code@country>Code@country-Country@province>Name@province-Province@city>city\n",
      "\u001b[1;31;47mSampled_Varience=35.482389998420345 , Walk Scheme=Country@target-Code@country>Code@country-Country@province>Country@province-Country@geo_desert>geo_desert\n",
      "\u001b[1;31;47mSampled_Varience=35.482389998420345 , Walk Scheme=Country@target-Code@country>Code@country-Country@province>Name@province-Province@geo_desert>geo_desert\n",
      "\u001b[1;31;47mSampled_Varience=44.13615298142782 , Walk Scheme=Country@target-Code@country>Code@country-Country@province>Country@province-Country@geo_estuary>geo_estuary\n",
      "\u001b[1;31;47mSampled_Varience=43.95452195167182 , Walk Scheme=Country@target-Code@country>Code@country-Country@province>Name@province-Province@geo_estuary>geo_estuary\n",
      "\u001b[1;31;47mSampled_Varience=63.28506932918696 , Walk Scheme=Country@target-Code@country>Code@country-Country@province>Country@province-Country@geo_island>geo_island\n",
      "\u001b[1;31;47mSampled_Varience=63.29296959378664 , Walk Scheme=Country@target-Code@country>Code@country-Country@province>Name@province-Province@geo_island>geo_island\n",
      "\u001b[1;31;47mSampled_Varience=49.21381919745713 , Walk Scheme=Country@target-Code@country>Code@country-Country@province>Country@province-Country@geo_lake>geo_lake\n",
      "\u001b[1;31;47mSampled_Varience=49.56813492557492 , Walk Scheme=Country@target-Code@country>Code@country-Country@province>Name@province-Province@geo_lake>geo_lake\n",
      "\u001b[1;31;47mSampled_Varience=47.56048780237646 , Walk Scheme=Country@target-Code@country>Code@country-Country@province>Country@province-Country@geo_mountain>geo_mountain\n",
      "\u001b[1;31;47mSampled_Varience=48.16637831516918 , Walk Scheme=Country@target-Code@country>Code@country-Country@province>Name@province-Province@geo_mountain>geo_mountain\n",
      "\u001b[1;31;47mSampled_Varience=123.53137253345807 , Walk Scheme=Country@target-Code@country>Code@country-Country@province>Country@province-Country@geo_river>geo_river\n",
      "\u001b[1;31;47mSampled_Varience=123.8628273534881 , Walk Scheme=Country@target-Code@country>Code@country-Country@province>Name@province-Province@geo_river>geo_river\n",
      "\u001b[1;31;47mSampled_Varience=84.92349498224858 , Walk Scheme=Country@target-Code@country>Code@country-Country@province>Country@province-Country@geo_sea>geo_sea\n",
      "\u001b[1;31;47mSampled_Varience=85.32291603080617 , Walk Scheme=Country@target-Code@country>Code@country-Country@province>Name@province-Province@geo_sea>geo_sea\n",
      "\u001b[1;31;47mSampled_Varience=37.21558813185679 , Walk Scheme=Country@target-Code@country>Code@country-Country@province>Country@province-Country@geo_source>geo_source\n",
      "\u001b[1;31;47mSampled_Varience=37.21558813185679 , Walk Scheme=Country@target-Code@country>Code@country-Country@province>Name@province-Province@geo_source>geo_source\n",
      "\u001b[1;31;47mSampled_Varience=122.91460450247563 , Walk Scheme=Country@target-Code@country>Code@country-Country@province>Name@province-Province@located>located\n",
      "\u001b[1;31;47mSampled_Varience=122.8576411950026 , Walk Scheme=Country@target-Code@country>Code@country-Country@province>Country@province-Country@located>located\n",
      "\u001b[1;31;47mSampled_Varience=72.4568837309472 , Walk Scheme=Country@target-Code@country>Code@country-Country@province>Name@province-Province@locatedon>locatedon\n",
      "\u001b[1;31;47mSampled_Varience=72.44998274671983 , Walk Scheme=Country@target-Code@country>Code@country-Country@province>Country@province-Country@locatedon>locatedon\n",
      "\u001b[1;31;47mSampled_Varience=32.68026927673638 , Walk Scheme=Country@target-Code@country>Code@country-Country@province>Country@province-Country@organization>organization\n",
      "\u001b[1;31;47mSampled_Varience=32.77193921634788 , Walk Scheme=Country@target-Code@country>Code@country-Country@province>Name@province-Province@organization>organization\n",
      "\u001b[1;31;47mSampled_Varience=35.4964786985977 , Walk Scheme=Country@target-Code@country>Code@country-Country@religion>religion\n"
     ]
    }
   ],
   "source": [
    "for scheme,row_map in scheme_tuple_map.items():\n",
    "    to_print = f\"Sampled_Varience={np.linalg.norm(list({source:len(dests) for source,dests in row_map.items()}.values()))} , Walk Scheme={scheme}\"\n",
    "    if scheme in r6_schemes:\n",
    "        print(f'\\033[1;32;47m{to_print}')\n",
    "    else:\n",
    "        print(f'\\033[1;31;47m{to_print}')"
   ]
  },
  {
   "cell_type": "code",
   "execution_count": null,
   "id": "20009a8d",
   "metadata": {},
   "outputs": [],
   "source": []
  },
  {
   "cell_type": "code",
   "execution_count": null,
   "id": "a105a3d2",
   "metadata": {},
   "outputs": [],
   "source": []
  }
 ],
 "metadata": {
  "kernelspec": {
   "display_name": "Python 3 (ipykernel)",
   "language": "python",
   "name": "python3"
  },
  "language_info": {
   "codemirror_mode": {
    "name": "ipython",
    "version": 3
   },
   "file_extension": ".py",
   "mimetype": "text/x-python",
   "name": "python",
   "nbconvert_exporter": "python",
   "pygments_lexer": "ipython3",
   "version": "3.9.7"
  }
 },
 "nbformat": 4,
 "nbformat_minor": 5
}
