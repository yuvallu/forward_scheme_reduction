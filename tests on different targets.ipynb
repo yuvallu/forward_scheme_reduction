{
 "cells": [
  {
   "cell_type": "code",
   "execution_count": 46,
   "id": "e9b67226",
   "metadata": {},
   "outputs": [],
   "source": [
    "import os\n",
    "from sklearn.manifold import TSNE\n",
    "from sklearn.datasets import load_iris\n",
    "from numpy import reshape\n",
    "import seaborn as sns\n",
    "import pandas as pd \n",
    "import matplotlib.pyplot as plt\n",
    "from sklearn.decomposition import PCA\n"
   ]
  },
  {
   "cell_type": "code",
   "execution_count": 2,
   "id": "05a5875b",
   "metadata": {},
   "outputs": [
    {
     "name": "stdout",
     "output_type": "stream",
     "text": [
      "0\n"
     ]
    }
   ],
   "source": [
    "print(os.system(\"cmd\"))"
   ]
  },
  {
   "cell_type": "code",
   "execution_count": 69,
   "id": "c3bfdac6",
   "metadata": {},
   "outputs": [],
   "source": [
    "df = pd.read_csv('Datasets\\\\mondial\\\\target.csv')\n",
    "df_population = pd.read_csv('Datasets\\\\mondial\\\\population.csv')\n",
    "df_encompasses = pd.read_csv('Datasets\\\\mondial\\\\encompasses.csv')\n",
    "df_economy = pd.read_csv('Datasets\\\\mondial\\\\economy.csv')\n",
    "df_language = pd.read_csv('Datasets\\\\mondial\\\\language.csv')"
   ]
  },
  {
   "cell_type": "code",
   "execution_count": 4,
   "id": "f1ee1431",
   "metadata": {},
   "outputs": [
    {
     "name": "stdout",
     "output_type": "stream",
     "text": [
      "mondial_original_target\n",
      "Christian        0.637255\n",
      "non-Christian    0.362745\n",
      "Name: Target, dtype: float64\n"
     ]
    }
   ],
   "source": [
    "print(\"mondial_original_target\")\n",
    "print(df[\"Target\"].value_counts(normalize=True))"
   ]
  },
  {
   "cell_type": "code",
   "execution_count": 109,
   "id": "36a14a43",
   "metadata": {},
   "outputs": [
    {
     "name": "stdout",
     "output_type": "stream",
     "text": [
      "mondial_target_infant_mortality_g40\n",
      "False    0.605042\n",
      "True     0.394958\n",
      "Name: Infant_Mortality, dtype: float64\n",
      "columns=['Country', 'Population_Growth', 'Infant_Mortality']\n"
     ]
    }
   ],
   "source": [
    "exp = \"mondial_target_infant_mortality_g40\"\n",
    "df_population = pd.read_csv('Datasets\\\\mondial\\\\population.csv')\n",
    "print(exp)\n",
    "print((df_population[\"Infant_Mortality\"]>40).value_counts(normalize=True))\n",
    "print(f\"columns={list(df_population.columns)}\")\n",
    "mondial_target_infant_mortality_g40=df_population.copy()[[\"Country\", \"Infant_Mortality\"]]\n",
    "mondial_target_infant_mortality_g40[\"Infant_Mortality\"]=(mondial_target_infant_mortality_g40[\"Infant_Mortality\"]>40)\n",
    "mondial_target_infant_mortality_g40.rename(columns={\"Infant_Mortality\":\"Target\"},inplace=True)\n",
    "#mondial_target_infant_mortality_g40.to_csv(f'Datasets\\\\{exp}\\\\target.csv', index=False)  "
   ]
  },
  {
   "cell_type": "code",
   "execution_count": 116,
   "id": "fc6ea5ea",
   "metadata": {},
   "outputs": [
    {
     "name": "stdout",
     "output_type": "stream",
     "text": [
      "mondial_target_population_growth\n",
      "count    238.000000\n",
      "mean       1.563937\n",
      "std        1.656585\n",
      "min       -3.300000\n",
      "25%        0.552500\n",
      "50%        1.540000\n",
      "75%        2.365000\n",
      "max       16.490000\n",
      "Name: Population_Growth, dtype: float64\n",
      "False    0.567227\n",
      "True     0.432773\n",
      "Name: Population_Growth, dtype: float64\n",
      "columns=['Country', 'Population_Growth', 'Infant_Mortality']\n"
     ]
    }
   ],
   "source": [
    "exp = \"mondial_target_population_growth\"\n",
    "df_population = pd.read_csv('Datasets\\\\mondial\\\\population.csv')\n",
    "print(exp)\n",
    "print(df_population[\"Population_Growth\"].describe())\n",
    "print((df_population[\"Population_Growth\"]>1.75).value_counts(normalize=True))\n",
    "print(f\"columns={list(df_population.columns)}\")\n",
    "mondial_target_Population_Growth=df_population.copy()[[\"Country\", \"Population_Growth\"]]\n",
    "mondial_target_Population_Growth[\"Population_Growth\"]=(mondial_target_Population_Growth[\"Population_Growth\"]>1.75)\n",
    "mondial_target_Population_Growth.rename(columns={\"Population_Growth\":\"Target\"},inplace=True)\n",
    "mondial_target_Population_Growth.to_csv(f'Datasets\\\\{exp}\\\\target.csv', index=False)  "
   ]
  },
  {
   "cell_type": "code",
   "execution_count": 70,
   "id": "8b43915c",
   "metadata": {},
   "outputs": [
    {
     "name": "stdout",
     "output_type": "stream",
     "text": [
      "mondial_target_continent\n",
      "Africa               0.227273\n",
      "Europe               0.219008\n",
      "Asia                 0.219008\n",
      "America              0.214876\n",
      "Australia/Oceania    0.119835\n",
      "Name: Continent, dtype: float64\n",
      "columns=['Country', 'Continent', 'Percentage']\n"
     ]
    }
   ],
   "source": [
    "exp = \"mondial_target_continent\"\n",
    "print(exp)\n",
    "print((df_encompasses[\"Continent\"]).value_counts(normalize=True))\n",
    "print(f\"columns={list(df_encompasses.columns)}\")\n",
    "mondial_target_continent=df_encompasses.copy()[[\"Country\", \"Continent\"]]\n",
    "mondial_target_continent.rename(columns={\"Continent\":\"Target\"},inplace=True)\n",
    "mondial_target_continent.to_csv(f'Datasets\\\\{exp}\\\\target.csv', index=False)  "
   ]
  },
  {
   "cell_type": "code",
   "execution_count": 73,
   "id": "a9f78128",
   "metadata": {},
   "outputs": [
    {
     "name": "stdout",
     "output_type": "stream",
     "text": [
      "mondial_target_GDP_g8e3\n",
      "    Country       GDP\n",
      "0         A  152000.0\n",
      "1       AFG   12800.0\n",
      "2        AG     425.0\n",
      "3        AL    4100.0\n",
      "4      AMSA     462.2\n",
      "..      ...       ...\n",
      "233      YE   37100.0\n",
      "234      YV  195500.0\n",
      "235       Z    8900.0\n",
      "236     ZRE   16500.0\n",
      "237      ZW   18100.0\n",
      "\n",
      "[238 rows x 2 columns]\n",
      "True     0.5\n",
      "False    0.5\n",
      "Name: GDP, dtype: float64\n",
      "columns=['Country', 'GDP', 'Agriculture', 'Service', 'Industry', 'Inflation']\n"
     ]
    }
   ],
   "source": [
    "exp = \"mondial_target_GDP_g8e3\"\n",
    "print(exp)\n",
    "print(df_economy[['Country', 'GDP']])\n",
    "# print((df_economy[\"GDP\"]).describe())\n",
    "print((df_economy[\"GDP\"]>8e3).value_counts(normalize=True))\n",
    "print(f\"columns={list(df_economy.columns)}\")\n",
    "mondial_target_GDP_g8e3=df_economy.copy()[[\"Country\", \"GDP\"]]\n",
    "mondial_target_GDP_g8e3[\"GDP\"]=(mondial_target_GDP_g8e3[\"GDP\"]>8e3)\n",
    "mondial_target_GDP_g8e3.rename(columns={\"GDP\":\"Target\"},inplace=True)\n",
    "mondial_target_GDP_g8e3.to_csv(f'Datasets\\\\{exp}\\\\target.csv', index=False)  "
   ]
  },
  {
   "cell_type": "code",
   "execution_count": 108,
   "id": "3549af54",
   "metadata": {},
   "outputs": [
    {
     "name": "stdout",
     "output_type": "stream",
     "text": [
      "860\n",
      "genes\n",
      "columns=['GeneID', 'Localization']\n",
      "4343\n",
      "columns=['GeneID', 'Essential', 'Class', 'Complex', 'Phenotype', 'Motif', 'Chromosome', 'Function', 'Localization']\n",
      "      GeneID      Essential\n",
      "0    G234064      Essential\n",
      "1    G234065  Non-Essential\n",
      "2    G234070  Non-Essential\n",
      "3    G234073  Non-Essential\n",
      "4    G234074      Essential\n",
      "..       ...            ...\n",
      "855  G240410  Non-Essential\n",
      "856  G240468  Non-Essential\n",
      "857  G240490  Non-Essential\n",
      "858  G240494  Non-Essential\n",
      "859  G240504  Non-Essential\n",
      "\n",
      "[812 rows x 2 columns]\n",
      "Non-Essential    0.647783\n",
      "Essential        0.352217\n",
      "Name: Essential, dtype: float64\n"
     ]
    }
   ],
   "source": [
    "exp = \"genes\"\n",
    "df_classification = pd.read_csv('Datasets\\\\genes\\\\classification.csv')\n",
    "print(len(df_classification))\n",
    "print(exp)\n",
    "# print((df_classification[\"Localization\"]).describe())\n",
    "# print((df_classification[\"Localization\"]).value_counts()/len(df_classification[\"Localization\"]))\n",
    "print(f\"columns={list(df_classification.columns)}\")\n",
    "df_genes = pd.read_csv('Datasets\\\\genes\\\\genes.csv')\n",
    "print(len(df_genes))\n",
    "print(f\"columns={list(df_genes.columns)}\")\n",
    "df_joined = df_classification.merge(df_genes, on='GeneID', suffixes=('','_other'), how='left')\n",
    "df_joined = df_joined[['GeneID', 'Essential']].drop_duplicates()\n",
    "df_joined = df_classification.merge(df_joined, on='GeneID', suffixes=('','_other'), how='left')\n",
    "df_joined = df_joined[['GeneID', 'Essential']]\n",
    "df_joined = df_joined.loc[df_joined['Essential'].isin(['Non-Essential', 'Essential'])]\n",
    "print(df_joined)\n",
    "print((df_joined['Essential']).value_counts()/len(df_joined['Essential']))\n",
    "df_joined.to_csv(f'Datasets\\\\genes_essential\\\\classification.csv', index=False)  "
   ]
  },
  {
   "cell_type": "code",
   "execution_count": 18,
   "id": "0da7aead",
   "metadata": {},
   "outputs": [
    {
     "name": "stdout",
     "output_type": "stream",
     "text": [
      "mutagenesis\n",
      "count     188\n",
      "unique      2\n",
      "top       yes\n",
      "freq      125\n",
      "Name: mutagenic, dtype: object\n",
      "yes    0.664894\n",
      "no     0.335106\n",
      "Name: mutagenic, dtype: float64\n",
      "columns=['molecule_id', 'ind1', 'inda', 'logp', 'lumo', 'mutagenic']\n"
     ]
    }
   ],
   "source": [
    "exp = \"mutagenesis\"\n",
    "df_genes = pd.read_csv(f'Datasets\\\\{exp}\\\\molecule.csv')\n",
    "print(exp)\n",
    "print((df_genes[\"mutagenic\"]).describe())\n",
    "print((df_genes[\"mutagenic\"]).value_counts()/len(df_genes[\"mutagenic\"]))\n",
    "# print((df_economy[\"Inflation\"]>6).value_counts(normalize=True))\n",
    "print(f\"columns={list(df_genes.columns)}\")"
   ]
  },
  {
   "cell_type": "code",
   "execution_count": 22,
   "id": "97e6362e",
   "metadata": {},
   "outputs": [
    {
     "name": "stdout",
     "output_type": "stream",
     "text": [
      "world\n",
      "count        239\n",
      "unique         7\n",
      "top       Africa\n",
      "freq          58\n",
      "Name: Continent, dtype: object\n",
      "Africa           0.242678\n",
      "Asia             0.213389\n",
      "Europe           0.192469\n",
      "North America    0.154812\n",
      "Oceania          0.117155\n",
      "South America    0.058577\n",
      "Antarctica       0.020921\n",
      "Name: Continent, dtype: float64\n",
      "columns=['Code', 'Name', 'Continent', 'Region', 'SurfaceArea', 'IndepYear', 'Population', 'LifeExpectancy', 'GNP', 'GNPOld', 'LocalName', 'GovernmentForm', 'HeadOfState', 'Capital', 'Code2']\n"
     ]
    }
   ],
   "source": [
    "exp = \"world\"\n",
    "df_genes = pd.read_csv(f'Datasets\\\\{exp}\\\\country.csv')\n",
    "print(exp)\n",
    "print((df_genes[\"Continent\"]).describe())\n",
    "print((df_genes[\"Continent\"]).value_counts()/len(df_genes[\"Continent\"]))\n",
    "# print((df_economy[\"Inflation\"]>6).value_counts(normalize=True))\n",
    "print(f\"columns={list(df_genes.columns)}\")"
   ]
  },
  {
   "cell_type": "code",
   "execution_count": 66,
   "id": "81c072dc",
   "metadata": {},
   "outputs": [
    {
     "name": "stdout",
     "output_type": "stream",
     "text": [
      "hepatitis\n",
      "count    500.000000\n",
      "mean       0.588000\n",
      "std        0.492688\n",
      "min        0.000000\n",
      "25%        0.000000\n",
      "50%        1.000000\n",
      "75%        1.000000\n",
      "max        1.000000\n",
      "Name: type, dtype: float64\n",
      "1    0.588\n",
      "0    0.412\n",
      "Name: type, dtype: float64\n",
      "columns=['m_id', 'sex', 'age', 'type']\n"
     ]
    }
   ],
   "source": [
    "exp = \"hepatitis\"\n",
    "df_hepatitis = pd.read_csv('Datasets\\\\hepatitis\\\\dispat.csv')\n",
    "print(exp)\n",
    "print((df_hepatitis[\"type\"]).describe())\n",
    "print((df_hepatitis[\"type\"]).value_counts()/len(df_hepatitis[\"type\"]))\n",
    "print(f\"columns={list(df_hepatitis.columns)}\")"
   ]
  },
  {
   "cell_type": "code",
   "execution_count": 8,
   "id": "8d78d46d",
   "metadata": {},
   "outputs": [
    {
     "name": "stdout",
     "output_type": "stream",
     "text": [
      "mondial_target_Inflation_g6\n",
      "False    0.508403\n",
      "True     0.491597\n",
      "Name: Inflation, dtype: float64\n",
      "columns=['Country', 'GDP', 'Agriculture', 'Service', 'Industry', 'Inflation']\n"
     ]
    }
   ],
   "source": [
    "exp = \"mondial_target_Inflation_g6\"\n",
    "print(exp)\n",
    "# print((df_economy[\"Inflation\"]).describe())\n",
    "print((df_economy[\"Inflation\"]>6).value_counts(normalize=True))\n",
    "print(f\"columns={list(df_economy.columns)}\")\n",
    "mondial_target_Inflation_g6=df_economy.copy()[[\"Country\", \"Inflation\"]]\n",
    "mondial_target_Inflation_g6[\"Inflation\"]=(mondial_target_Inflation_g6[\"Inflation\"]>6)\n",
    "mondial_target_Inflation_g6.rename(columns={\"Inflation\":\"Target\"},inplace=True)\n",
    "mondial_target_Inflation_g6.to_csv(f'Datasets\\\\{exp}\\\\target.csv', index=False) "
   ]
  },
  {
   "cell_type": "code",
   "execution_count": 9,
   "id": "88ce3dce",
   "metadata": {},
   "outputs": [
    {
     "name": "stdout",
     "output_type": "stream",
     "text": [
      "mondial_target_latin_language\n",
      "English        0.145833\n",
      "French         0.069444\n",
      "Spanish        0.055556\n",
      "Russian        0.041667\n",
      "German         0.034722\n",
      "                 ...   \n",
      "Luri           0.006944\n",
      "Macedonian     0.006944\n",
      "Montenegrin    0.006944\n",
      "Nepali         0.006944\n",
      "Wallisian      0.006944\n",
      "Name: Name, Length: 74, dtype: float64\n",
      "columns=['Country', 'Name', 'Percentage']\n",
      "False    0.8125\n",
      "True     0.1875\n",
      "Name: Name, dtype: float64\n"
     ]
    },
    {
     "data": {
      "text/html": [
       "<div>\n",
       "<style scoped>\n",
       "    .dataframe tbody tr th:only-of-type {\n",
       "        vertical-align: middle;\n",
       "    }\n",
       "\n",
       "    .dataframe tbody tr th {\n",
       "        vertical-align: top;\n",
       "    }\n",
       "\n",
       "    .dataframe thead th {\n",
       "        text-align: right;\n",
       "    }\n",
       "</style>\n",
       "<table border=\"1\" class=\"dataframe\">\n",
       "  <thead>\n",
       "    <tr style=\"text-align: right;\">\n",
       "      <th></th>\n",
       "      <th>Country</th>\n",
       "      <th>Name</th>\n",
       "    </tr>\n",
       "  </thead>\n",
       "  <tbody>\n",
       "    <tr>\n",
       "      <th>0</th>\n",
       "      <td>AFG</td>\n",
       "      <td>False</td>\n",
       "    </tr>\n",
       "    <tr>\n",
       "      <th>1</th>\n",
       "      <td>NAM</td>\n",
       "      <td>False</td>\n",
       "    </tr>\n",
       "    <tr>\n",
       "      <th>2</th>\n",
       "      <td>MK</td>\n",
       "      <td>False</td>\n",
       "    </tr>\n",
       "    <tr>\n",
       "      <th>3</th>\n",
       "      <td>MNE</td>\n",
       "      <td>False</td>\n",
       "    </tr>\n",
       "    <tr>\n",
       "      <th>4</th>\n",
       "      <td>IR</td>\n",
       "      <td>False</td>\n",
       "    </tr>\n",
       "    <tr>\n",
       "      <th>...</th>\n",
       "      <td>...</td>\n",
       "      <td>...</td>\n",
       "    </tr>\n",
       "    <tr>\n",
       "      <th>139</th>\n",
       "      <td>TM</td>\n",
       "      <td>False</td>\n",
       "    </tr>\n",
       "    <tr>\n",
       "      <th>140</th>\n",
       "      <td>PK</td>\n",
       "      <td>False</td>\n",
       "    </tr>\n",
       "    <tr>\n",
       "      <th>141</th>\n",
       "      <td>TM</td>\n",
       "      <td>False</td>\n",
       "    </tr>\n",
       "    <tr>\n",
       "      <th>142</th>\n",
       "      <td>UZB</td>\n",
       "      <td>False</td>\n",
       "    </tr>\n",
       "    <tr>\n",
       "      <th>143</th>\n",
       "      <td>WAFU</td>\n",
       "      <td>False</td>\n",
       "    </tr>\n",
       "  </tbody>\n",
       "</table>\n",
       "<p>144 rows × 2 columns</p>\n",
       "</div>"
      ],
      "text/plain": [
       "    Country   Name\n",
       "0       AFG  False\n",
       "1       NAM  False\n",
       "2        MK  False\n",
       "3       MNE  False\n",
       "4        IR  False\n",
       "..      ...    ...\n",
       "139      TM  False\n",
       "140      PK  False\n",
       "141      TM  False\n",
       "142     UZB  False\n",
       "143    WAFU  False\n",
       "\n",
       "[144 rows x 2 columns]"
      ]
     },
     "execution_count": 9,
     "metadata": {},
     "output_type": "execute_result"
    }
   ],
   "source": [
    "# didn't do tests because 81% of languages are not \"from Latin\"\n",
    "exp = \"mondial_target_latin_language\"\n",
    "print(exp)\n",
    "# print((df_language[\"Name\"]).describe())\n",
    "latin_languages = [\"Italian\",\"French\",\"Portuguese\",\"Spanish\",\"Romanian\",\"Catalan\",\"Valenciá\",\"Occitan\",\"Galician\",\"Sardo\",\n",
    "                   \"Sicilian\",\"Furlan\",\"Romansch\",\"Ladino\",\"Judeo-Spanish\",\"Ladin\"]\n",
    "print((df_language[\"Name\"]).value_counts(normalize=True))\n",
    "print(f\"columns={list(df_language.columns)}\")\n",
    "mondial_target_latin_language=df_language.copy()[[\"Country\", \"Name\"]]\n",
    "mondial_target_latin_language[\"Name\"]=mondial_target_latin_language[\"Name\"].apply(lambda x: x in latin_languages)\n",
    "print((mondial_target_latin_language[\"Name\"]).value_counts(normalize=True))\n",
    "mondial_target_latin_language.rename(columns={\"Inflation\":\"Target\"},inplace=True)\n",
    "# mondial_target_latin_language.to_csv(f'Datasets\\\\{exp}\\\\target.csv', index=False) \n",
    "mondial_target_latin_language"
   ]
  },
  {
   "cell_type": "code",
   "execution_count": 49,
   "id": "b61d777b",
   "metadata": {},
   "outputs": [
    {
     "name": "stdout",
     "output_type": "stream",
     "text": [
      "\u001b[1;31;47mCountry@target-Code@country>Code@country-Country1@borders>Country2@borders-Code@country>country>Area@country\n",
      "\u001b[1;32;47mCountry@target-Code@country>Code@country-Country1@borders>Country2@borders-Code@country>country>Capital@country\n",
      "\u001b[1;32;47mCountry@target-Code@country>Code@country-Country1@borders>Country2@borders-Code@country>country>Name@country\n",
      "\u001b[1;31;47mCountry@target-Code@country>Code@country-Country1@borders>Country2@borders-Code@country>country>Population@country\n",
      "\u001b[1;31;47mCountry@target-Code@country>Code@country-Country1@borders>Country2@borders-Code@country>country>Province@country\n",
      "\u001b[1;32;47mCountry@target-Code@country>Code@country-Country1@borders>borders>Length@borders\n",
      "\u001b[1;31;47mCountry@target-Code@country>Code@country-Country2@borders>Country1@borders-Code@country>country>Area@country\n",
      "\u001b[1;32;47mCountry@target-Code@country>Code@country-Country2@borders>Country1@borders-Code@country>country>Capital@country\n",
      "\u001b[1;32;47mCountry@target-Code@country>Code@country-Country2@borders>Country1@borders-Code@country>country>Name@country\n",
      "\u001b[1;32;47mCountry@target-Code@country>Code@country-Country2@borders>Country1@borders-Code@country>country>Population@country\n",
      "\u001b[1;32;47mCountry@target-Code@country>Code@country-Country2@borders>Country1@borders-Code@country>country>Province@country\n",
      "\u001b[1;32;47mCountry@target-Code@country>Code@country-Country2@borders>borders>Length@borders\n",
      "\u001b[1;31;47mCountry@target-Code@country>Code@country-Country@economy>economy>Agriculture@economy\n",
      "\u001b[1;31;47mCountry@target-Code@country>Code@country-Country@economy>economy>GDP@economy\n",
      "\u001b[1;31;47mCountry@target-Code@country>Code@country-Country@economy>economy>Industry@economy\n",
      "\u001b[1;31;47mCountry@target-Code@country>Code@country-Country@economy>economy>Inflation@economy\n",
      "\u001b[1;31;47mCountry@target-Code@country>Code@country-Country@economy>economy>Service@economy\n",
      "\u001b[1;32;47mCountry@target-Code@country>Code@country-Country@encompasses>Continent@encompasses-Name@continent>continent>Area@continent\n",
      "\u001b[1;31;47mCountry@target-Code@country>Code@country-Country@encompasses>encompasses>Percentage@encompasses\n",
      "\u001b[1;31;47mCountry@target-Code@country>Code@country-Country@ethnicgroup>ethnicgroup>Name@ethnicgroup\n",
      "\u001b[1;32;47mCountry@target-Code@country>Code@country-Country@ethnicgroup>ethnicgroup>Percentage@ethnicgroup\n",
      "\u001b[1;31;47mCountry@target-Code@country>Code@country-Country@ismember>Organization@ismember-Abbreviation@organization>organization>Established@organization\n",
      "\u001b[1;32;47mCountry@target-Code@country>Code@country-Country@ismember>Organization@ismember-Abbreviation@organization>organization>Name@organization\n",
      "\u001b[1;31;47mCountry@target-Code@country>Code@country-Country@ismember>ismember>Type@ismember\n",
      "\u001b[1;31;47mCountry@target-Code@country>Code@country-Country@language>language>Name@language\n",
      "\u001b[1;32;47mCountry@target-Code@country>Code@country-Country@language>language>Percentage@language\n",
      "\u001b[1;32;47mCountry@target-Code@country>Code@country-Country@politics>Dependent@politics-Code@country>country>Area@country\n",
      "\u001b[1;32;47mCountry@target-Code@country>Code@country-Country@politics>Dependent@politics-Code@country>country>Capital@country\n",
      "\u001b[1;31;47mCountry@target-Code@country>Code@country-Country@politics>Dependent@politics-Code@country>country>Name@country\n",
      "\u001b[1;31;47mCountry@target-Code@country>Code@country-Country@politics>Dependent@politics-Code@country>country>Population@country\n",
      "\u001b[1;32;47mCountry@target-Code@country>Code@country-Country@politics>Dependent@politics-Code@country>country>Province@country\n",
      "\u001b[1;31;47mCountry@target-Code@country>Code@country-Country@politics>politics>Government@politics\n",
      "\u001b[1;31;47mCountry@target-Code@country>Code@country-Country@politics>politics>Independence@politics\n",
      "\u001b[1;31;47mCountry@target-Code@country>Code@country-Country@population>population>Infant_Mortality@population\n",
      "\u001b[1;32;47mCountry@target-Code@country>Code@country-Country@population>population>Population_Growth@population\n",
      "\u001b[1;32;47mCountry@target-Code@country>Code@country-Country@province>Country@province-Country@city>city>Latitude@city\n",
      "\u001b[1;31;47mCountry@target-Code@country>Code@country-Country@province>Country@province-Country@city>city>Longitude@city\n",
      "\u001b[1;32;47mCountry@target-Code@country>Code@country-Country@province>Country@province-Country@city>city>Population@city\n",
      "\u001b[1;32;47mCountry@target-Code@country>Code@country-Country@province>Country@province-Country@organization>organization>Established@organization\n",
      "\u001b[1;31;47mCountry@target-Code@country>Code@country-Country@province>Country@province-Country@organization>organization>Name@organization\n",
      "\u001b[1;31;47mCountry@target-Code@country>Code@country-Country@province>Name@province-Province@city>city>Latitude@city\n",
      "\u001b[1;32;47mCountry@target-Code@country>Code@country-Country@province>Name@province-Province@city>city>Longitude@city\n",
      "\u001b[1;31;47mCountry@target-Code@country>Code@country-Country@province>Name@province-Province@city>city>Population@city\n",
      "\u001b[1;31;47mCountry@target-Code@country>Code@country-Country@province>Name@province-Province@organization>organization>Established@organization\n",
      "\u001b[1;32;47mCountry@target-Code@country>Code@country-Country@province>Name@province-Province@organization>organization>Name@organization\n",
      "\u001b[1;32;47mCountry@target-Code@country>Code@country-Country@province>province>Area@province\n",
      "\u001b[1;31;47mCountry@target-Code@country>Code@country-Country@province>province>CapProv@province\n",
      "\u001b[1;31;47mCountry@target-Code@country>Code@country-Country@province>province>Capital@province\n",
      "\u001b[1;31;47mCountry@target-Code@country>Code@country-Country@province>province>Population@province\n",
      "\u001b[1;32;47mCountry@target-Code@country>Code@country-Country@religion>religion>Name@religion\n",
      "\u001b[1;32;47mCountry@target-Code@country>Code@country-Country@religion>religion>Percentage@religion\n",
      "\u001b[1;31;47mCountry@target-Code@country>Code@country-Dependent@politics>Country@politics-Code@country>country>Area@country\n",
      "\u001b[1;31;47mCountry@target-Code@country>Code@country-Dependent@politics>Country@politics-Code@country>country>Capital@country\n",
      "\u001b[1;32;47mCountry@target-Code@country>Code@country-Dependent@politics>Country@politics-Code@country>country>Name@country\n",
      "\u001b[1;31;47mCountry@target-Code@country>Code@country-Dependent@politics>Country@politics-Code@country>country>Population@country\n",
      "\u001b[1;31;47mCountry@target-Code@country>Code@country-Dependent@politics>Country@politics-Code@country>country>Province@country\n",
      "\u001b[1;31;47mCountry@target-Code@country>Code@country-Dependent@politics>politics>Government@politics\n",
      "\u001b[1;32;47mCountry@target-Code@country>Code@country-Dependent@politics>politics>Independence@politics\n",
      "\u001b[1;32;47mCountry@target-Code@country>country>Area@country\n",
      "\u001b[1;32;47mCountry@target-Code@country>country>Capital@country\n",
      "\u001b[1;31;47mCountry@target-Code@country>country>Name@country\n",
      "\u001b[1;32;47mCountry@target-Code@country>country>Population@country\n",
      "\u001b[1;32;47mCountry@target-Code@country>country>Province@country\n"
     ]
    },
    {
     "data": {
      "text/plain": [
       "'Country@target-Code@country>Code@country-Country@religion>religion>Percentage@religion'"
      ]
     },
     "execution_count": 49,
     "metadata": {},
     "output_type": "execute_result"
    }
   ],
   "source": [
    "# colors url: https://stackabuse.com/how-to-print-colored-text-in-python/\n",
    "all_schemes = ['Country@target-Code@country>country>Name@country', 'Country@target-Code@country>country>Capital@country', 'Country@target-Code@country>country>Province@country', 'Country@target-Code@country>country>Area@country', 'Country@target-Code@country>country>Population@country', 'Country@target-Code@country>Code@country-Country1@borders>borders>Length@borders', 'Country@target-Code@country>Code@country-Country1@borders>Country2@borders-Code@country>country>Name@country', 'Country@target-Code@country>Code@country-Country1@borders>Country2@borders-Code@country>country>Capital@country', 'Country@target-Code@country>Code@country-Country1@borders>Country2@borders-Code@country>country>Province@country', 'Country@target-Code@country>Code@country-Country1@borders>Country2@borders-Code@country>country>Area@country', 'Country@target-Code@country>Code@country-Country1@borders>Country2@borders-Code@country>country>Population@country', 'Country@target-Code@country>Code@country-Country2@borders>borders>Length@borders', 'Country@target-Code@country>Code@country-Country2@borders>Country1@borders-Code@country>country>Name@country', 'Country@target-Code@country>Code@country-Country2@borders>Country1@borders-Code@country>country>Capital@country', 'Country@target-Code@country>Code@country-Country2@borders>Country1@borders-Code@country>country>Province@country', 'Country@target-Code@country>Code@country-Country2@borders>Country1@borders-Code@country>country>Area@country', 'Country@target-Code@country>Code@country-Country2@borders>Country1@borders-Code@country>country>Population@country', 'Country@target-Code@country>Code@country-Country@economy>economy>GDP@economy', 'Country@target-Code@country>Code@country-Country@economy>economy>Agriculture@economy', 'Country@target-Code@country>Code@country-Country@economy>economy>Service@economy', 'Country@target-Code@country>Code@country-Country@economy>economy>Industry@economy', 'Country@target-Code@country>Code@country-Country@economy>economy>Inflation@economy', 'Country@target-Code@country>Code@country-Country@encompasses>encompasses>Percentage@encompasses', 'Country@target-Code@country>Code@country-Country@encompasses>Continent@encompasses-Name@continent>continent>Area@continent', 'Country@target-Code@country>Code@country-Country@ethnicgroup>ethnicgroup>Name@ethnicgroup', 'Country@target-Code@country>Code@country-Country@ethnicgroup>ethnicgroup>Percentage@ethnicgroup', 'Country@target-Code@country>Code@country-Country@ismember>ismember>Type@ismember', 'Country@target-Code@country>Code@country-Country@ismember>Organization@ismember-Abbreviation@organization>organization>Name@organization', 'Country@target-Code@country>Code@country-Country@ismember>Organization@ismember-Abbreviation@organization>organization>Established@organization', 'Country@target-Code@country>Code@country-Country@language>language>Name@language', 'Country@target-Code@country>Code@country-Country@language>language>Percentage@language', 'Country@target-Code@country>Code@country-Country@politics>politics>Independence@politics', 'Country@target-Code@country>Code@country-Country@politics>politics>Government@politics', 'Country@target-Code@country>Code@country-Country@politics>Dependent@politics-Code@country>country>Name@country', 'Country@target-Code@country>Code@country-Country@politics>Dependent@politics-Code@country>country>Capital@country', 'Country@target-Code@country>Code@country-Country@politics>Dependent@politics-Code@country>country>Province@country', 'Country@target-Code@country>Code@country-Country@politics>Dependent@politics-Code@country>country>Area@country', 'Country@target-Code@country>Code@country-Country@politics>Dependent@politics-Code@country>country>Population@country', 'Country@target-Code@country>Code@country-Dependent@politics>politics>Independence@politics', 'Country@target-Code@country>Code@country-Dependent@politics>politics>Government@politics', 'Country@target-Code@country>Code@country-Dependent@politics>Country@politics-Code@country>country>Name@country', 'Country@target-Code@country>Code@country-Dependent@politics>Country@politics-Code@country>country>Capital@country', 'Country@target-Code@country>Code@country-Dependent@politics>Country@politics-Code@country>country>Province@country', 'Country@target-Code@country>Code@country-Dependent@politics>Country@politics-Code@country>country>Area@country', 'Country@target-Code@country>Code@country-Dependent@politics>Country@politics-Code@country>country>Population@country', 'Country@target-Code@country>Code@country-Country@population>population>Population_Growth@population', 'Country@target-Code@country>Code@country-Country@population>population>Infant_Mortality@population', 'Country@target-Code@country>Code@country-Country@province>province>Population@province', 'Country@target-Code@country>Code@country-Country@province>province>Area@province', 'Country@target-Code@country>Code@country-Country@province>province>Capital@province', 'Country@target-Code@country>Code@country-Country@province>province>CapProv@province', 'Country@target-Code@country>Code@country-Country@province>Country@province-Country@city>city>Population@city', 'Country@target-Code@country>Code@country-Country@province>Country@province-Country@city>city>Longitude@city', 'Country@target-Code@country>Code@country-Country@province>Country@province-Country@city>city>Latitude@city', 'Country@target-Code@country>Code@country-Country@province>Name@province-Province@city>city>Population@city', 'Country@target-Code@country>Code@country-Country@province>Name@province-Province@city>city>Longitude@city', 'Country@target-Code@country>Code@country-Country@province>Name@province-Province@city>city>Latitude@city', 'Country@target-Code@country>Code@country-Country@province>Country@province-Country@organization>organization>Name@organization', 'Country@target-Code@country>Code@country-Country@province>Country@province-Country@organization>organization>Established@organization', 'Country@target-Code@country>Code@country-Country@province>Name@province-Province@organization>organization>Name@organization', 'Country@target-Code@country>Code@country-Country@province>Name@province-Province@organization>organization>Established@organization', 'Country@target-Code@country>Code@country-Country@religion>religion>Name@religion', 'Country@target-Code@country>Code@country-Country@religion>religion>Percentage@religion']\n",
    "r6_schemes = ['Country@target-Code@country>country>Capital@country', 'Country@target-Code@country>Code@country-Country1@borders>Country2@borders-Code@country>country>Capital@country', 'Country@target-Code@country>Code@country-Dependent@politics>Country@politics-Code@country>country>Name@country', 'Country@target-Code@country>Code@country-Country2@borders>Country1@borders-Code@country>country>Name@country', 'Country@target-Code@country>Code@country-Dependent@politics>politics>Independence@politics', 'Country@target-Code@country>Code@country-Country@province>Country@province-Country@city>city>Latitude@city', 'Country@target-Code@country>Code@country-Country@politics>Dependent@politics-Code@country>country>Area@country', 'Country@target-Code@country>Code@country-Country@religion>religion>Name@religion', 'Country@target-Code@country>Code@country-Country@ethnicgroup>ethnicgroup>Percentage@ethnicgroup', 'Country@target-Code@country>Code@country-Country1@borders>borders>Length@borders', 'Country@target-Code@country>Code@country-Country@encompasses>Continent@encompasses-Name@continent>continent>Area@continent', 'Country@target-Code@country>Code@country-Country@province>Name@province-Province@city>city>Longitude@city', 'Country@target-Code@country>country>Province@country', 'Country@target-Code@country>Code@country-Country@province>Country@province-Country@organization>organization>Established@organization', 'Country@target-Code@country>Code@country-Country@religion>religion>Percentage@religion', 'Country@target-Code@country>Code@country-Country@province>Name@province-Province@organization>organization>Name@organization', 'Country@target-Code@country>Code@country-Country2@borders>borders>Length@borders', 'Country@target-Code@country>Code@country-Country@population>population>Population_Growth@population', 'Country@target-Code@country>Code@country-Country@province>Country@province-Country@city>city>Population@city', 'Country@target-Code@country>Code@country-Country@language>language>Percentage@language', 'Country@target-Code@country>Code@country-Country2@borders>Country1@borders-Code@country>country>Capital@country', 'Country@target-Code@country>country>Area@country', 'Country@target-Code@country>Code@country-Country@province>province>Area@province', 'Country@target-Code@country>Code@country-Country@politics>Dependent@politics-Code@country>country>Capital@country', 'Country@target-Code@country>Code@country-Country@ismember>Organization@ismember-Abbreviation@organization>organization>Name@organization', 'Country@target-Code@country>Code@country-Country1@borders>Country2@borders-Code@country>country>Name@country', 'Country@target-Code@country>Code@country-Country2@borders>Country1@borders-Code@country>country>Population@country', 'Country@target-Code@country>country>Population@country', 'Country@target-Code@country>Code@country-Country2@borders>Country1@borders-Code@country>country>Province@country', 'Country@target-Code@country>Code@country-Country@politics>Dependent@politics-Code@country>country>Province@country']\n",
    "for scheme in sorted(all_schemes):\n",
    "    if scheme in r6_schemes:\n",
    "        print(f'\\033[1;32;47m{scheme}')\n",
    "    else:\n",
    "        print(f'\\033[1;31;47m{scheme}')\n",
    "    # print(f'\\033[1;35;47m{scheme}') #purpule\n",
    "    \n",
    "# heuristic to remove on of:\n",
    "#    Country1@borders>Country2@borders\n",
    "#    Country2@borders>Country1@borders\n",
    "remove_from_r6_to_reduse = [\"Country@target-Code@country>Code@country-Country2@borders>Country1@borders-Code@country>country>Capital@country\",\n",
    "\"Country@target-Code@country>Code@country-Country2@borders>Country1@borders-Code@country>country>Name@country\",\n",
    "\"Country@target-Code@country>Code@country-Country2@borders>Country1@borders-Code@country>country>Population@country\",\n",
    "\"Country@target-Code@country>Code@country-Country2@borders>Country1@borders-Code@country>country>Province@country\",\\\n",
    "# no semantic meaning to Latitude (yuval) - DAMAGES\n",
    "\"Country@target-Code@country>Code@country-Country@province>Country@province-Country@city>city>Latitude@city\"]\n",
    "#from tests\n",
    "\"Country@target-Code@country>Code@country-Country@religion>religion>Percentage@religion\"\n",
    "\n"
   ]
  },
  {
   "cell_type": "code",
   "execution_count": 31,
   "id": "0d8dbb1a",
   "metadata": {},
   "outputs": [
    {
     "name": "stdout",
     "output_type": "stream",
     "text": [
      "\u001b[1;31;41mCountry@target-Code@country>Code@country-Country1@borders>Country2@borders-Code@country>country>Area@country\n",
      "\u001b[1;32;41mCountry@target-Code@country>Code@country-Country1@borders>Country2@borders-Code@country>country>Capital@country\n",
      "\u001b[1;32;41mCountry@target-Code@country>Code@country-Country1@borders>Country2@borders-Code@country>country>Name@country\n",
      "\u001b[1;31;41mCountry@target-Code@country>Code@country-Country1@borders>Country2@borders-Code@country>country>Population@country\n",
      "\u001b[1;31;41mCountry@target-Code@country>Code@country-Country1@borders>Country2@borders-Code@country>country>Province@country\n",
      "\u001b[1;32;41mCountry@target-Code@country>Code@country-Country1@borders>borders>Length@borders\n",
      "\u001b[1;31;41mCountry@target-Code@country>Code@country-Country2@borders>Country1@borders-Code@country>country>Area@country\n",
      "\u001b[1;32;41mCountry@target-Code@country>Code@country-Country2@borders>Country1@borders-Code@country>country>Capital@country\n",
      "\u001b[1;32;41mCountry@target-Code@country>Code@country-Country2@borders>Country1@borders-Code@country>country>Name@country\n",
      "\u001b[1;32;41mCountry@target-Code@country>Code@country-Country2@borders>Country1@borders-Code@country>country>Population@country\n",
      "\u001b[1;32;41mCountry@target-Code@country>Code@country-Country2@borders>Country1@borders-Code@country>country>Province@country\n",
      "\u001b[1;32;41mCountry@target-Code@country>Code@country-Country2@borders>borders>Length@borders\n",
      "\u001b[1;31;41mCountry@target-Code@country>Code@country-Country@economy>economy>Agriculture@economy\n",
      "\u001b[1;31;41mCountry@target-Code@country>Code@country-Country@economy>economy>GDP@economy\n",
      "\u001b[1;31;41mCountry@target-Code@country>Code@country-Country@economy>economy>Industry@economy\n",
      "\u001b[1;31;41mCountry@target-Code@country>Code@country-Country@economy>economy>Inflation@economy\n",
      "\u001b[1;31;41mCountry@target-Code@country>Code@country-Country@economy>economy>Service@economy\n",
      "\u001b[1;32;41mCountry@target-Code@country>Code@country-Country@encompasses>Continent@encompasses-Name@continent>continent>Area@continent\n",
      "\u001b[1;31;41mCountry@target-Code@country>Code@country-Country@encompasses>encompasses>Percentage@encompasses\n",
      "\u001b[1;31;41mCountry@target-Code@country>Code@country-Country@ethnicgroup>ethnicgroup>Name@ethnicgroup\n",
      "\u001b[1;32;41mCountry@target-Code@country>Code@country-Country@ethnicgroup>ethnicgroup>Percentage@ethnicgroup\n",
      "\u001b[1;31;41mCountry@target-Code@country>Code@country-Country@ismember>Organization@ismember-Abbreviation@organization>organization>Established@organization\n",
      "\u001b[1;32;41mCountry@target-Code@country>Code@country-Country@ismember>Organization@ismember-Abbreviation@organization>organization>Name@organization\n",
      "\u001b[1;31;41mCountry@target-Code@country>Code@country-Country@ismember>ismember>Type@ismember\n",
      "\u001b[1;31;41mCountry@target-Code@country>Code@country-Country@language>language>Name@language\n",
      "\u001b[1;32;41mCountry@target-Code@country>Code@country-Country@language>language>Percentage@language\n",
      "\u001b[1;32;41mCountry@target-Code@country>Code@country-Country@politics>Dependent@politics-Code@country>country>Area@country\n",
      "\u001b[1;32;41mCountry@target-Code@country>Code@country-Country@politics>Dependent@politics-Code@country>country>Capital@country\n",
      "\u001b[1;31;41mCountry@target-Code@country>Code@country-Country@politics>Dependent@politics-Code@country>country>Name@country\n",
      "\u001b[1;31;41mCountry@target-Code@country>Code@country-Country@politics>Dependent@politics-Code@country>country>Population@country\n",
      "\u001b[1;32;41mCountry@target-Code@country>Code@country-Country@politics>Dependent@politics-Code@country>country>Province@country\n",
      "\u001b[1;31;41mCountry@target-Code@country>Code@country-Country@politics>politics>Government@politics\n",
      "\u001b[1;31;41mCountry@target-Code@country>Code@country-Country@politics>politics>Independence@politics\n",
      "\u001b[1;31;41mCountry@target-Code@country>Code@country-Country@population>population>Infant_Mortality@population\n",
      "\u001b[1;32;41mCountry@target-Code@country>Code@country-Country@population>population>Population_Growth@population\n",
      "\u001b[1;32;41mCountry@target-Code@country>Code@country-Country@province>Country@province-Country@city>city>Latitude@city\n",
      "\u001b[1;31;41mCountry@target-Code@country>Code@country-Country@province>Country@province-Country@city>city>Longitude@city\n",
      "\u001b[1;32;41mCountry@target-Code@country>Code@country-Country@province>Country@province-Country@city>city>Population@city\n",
      "\u001b[1;32;41mCountry@target-Code@country>Code@country-Country@province>Country@province-Country@organization>organization>Established@organization\n",
      "\u001b[1;31;41mCountry@target-Code@country>Code@country-Country@province>Country@province-Country@organization>organization>Name@organization\n",
      "\u001b[1;31;41mCountry@target-Code@country>Code@country-Country@province>Name@province-Province@city>city>Latitude@city\n",
      "\u001b[1;32;41mCountry@target-Code@country>Code@country-Country@province>Name@province-Province@city>city>Longitude@city\n",
      "\u001b[1;31;41mCountry@target-Code@country>Code@country-Country@province>Name@province-Province@city>city>Population@city\n",
      "\u001b[1;31;41mCountry@target-Code@country>Code@country-Country@province>Name@province-Province@organization>organization>Established@organization\n",
      "\u001b[1;32;41mCountry@target-Code@country>Code@country-Country@province>Name@province-Province@organization>organization>Name@organization\n",
      "\u001b[1;32;41mCountry@target-Code@country>Code@country-Country@province>province>Area@province\n",
      "\u001b[1;31;41mCountry@target-Code@country>Code@country-Country@province>province>CapProv@province\n",
      "\u001b[1;31;41mCountry@target-Code@country>Code@country-Country@province>province>Capital@province\n",
      "\u001b[1;31;41mCountry@target-Code@country>Code@country-Country@province>province>Population@province\n",
      "\u001b[1;32;41mCountry@target-Code@country>Code@country-Country@religion>religion>Name@religion\n",
      "\u001b[1;32;41mCountry@target-Code@country>Code@country-Country@religion>religion>Percentage@religion\n",
      "\u001b[1;31;41mCountry@target-Code@country>Code@country-Dependent@politics>Country@politics-Code@country>country>Area@country\n",
      "\u001b[1;31;41mCountry@target-Code@country>Code@country-Dependent@politics>Country@politics-Code@country>country>Capital@country\n",
      "\u001b[1;32;41mCountry@target-Code@country>Code@country-Dependent@politics>Country@politics-Code@country>country>Name@country\n",
      "\u001b[1;31;41mCountry@target-Code@country>Code@country-Dependent@politics>Country@politics-Code@country>country>Population@country\n",
      "\u001b[1;31;41mCountry@target-Code@country>Code@country-Dependent@politics>Country@politics-Code@country>country>Province@country\n",
      "\u001b[1;31;41mCountry@target-Code@country>Code@country-Dependent@politics>politics>Government@politics\n",
      "\u001b[1;32;41mCountry@target-Code@country>Code@country-Dependent@politics>politics>Independence@politics\n",
      "\u001b[1;32;41mCountry@target-Code@country>country>Area@country\n",
      "\u001b[1;32;41mCountry@target-Code@country>country>Capital@country\n",
      "\u001b[1;31;41mCountry@target-Code@country>country>Name@country\n",
      "\u001b[1;32;41mCountry@target-Code@country>country>Population@country\n",
      "\u001b[1;32;41mCountry@target-Code@country>country>Province@country\n"
     ]
    }
   ],
   "source": [
    "# bad subset of schemes compared to r6 on mondial original target (Christian-Not Cristian)\n",
    "all_schemes = ['Country@target-Code@country>country>Name@country', 'Country@target-Code@country>country>Capital@country', 'Country@target-Code@country>country>Province@country', 'Country@target-Code@country>country>Area@country', 'Country@target-Code@country>country>Population@country', 'Country@target-Code@country>Code@country-Country1@borders>borders>Length@borders', 'Country@target-Code@country>Code@country-Country1@borders>Country2@borders-Code@country>country>Name@country', 'Country@target-Code@country>Code@country-Country1@borders>Country2@borders-Code@country>country>Capital@country', 'Country@target-Code@country>Code@country-Country1@borders>Country2@borders-Code@country>country>Province@country', 'Country@target-Code@country>Code@country-Country1@borders>Country2@borders-Code@country>country>Area@country', 'Country@target-Code@country>Code@country-Country1@borders>Country2@borders-Code@country>country>Population@country', 'Country@target-Code@country>Code@country-Country2@borders>borders>Length@borders', 'Country@target-Code@country>Code@country-Country2@borders>Country1@borders-Code@country>country>Name@country', 'Country@target-Code@country>Code@country-Country2@borders>Country1@borders-Code@country>country>Capital@country', 'Country@target-Code@country>Code@country-Country2@borders>Country1@borders-Code@country>country>Province@country', 'Country@target-Code@country>Code@country-Country2@borders>Country1@borders-Code@country>country>Area@country', 'Country@target-Code@country>Code@country-Country2@borders>Country1@borders-Code@country>country>Population@country', 'Country@target-Code@country>Code@country-Country@economy>economy>GDP@economy', 'Country@target-Code@country>Code@country-Country@economy>economy>Agriculture@economy', 'Country@target-Code@country>Code@country-Country@economy>economy>Service@economy', 'Country@target-Code@country>Code@country-Country@economy>economy>Industry@economy', 'Country@target-Code@country>Code@country-Country@economy>economy>Inflation@economy', 'Country@target-Code@country>Code@country-Country@encompasses>encompasses>Percentage@encompasses', 'Country@target-Code@country>Code@country-Country@encompasses>Continent@encompasses-Name@continent>continent>Area@continent', 'Country@target-Code@country>Code@country-Country@ethnicgroup>ethnicgroup>Name@ethnicgroup', 'Country@target-Code@country>Code@country-Country@ethnicgroup>ethnicgroup>Percentage@ethnicgroup', 'Country@target-Code@country>Code@country-Country@ismember>ismember>Type@ismember', 'Country@target-Code@country>Code@country-Country@ismember>Organization@ismember-Abbreviation@organization>organization>Name@organization', 'Country@target-Code@country>Code@country-Country@ismember>Organization@ismember-Abbreviation@organization>organization>Established@organization', 'Country@target-Code@country>Code@country-Country@language>language>Name@language', 'Country@target-Code@country>Code@country-Country@language>language>Percentage@language', 'Country@target-Code@country>Code@country-Country@politics>politics>Independence@politics', 'Country@target-Code@country>Code@country-Country@politics>politics>Government@politics', 'Country@target-Code@country>Code@country-Country@politics>Dependent@politics-Code@country>country>Name@country', 'Country@target-Code@country>Code@country-Country@politics>Dependent@politics-Code@country>country>Capital@country', 'Country@target-Code@country>Code@country-Country@politics>Dependent@politics-Code@country>country>Province@country', 'Country@target-Code@country>Code@country-Country@politics>Dependent@politics-Code@country>country>Area@country', 'Country@target-Code@country>Code@country-Country@politics>Dependent@politics-Code@country>country>Population@country', 'Country@target-Code@country>Code@country-Dependent@politics>politics>Independence@politics', 'Country@target-Code@country>Code@country-Dependent@politics>politics>Government@politics', 'Country@target-Code@country>Code@country-Dependent@politics>Country@politics-Code@country>country>Name@country', 'Country@target-Code@country>Code@country-Dependent@politics>Country@politics-Code@country>country>Capital@country', 'Country@target-Code@country>Code@country-Dependent@politics>Country@politics-Code@country>country>Province@country', 'Country@target-Code@country>Code@country-Dependent@politics>Country@politics-Code@country>country>Area@country', 'Country@target-Code@country>Code@country-Dependent@politics>Country@politics-Code@country>country>Population@country', 'Country@target-Code@country>Code@country-Country@population>population>Population_Growth@population', 'Country@target-Code@country>Code@country-Country@population>population>Infant_Mortality@population', 'Country@target-Code@country>Code@country-Country@province>province>Population@province', 'Country@target-Code@country>Code@country-Country@province>province>Area@province', 'Country@target-Code@country>Code@country-Country@province>province>Capital@province', 'Country@target-Code@country>Code@country-Country@province>province>CapProv@province', 'Country@target-Code@country>Code@country-Country@province>Country@province-Country@city>city>Population@city', 'Country@target-Code@country>Code@country-Country@province>Country@province-Country@city>city>Longitude@city', 'Country@target-Code@country>Code@country-Country@province>Country@province-Country@city>city>Latitude@city', 'Country@target-Code@country>Code@country-Country@province>Name@province-Province@city>city>Population@city', 'Country@target-Code@country>Code@country-Country@province>Name@province-Province@city>city>Longitude@city', 'Country@target-Code@country>Code@country-Country@province>Name@province-Province@city>city>Latitude@city', 'Country@target-Code@country>Code@country-Country@province>Country@province-Country@organization>organization>Name@organization', 'Country@target-Code@country>Code@country-Country@province>Country@province-Country@organization>organization>Established@organization', 'Country@target-Code@country>Code@country-Country@province>Name@province-Province@organization>organization>Name@organization', 'Country@target-Code@country>Code@country-Country@province>Name@province-Province@organization>organization>Established@organization', 'Country@target-Code@country>Code@country-Country@religion>religion>Name@religion', 'Country@target-Code@country>Code@country-Country@religion>religion>Percentage@religion']\n",
    "r9_schemes = ['Country@target-Code@country>Code@country-Country@politics>Dependent@politics-Code@country>country>Population@country', 'Country@target-Code@country>Code@country-Country@province>Name@province-Province@organization>organization>Established@organization', 'Country@target-Code@country>Code@country-Country@province>Country@province-Country@organization>organization>Name@organization', 'Country@target-Code@country>Code@country-Dependent@politics>Country@politics-Code@country>country>Name@country', 'Country@target-Code@country>Code@country-Country@province>Name@province-Province@city>city>Population@city', 'Country@target-Code@country>Code@country-Dependent@politics>politics>Government@politics', 'Country@target-Code@country>Code@country-Country1@borders>Country2@borders-Code@country>country>Province@country', 'Country@target-Code@country>Code@country-Country@population>population>Population_Growth@population', 'Country@target-Code@country>Code@country-Country@economy>economy>Service@economy', 'Country@target-Code@country>Code@country-Country@ethnicgroup>ethnicgroup>Name@ethnicgroup', 'Country@target-Code@country>Code@country-Country@province>province>Population@province', 'Country@target-Code@country>Code@country-Country@ismember>ismember>Type@ismember', 'Country@target-Code@country>Code@country-Dependent@politics>Country@politics-Code@country>country>Capital@country', 'Country@target-Code@country>Code@country-Country1@borders>borders>Length@borders', 'Country@target-Code@country>country>Name@country', 'Country@target-Code@country>Code@country-Dependent@politics>politics>Independence@politics', 'Country@target-Code@country>Code@country-Country2@borders>Country1@borders-Code@country>country>Name@country', 'Country@target-Code@country>Code@country-Dependent@politics>Country@politics-Code@country>country>Population@country', 'Country@target-Code@country>Code@country-Country@economy>economy>Inflation@economy', 'Country@target-Code@country>Code@country-Country1@borders>Country2@borders-Code@country>country>Population@country', 'Country@target-Code@country>Code@country-Country2@borders>Country1@borders-Code@country>country>Area@country', 'Country@target-Code@country>Code@country-Country2@borders>Country1@borders-Code@country>country>Province@country', 'Country@target-Code@country>Code@country-Country@province>Name@province-Province@organization>organization>Name@organization', 'Country@target-Code@country>Code@country-Country@ismember>Organization@ismember-Abbreviation@organization>organization>Established@organization', 'Country@target-Code@country>Code@country-Country@province>Country@province-Country@city>city>Latitude@city', 'Country@target-Code@country>Code@country-Country@politics>Dependent@politics-Code@country>country>Area@country', 'Country@target-Code@country>Code@country-Country@province>Country@province-Country@city>city>Population@city', 'Country@target-Code@country>country>Province@country', 'Country@target-Code@country>Code@country-Country@ethnicgroup>ethnicgroup>Percentage@ethnicgroup', 'Country@target-Code@country>Code@country-Country@religion>religion>Percentage@religion']\n",
    "for scheme in sorted(all_schemes):\n",
    "    if scheme in r6_schemes:\n",
    "        print(f'\\033[1;32;41m{scheme}')\n",
    "    else:\n",
    "        print(f'\\033[1;31;41m{scheme}')\n",
    "    # print(f'\\033[1;35;47m{scheme}') #purpule"
   ]
  },
  {
   "cell_type": "code",
   "execution_count": 32,
   "id": "ad9e5dbc",
   "metadata": {},
   "outputs": [
    {
     "name": "stdout",
     "output_type": "stream",
     "text": [
      "Country@target-Code@country>Code@country-Country1@borders>borders>Length@borders\n",
      "Country@target-Code@country>Code@country-Country2@borders>Country1@borders-Code@country>country>Name@country\n",
      "Country@target-Code@country>Code@country-Country2@borders>Country1@borders-Code@country>country>Province@country\n",
      "Country@target-Code@country>Code@country-Country@ethnicgroup>ethnicgroup>Percentage@ethnicgroup\n",
      "Country@target-Code@country>Code@country-Country@politics>Dependent@politics-Code@country>country>Area@country\n",
      "Country@target-Code@country>Code@country-Country@population>population>Population_Growth@population\n",
      "Country@target-Code@country>Code@country-Country@province>Country@province-Country@city>city>Latitude@city\n",
      "Country@target-Code@country>Code@country-Country@province>Country@province-Country@city>city>Population@city\n",
      "Country@target-Code@country>Code@country-Country@province>Name@province-Province@organization>organization>Name@organization\n",
      "Country@target-Code@country>Code@country-Country@religion>religion>Percentage@religion\n",
      "Country@target-Code@country>Code@country-Dependent@politics>Country@politics-Code@country>country>Name@country\n",
      "Country@target-Code@country>Code@country-Dependent@politics>politics>Independence@politics\n",
      "Country@target-Code@country>country>Province@country\n"
     ]
    }
   ],
   "source": [
    "# schemes in r6 (good) and not in r9 (bad) | |num schames| = 13\n",
    "for scheme in sorted(r6_schemes):\n",
    "    if scheme in r9_schemes:\n",
    "        print(f'{scheme}')"
   ]
  },
  {
   "cell_type": "code",
   "execution_count": 33,
   "id": "9b84c496",
   "metadata": {},
   "outputs": [
    {
     "name": "stdout",
     "output_type": "stream",
     "text": [
      "Country@target-Code@country>Code@country-Country@religion>religion>Percentage@religion\n"
     ]
    }
   ],
   "source": [
    "r6_schemes = ['Country@target-Code@country>country>Capital@country', 'Country@target-Code@country>Code@country-Country1@borders>Country2@borders-Code@country>country>Capital@country', 'Country@target-Code@country>Code@country-Dependent@politics>Country@politics-Code@country>country>Name@country', 'Country@target-Code@country>Code@country-Country2@borders>Country1@borders-Code@country>country>Name@country', 'Country@target-Code@country>Code@country-Dependent@politics>politics>Independence@politics', 'Country@target-Code@country>Code@country-Country@province>Country@province-Country@city>city>Latitude@city', 'Country@target-Code@country>Code@country-Country@politics>Dependent@politics-Code@country>country>Area@country', 'Country@target-Code@country>Code@country-Country@religion>religion>Name@religion', 'Country@target-Code@country>Code@country-Country@ethnicgroup>ethnicgroup>Percentage@ethnicgroup', 'Country@target-Code@country>Code@country-Country1@borders>borders>Length@borders', 'Country@target-Code@country>Code@country-Country@encompasses>Continent@encompasses-Name@continent>continent>Area@continent', 'Country@target-Code@country>Code@country-Country@province>Name@province-Province@city>city>Longitude@city', 'Country@target-Code@country>country>Province@country', 'Country@target-Code@country>Code@country-Country@province>Country@province-Country@organization>organization>Established@organization', 'Country@target-Code@country>Code@country-Country@religion>religion>Percentage@religion', 'Country@target-Code@country>Code@country-Country@province>Name@province-Province@organization>organization>Name@organization', 'Country@target-Code@country>Code@country-Country2@borders>borders>Length@borders', 'Country@target-Code@country>Code@country-Country@population>population>Population_Growth@population', 'Country@target-Code@country>Code@country-Country@province>Country@province-Country@city>city>Population@city', 'Country@target-Code@country>Code@country-Country@language>language>Percentage@language', 'Country@target-Code@country>Code@country-Country2@borders>Country1@borders-Code@country>country>Capital@country', 'Country@target-Code@country>country>Area@country', 'Country@target-Code@country>Code@country-Country@province>province>Area@province', 'Country@target-Code@country>Code@country-Country@politics>Dependent@politics-Code@country>country>Capital@country', 'Country@target-Code@country>Code@country-Country@ismember>Organization@ismember-Abbreviation@organization>organization>Name@organization', 'Country@target-Code@country>Code@country-Country1@borders>Country2@borders-Code@country>country>Name@country', 'Country@target-Code@country>Code@country-Country2@borders>Country1@borders-Code@country>country>Population@country', 'Country@target-Code@country>country>Population@country', 'Country@target-Code@country>Code@country-Country2@borders>Country1@borders-Code@country>country>Province@country', 'Country@target-Code@country>Code@country-Country@politics>Dependent@politics-Code@country>country>Province@country']\n",
    "\n",
    "for scheme in r6_schemes:\n",
    "    if scheme not in ['Country@target-Code@country>Code@country-Dependent@politics>politics>Independence@politics', 'Country@target-Code@country>Code@country-Country@ethnicgroup>ethnicgroup>Percentage@ethnicgroup', 'Country@target-Code@country>Code@country-Country@encompasses>Continent@encompasses-Name@continent>continent>Area@continent', 'Country@target-Code@country>country>Population@country', 'Country@target-Code@country>Code@country-Country1@borders>Country2@borders-Code@country>country>Name@country', 'Country@target-Code@country>Code@country-Country@province>Name@province-Province@city>city>Longitude@city', 'Country@target-Code@country>Code@country-Country@province>province>Area@province', 'Country@target-Code@country>Code@country-Dependent@politics>Country@politics-Code@country>country>Name@country', 'Country@target-Code@country>Code@country-Country2@borders>Country1@borders-Code@country>country>Population@country', 'Country@target-Code@country>Code@country-Country@language>language>Percentage@language', 'Country@target-Code@country>Code@country-Country1@borders>Country2@borders-Code@country>country>Capital@country', 'Country@target-Code@country>Code@country-Country2@borders>Country1@borders-Code@country>country>Capital@country', 'Country@target-Code@country>Code@country-Country2@borders>Country1@borders-Code@country>country>Province@country', 'Country@target-Code@country>Code@country-Country@province>Country@province-Country@city>city>Latitude@city', 'Country@target-Code@country>Code@country-Country@politics>Dependent@politics-Code@country>country>Province@country', 'Country@target-Code@country>Code@country-Country1@borders>borders>Length@borders', 'Country@target-Code@country>Code@country-Country@province>Name@province-Province@organization>organization>Name@organization', 'Country@target-Code@country>Code@country-Country2@borders>borders>Length@borders', 'Country@target-Code@country>Code@country-Country@politics>Dependent@politics-Code@country>country>Area@country', 'Country@target-Code@country>Code@country-Country@population>population>Population_Growth@population', 'Country@target-Code@country>Code@country-Country@politics>Dependent@politics-Code@country>country>Capital@country', 'Country@target-Code@country>Code@country-Country@province>Country@province-Country@organization>organization>Established@organization', 'Country@target-Code@country>Code@country-Country@province>Country@province-Country@city>city>Population@city', 'Country@target-Code@country>Code@country-Country2@borders>Country1@borders-Code@country>country>Name@country', 'Country@target-Code@country>country>Province@country', 'Country@target-Code@country>Code@country-Country@religion>religion>Name@religion', 'Country@target-Code@country>country>Capital@country', 'Country@target-Code@country>country>Area@country', 'Country@target-Code@country>Code@country-Country@ismember>Organization@ismember-Abbreviation@organization>organization>Name@organization']:\n",
    "                print(scheme)"
   ]
  },
  {
   "cell_type": "markdown",
   "id": "8f5bde22",
   "metadata": {},
   "source": [
    "# Enthropy of walk schemes experiments to reduce number of schemes"
   ]
  },
  {
   "cell_type": "code",
   "execution_count": 39,
   "id": "2d18f6d8",
   "metadata": {},
   "outputs": [],
   "source": [
    "import json\n",
    "with open('scheme_tuple_map.json', 'r') as scheme_tuple_map_file:\n",
    "    scheme_tuple_map = json.load(scheme_tuple_map_file)\n",
    "#print(scheme_tuple_map)"
   ]
  },
  {
   "cell_type": "code",
   "execution_count": 40,
   "id": "51b08fd3",
   "metadata": {},
   "outputs": [
    {
     "name": "stdout",
     "output_type": "stream",
     "text": [
      "1.5171063970610277\n",
      "1.5171063970610277\n",
      "1.5171063970610277\n",
      "1.5171063970610277\n"
     ]
    }
   ],
   "source": [
    "import numpy as np\n",
    "from scipy.stats import entropy\n",
    "from math import log, e\n",
    "import pandas as pd\n",
    "\n",
    "import timeit\n",
    "\n",
    "def entropy1(labels, base=None):\n",
    "  value,counts = np.unique(labels, return_counts=True)\n",
    "  return entropy(counts, base=base)\n",
    "\n",
    "def entropy2(labels, base=None):\n",
    "  \"\"\" Computes entropy of label distribution. \"\"\"\n",
    "\n",
    "  n_labels = len(labels)\n",
    "\n",
    "  if n_labels <= 1:\n",
    "    return 0\n",
    "\n",
    "  value,counts = np.unique(labels, return_counts=True)\n",
    "  probs = counts / n_labels\n",
    "  n_classes = np.count_nonzero(probs)\n",
    "\n",
    "  if n_classes <= 1:\n",
    "    return 0\n",
    "\n",
    "  ent = 0.\n",
    "\n",
    "  # Compute entropy\n",
    "  base = e if base is None else base\n",
    "  for i in probs:\n",
    "    ent -= i * log(i, base)\n",
    "\n",
    "  return ent\n",
    "\n",
    "def entropy3(labels, base=None):\n",
    "  vc = pd.Series(labels).value_counts(normalize=True, sort=False)\n",
    "  base = e if base is None else base\n",
    "  return -(vc * np.log(vc)/np.log(base)).sum()\n",
    "\n",
    "def entropy4(labels, base=None):\n",
    "  value,counts = np.unique(labels, return_counts=True)\n",
    "  norm_counts = counts / counts.sum()\n",
    "  base = e if base is None else base\n",
    "  return -(norm_counts * np.log(norm_counts)/np.log(base)).sum()\n",
    "\n",
    "labels = [1,3,5,2,3,5,3,2,1,3,4,5]\n",
    "\n",
    "print(entropy1(labels))\n",
    "print(entropy2(labels))\n",
    "print(entropy3(labels))\n",
    "print(entropy4(labels))"
   ]
  },
  {
   "cell_type": "code",
   "execution_count": 41,
   "id": "71ff628f",
   "metadata": {},
   "outputs": [
    {
     "name": "stdout",
     "output_type": "stream",
     "text": [
      "dict_values([8, 6, 4, 0, 2, 4, 4, 0, 0, 0, 4, 4, 2, 0, 4, 0, 5, 5, 2, 3, 3, 5, 9, 0, 1, 0, 0, 5, 2, 0, 6, 0, 1, 4, 4, 0, 4, 0, 0, 0, 2, 0, 0, 3, 5, 3, 0, 1, 7, 3, 5, 1, 2, 4, 2, 3, 0, 1, 0, 0, 0, 0, 2, 1, 0, 2, 1, 2, 0, 2, 0, 0, 0, 2, 6, 1, 1, 3, 3, 4, 4, 4, 0, 5, 0, 0, 0, 3, 3, 5, 0, 1, 0, 4, 4, 2, 1, 0, 1, 1, 0, 0, 0, 2, 1, 0, 1, 1, 2, 5, 0, 0, 1, 2, 3, 3, 0, 0, 1, 0, 0, 0, 0, 0, 3, 0, 0, 1, 0, 1, 3, 1, 0, 1, 1, 2, 2, 0, 1, 0, 0, 3, 0, 1, 3, 1, 0, 2, 2, 2, 0, 0, 0, 2, 0, 0, 1, 1, 2, 0, 0, 1, 0, 0, 0, 1, 0, 0, 0, 2, 0, 1, 2, 1, 0, 1, 0, 1, 0, 0, 0, 0, 0, 0, 0, 0, 0, 0, 0, 0, 0, 0, 0, 0, 0, 0, 0, 0, 0, 0, 0, 2, 0, 0])\n"
     ]
    },
    {
     "data": {
      "text/plain": [
       "1.582891506738216"
      ]
     },
     "execution_count": 41,
     "metadata": {},
     "output_type": "execute_result"
    }
   ],
   "source": [
    "sc = scheme_tuple_map['Country@target-Code@country>Code@country-Country1@borders>Country2@borders-Code@country>country']\n",
    "sc_lens = {source:len(dests) for source,dests in sc.items()}.values()\n",
    "print(sc_lens)\n",
    "entropy3(sc_lens)"
   ]
  },
  {
   "cell_type": "code",
   "execution_count": 42,
   "id": "76386cc6",
   "metadata": {
    "collapsed": true
   },
   "outputs": [
    {
     "name": "stdout",
     "output_type": "stream",
     "text": [
      "Entropy=-0.0 , Walk Scheme=target\n",
      "Entropy=-0.0 , Walk Scheme=Country@target-Code@country>country\n",
      "Entropy=1.582891506738216 , Walk Scheme=Country@target-Code@country>Code@country-Country1@borders>borders\n",
      "Entropy=1.582891506738216 , Walk Scheme=Country@target-Code@country>Code@country-Country1@borders>Country2@borders-Code@country>country\n",
      "Entropy=1.5614641834182732 , Walk Scheme=Country@target-Code@country>Code@country-Country2@borders>borders\n",
      "Entropy=1.5614641834182732 , Walk Scheme=Country@target-Code@country>Code@country-Country2@borders>Country1@borders-Code@country>country\n",
      "Entropy=-0.0 , Walk Scheme=Country@target-Code@country>Code@country-Country@economy>economy\n",
      "Entropy=0.07664880077618422 , Walk Scheme=Country@target-Code@country>Code@country-Country@encompasses>encompasses\n",
      "Entropy=0.07664880077618422 , Walk Scheme=Country@target-Code@country>Code@country-Country@encompasses>Continent@encompasses-Name@continent>continent\n",
      "Entropy=1.9038940947073166 , Walk Scheme=Country@target-Code@country>Code@country-Country@ethnicgroup>ethnicgroup\n",
      "Entropy=3.891404275282037 , Walk Scheme=Country@target-Code@country>Code@country-Country@ismember>ismember\n",
      "Entropy=3.891404275282037 , Walk Scheme=Country@target-Code@country>Code@country-Country@ismember>Organization@ismember-Abbreviation@organization>organization\n",
      "Entropy=1.007728719883409 , Walk Scheme=Country@target-Code@country>Code@country-Country@language>language\n",
      "Entropy=-0.0 , Walk Scheme=Country@target-Code@country>Code@country-Country@politics>politics\n",
      "Entropy=0.39994886927744955 , Walk Scheme=Country@target-Code@country>Code@country-Country@politics>Dependent@politics-Code@country>country\n",
      "Entropy=0.22403859954860067 , Walk Scheme=Country@target-Code@country>Code@country-Dependent@politics>politics\n",
      "Entropy=0.22403859954860067 , Walk Scheme=Country@target-Code@country>Code@country-Dependent@politics>Country@politics-Code@country>country\n",
      "Entropy=-0.0 , Walk Scheme=Country@target-Code@country>Code@country-Country@population>population\n",
      "Entropy=1.4434207865277848 , Walk Scheme=Country@target-Code@country>Code@country-Country@province>province\n",
      "Entropy=2.1197166294753984 , Walk Scheme=Country@target-Code@country>Code@country-Country@province>Country@province-Country@city>city\n",
      "Entropy=2.19337910597714 , Walk Scheme=Country@target-Code@country>Code@country-Country@province>Name@province-Province@city>city\n",
      "Entropy=0.8409261390173055 , Walk Scheme=Country@target-Code@country>Code@country-Country@province>Country@province-Country@geo_desert>geo_desert\n",
      "Entropy=0.8409261390173055 , Walk Scheme=Country@target-Code@country>Code@country-Country@province>Name@province-Province@geo_desert>geo_desert\n",
      "Entropy=1.246308885724256 , Walk Scheme=Country@target-Code@country>Code@country-Country@province>Country@province-Country@geo_estuary>geo_estuary\n",
      "Entropy=1.2458703460334362 , Walk Scheme=Country@target-Code@country>Code@country-Country@province>Name@province-Province@geo_estuary>geo_estuary\n",
      "Entropy=1.2374054125509377 , Walk Scheme=Country@target-Code@country>Code@country-Country@province>Country@province-Country@geo_island>geo_island\n",
      "Entropy=1.2408245059893768 , Walk Scheme=Country@target-Code@country>Code@country-Country@province>Name@province-Province@geo_island>geo_island\n",
      "Entropy=1.1134098801092767 , Walk Scheme=Country@target-Code@country>Code@country-Country@province>Country@province-Country@geo_lake>geo_lake\n",
      "Entropy=1.1134788078749855 , Walk Scheme=Country@target-Code@country>Code@country-Country@province>Name@province-Province@geo_lake>geo_lake\n",
      "Entropy=1.3880405228399477 , Walk Scheme=Country@target-Code@country>Code@country-Country@province>Country@province-Country@geo_mountain>geo_mountain\n",
      "Entropy=1.3820652412673944 , Walk Scheme=Country@target-Code@country>Code@country-Country@province>Name@province-Province@geo_mountain>geo_mountain\n",
      "Entropy=1.8950177676163502 , Walk Scheme=Country@target-Code@country>Code@country-Country@province>Country@province-Country@geo_river>geo_river\n",
      "Entropy=1.9111119180534588 , Walk Scheme=Country@target-Code@country>Code@country-Country@province>Name@province-Province@geo_river>geo_river\n",
      "Entropy=1.8942734348354493 , Walk Scheme=Country@target-Code@country>Code@country-Country@province>Country@province-Country@geo_sea>geo_sea\n",
      "Entropy=1.903803041808598 , Walk Scheme=Country@target-Code@country>Code@country-Country@province>Name@province-Province@geo_sea>geo_sea\n",
      "Entropy=1.039237705647399 , Walk Scheme=Country@target-Code@country>Code@country-Country@province>Country@province-Country@geo_source>geo_source\n",
      "Entropy=1.039237705647399 , Walk Scheme=Country@target-Code@country>Code@country-Country@province>Name@province-Province@geo_source>geo_source\n",
      "Entropy=1.887018924535129 , Walk Scheme=Country@target-Code@country>Code@country-Country@province>Name@province-Province@located>located\n",
      "Entropy=1.8619111969754842 , Walk Scheme=Country@target-Code@country>Code@country-Country@province>Country@province-Country@located>located\n",
      "Entropy=1.0442044538977495 , Walk Scheme=Country@target-Code@country>Code@country-Country@province>Name@province-Province@locatedon>locatedon\n",
      "Entropy=1.0403008193078132 , Walk Scheme=Country@target-Code@country>Code@country-Country@province>Country@province-Country@locatedon>locatedon\n",
      "Entropy=0.7622736648472739 , Walk Scheme=Country@target-Code@country>Code@country-Country@province>Country@province-Country@organization>organization\n",
      "Entropy=0.7637692493529217 , Walk Scheme=Country@target-Code@country>Code@country-Country@province>Name@province-Province@organization>organization\n",
      "Entropy=1.4151703229231538 , Walk Scheme=Country@target-Code@country>Code@country-Country@religion>religion\n"
     ]
    }
   ],
   "source": [
    "for scheme,row_map in scheme_tuple_map.items():\n",
    "    print(f\"Entropy={entropy3({source:len(dests) for source,dests in row_map.items()}.values())} , Walk Scheme={scheme}\")"
   ]
  },
  {
   "cell_type": "code",
   "execution_count": 43,
   "id": "74c16395",
   "metadata": {
    "collapsed": true
   },
   "outputs": [
    {
     "name": "stdout",
     "output_type": "stream",
     "text": [
      "Sampled_Varience=0 , Walk Scheme=target\n",
      "Sampled_Varience=0 , Walk Scheme=Country@target-Code@country>country\n",
      "Sampled_Varience=3.260769825171448 , Walk Scheme=Country@target-Code@country>Code@country-Country1@borders>borders\n",
      "Sampled_Varience=3.260769825171448 , Walk Scheme=Country@target-Code@country>Code@country-Country1@borders>Country2@borders-Code@country>country\n",
      "Sampled_Varience=3.909784603496571 , Walk Scheme=Country@target-Code@country>Code@country-Country2@borders>borders\n",
      "Sampled_Varience=3.909784603496571 , Walk Scheme=Country@target-Code@country>Code@country-Country2@borders>Country1@borders-Code@country>country\n",
      "Sampled_Varience=0 , Walk Scheme=Country@target-Code@country>Code@country-Country@economy>economy\n",
      "Sampled_Varience=0.014560996812518111 , Walk Scheme=Country@target-Code@country>Code@country-Country@encompasses>encompasses\n",
      "Sampled_Varience=0.014560996812518111 , Walk Scheme=Country@target-Code@country>Code@country-Country@encompasses>Continent@encompasses-Name@continent>continent\n",
      "Sampled_Varience=3.6487974500144884 , Walk Scheme=Country@target-Code@country>Code@country-Country@ethnicgroup>ethnicgroup\n",
      "Sampled_Varience=349.29013329469717 , Walk Scheme=Country@target-Code@country>Code@country-Country@ismember>ismember\n",
      "Sampled_Varience=349.29013329469717 , Walk Scheme=Country@target-Code@country>Code@country-Country@ismember>Organization@ismember-Abbreviation@organization>organization\n",
      "Sampled_Varience=1.3834395827296435 , Walk Scheme=Country@target-Code@country>Code@country-Country@language>language\n",
      "Sampled_Varience=0 , Walk Scheme=Country@target-Code@country>Code@country-Country@politics>politics\n",
      "Sampled_Varience=0.11899932386747804 , Walk Scheme=Country@target-Code@country>Code@country-Country@politics>Dependent@politics-Code@country>country\n",
      "Sampled_Varience=0.6696368202453394 , Walk Scheme=Country@target-Code@country>Code@country-Dependent@politics>politics\n",
      "Sampled_Varience=0.6696368202453394 , Walk Scheme=Country@target-Code@country>Code@country-Dependent@politics>Country@politics-Code@country>country\n",
      "Sampled_Varience=0 , Walk Scheme=Country@target-Code@country>Code@country-Country@population>population\n",
      "Sampled_Varience=113.70875591615956 , Walk Scheme=Country@target-Code@country>Code@country-Country@province>province\n",
      "Sampled_Varience=1153.5152129817445 , Walk Scheme=Country@target-Code@country>Code@country-Country@province>Country@province-Country@city>city\n",
      "Sampled_Varience=1153.0289529604945 , Walk Scheme=Country@target-Code@country>Code@country-Country@province>Name@province-Province@city>city\n",
      "Sampled_Varience=5.651381242152033 , Walk Scheme=Country@target-Code@country>Code@country-Country@province>Country@province-Country@geo_desert>geo_desert\n",
      "Sampled_Varience=5.651381242152033 , Walk Scheme=Country@target-Code@country>Code@country-Country@province>Name@province-Province@geo_desert>geo_desert\n",
      "Sampled_Varience=8.318651598570462 , Walk Scheme=Country@target-Code@country>Code@country-Country@province>Country@province-Country@geo_estuary>geo_estuary\n",
      "Sampled_Varience=8.239833864580314 , Walk Scheme=Country@target-Code@country>Code@country-Country@province>Name@province-Province@geo_estuary>geo_estuary\n",
      "Sampled_Varience=17.795107698251712 , Walk Scheme=Country@target-Code@country>Code@country-Country@province>Country@province-Country@geo_island>geo_island\n",
      "Sampled_Varience=17.78634212305612 , Walk Scheme=Country@target-Code@country>Code@country-Country@province>Name@province-Province@geo_island>geo_island\n",
      "Sampled_Varience=10.783444412247658 , Walk Scheme=Country@target-Code@country>Code@country-Country@province>Country@province-Country@geo_lake>geo_lake\n",
      "Sampled_Varience=10.945305708490293 , Walk Scheme=Country@target-Code@country>Code@country-Country@province>Name@province-Province@geo_lake>geo_lake\n",
      "Sampled_Varience=9.382497826716893 , Walk Scheme=Country@target-Code@country>Code@country-Country@province>Country@province-Country@geo_mountain>geo_mountain\n",
      "Sampled_Varience=9.66821211243118 , Walk Scheme=Country@target-Code@country>Code@country-Country@province>Name@province-Province@geo_mountain>geo_mountain\n",
      "Sampled_Varience=62.09176084226794 , Walk Scheme=Country@target-Code@country>Code@country-Country@province>Country@province-Country@geo_river>geo_river\n",
      "Sampled_Varience=62.49570172896745 , Walk Scheme=Country@target-Code@country>Code@country-Country@province>Name@province-Province@geo_river>geo_river\n",
      "Sampled_Varience=26.54177533082198 , Walk Scheme=Country@target-Code@country>Code@country-Country@province>Country@province-Country@geo_sea>geo_sea\n",
      "Sampled_Varience=26.87675070028011 , Walk Scheme=Country@target-Code@country>Code@country-Country@province>Name@province-Province@geo_sea>geo_sea\n",
      "Sampled_Varience=5.99620882835893 , Walk Scheme=Country@target-Code@country>Code@country-Country@province>Country@province-Country@geo_source>geo_source\n",
      "Sampled_Varience=5.99620882835893 , Walk Scheme=Country@target-Code@country>Code@country-Country@province>Name@province-Province@geo_source>geo_source\n",
      "Sampled_Varience=61.200424997585245 , Walk Scheme=Country@target-Code@country>Code@country-Country@province>Name@province-Province@located>located\n",
      "Sampled_Varience=61.131459480343864 , Walk Scheme=Country@target-Code@country>Code@country-Country@province>Country@province-Country@located>located\n",
      "Sampled_Varience=24.49425287356322 , Walk Scheme=Country@target-Code@country>Code@country-Country@province>Name@province-Province@locatedon>locatedon\n",
      "Sampled_Varience=24.500796870472325 , Walk Scheme=Country@target-Code@country>Code@country-Country@province>Country@province-Country@locatedon>locatedon\n",
      "Sampled_Varience=4.936153771853569 , Walk Scheme=Country@target-Code@country>Code@country-Country@province>Country@province-Country@organization>organization\n",
      "Sampled_Varience=4.965710422099874 , Walk Scheme=Country@target-Code@country>Code@country-Country@province>Name@province-Province@organization>organization\n",
      "Sampled_Varience=1.3603786342123056 , Walk Scheme=Country@target-Code@country>Code@country-Country@religion>religion\n"
     ]
    }
   ],
   "source": [
    "import statistics\n",
    "for scheme,row_map in scheme_tuple_map.items():\n",
    "    print(f\"Sampled_Varience={statistics.variance({source:len(dests) for source,dests in row_map.items()}.values())} , Walk Scheme={scheme}\")"
   ]
  },
  {
   "cell_type": "code",
   "execution_count": 50,
   "id": "8f1414af",
   "metadata": {
    "collapsed": true
   },
   "outputs": [
    {
     "name": "stdout",
     "output_type": "stream",
     "text": [
      "\u001b[1;31;47mSampled_Varience=14.2828568570857 , Walk Scheme=target\n",
      "\u001b[1;31;47mSampled_Varience=14.2828568570857 , Walk Scheme=Country@target-Code@country>country\n",
      "\u001b[1;31;47mSampled_Varience=32.38826948140329 , Walk Scheme=Country@target-Code@country>Code@country-Country1@borders>borders\n",
      "\u001b[1;31;47mSampled_Varience=32.38826948140329 , Walk Scheme=Country@target-Code@country>Code@country-Country1@borders>Country2@borders-Code@country>country\n",
      "\u001b[1;31;47mSampled_Varience=34.322004603461025 , Walk Scheme=Country@target-Code@country>Code@country-Country2@borders>borders\n",
      "\u001b[1;31;47mSampled_Varience=34.322004603461025 , Walk Scheme=Country@target-Code@country>Code@country-Country2@borders>Country1@borders-Code@country>country\n",
      "\u001b[1;31;47mSampled_Varience=14.2828568570857 , Walk Scheme=Country@target-Code@country>Code@country-Country@economy>economy\n",
      "\u001b[1;31;47mSampled_Varience=14.594519519326424 , Walk Scheme=Country@target-Code@country>Code@country-Country@encompasses>encompasses\n",
      "\u001b[1;31;47mSampled_Varience=14.594519519326424 , Walk Scheme=Country@target-Code@country>Code@country-Country@encompasses>Continent@encompasses-Name@continent>continent\n",
      "\u001b[1;31;47mSampled_Varience=41.95235392680606 , Walk Scheme=Country@target-Code@country>Code@country-Country@ethnicgroup>ethnicgroup\n",
      "\u001b[1;31;47mSampled_Varience=567.3244221783511 , Walk Scheme=Country@target-Code@country>Code@country-Country@ismember>ismember\n",
      "\u001b[1;31;47mSampled_Varience=567.3244221783511 , Walk Scheme=Country@target-Code@country>Code@country-Country@ismember>Organization@ismember-Abbreviation@organization>organization\n",
      "\u001b[1;31;47mSampled_Varience=18.841443681416774 , Walk Scheme=Country@target-Code@country>Code@country-Country@language>language\n",
      "\u001b[1;31;47mSampled_Varience=14.2828568570857 , Walk Scheme=Country@target-Code@country>Code@country-Country@politics>politics\n",
      "\u001b[1;31;47mSampled_Varience=5.291502622129181 , Walk Scheme=Country@target-Code@country>Code@country-Country@politics>Dependent@politics-Code@country>country\n",
      "\u001b[1;31;47mSampled_Varience=11.789826122551595 , Walk Scheme=Country@target-Code@country>Code@country-Dependent@politics>politics\n",
      "\u001b[1;31;47mSampled_Varience=11.789826122551595 , Walk Scheme=Country@target-Code@country>Code@country-Dependent@politics>Country@politics-Code@country>country\n",
      "\u001b[1;31;47mSampled_Varience=14.2828568570857 , Walk Scheme=Country@target-Code@country>Code@country-Country@population>population\n",
      "\u001b[1;31;47mSampled_Varience=173.44451562387323 , Walk Scheme=Country@target-Code@country>Code@country-Country@province>province\n",
      "\u001b[1;31;47mSampled_Varience=517.5557940937383 , Walk Scheme=Country@target-Code@country>Code@country-Country@province>Country@province-Country@city>city\n",
      "\u001b[1;31;47mSampled_Varience=517.485265490719 , Walk Scheme=Country@target-Code@country>Code@country-Country@province>Name@province-Province@city>city\n",
      "\u001b[1;31;47mSampled_Varience=35.482389998420345 , Walk Scheme=Country@target-Code@country>Code@country-Country@province>Country@province-Country@geo_desert>geo_desert\n",
      "\u001b[1;31;47mSampled_Varience=35.482389998420345 , Walk Scheme=Country@target-Code@country>Code@country-Country@province>Name@province-Province@geo_desert>geo_desert\n",
      "\u001b[1;31;47mSampled_Varience=44.13615298142782 , Walk Scheme=Country@target-Code@country>Code@country-Country@province>Country@province-Country@geo_estuary>geo_estuary\n",
      "\u001b[1;31;47mSampled_Varience=43.95452195167182 , Walk Scheme=Country@target-Code@country>Code@country-Country@province>Name@province-Province@geo_estuary>geo_estuary\n",
      "\u001b[1;31;47mSampled_Varience=63.28506932918696 , Walk Scheme=Country@target-Code@country>Code@country-Country@province>Country@province-Country@geo_island>geo_island\n",
      "\u001b[1;31;47mSampled_Varience=63.29296959378664 , Walk Scheme=Country@target-Code@country>Code@country-Country@province>Name@province-Province@geo_island>geo_island\n",
      "\u001b[1;31;47mSampled_Varience=49.21381919745713 , Walk Scheme=Country@target-Code@country>Code@country-Country@province>Country@province-Country@geo_lake>geo_lake\n",
      "\u001b[1;31;47mSampled_Varience=49.56813492557492 , Walk Scheme=Country@target-Code@country>Code@country-Country@province>Name@province-Province@geo_lake>geo_lake\n",
      "\u001b[1;31;47mSampled_Varience=47.56048780237646 , Walk Scheme=Country@target-Code@country>Code@country-Country@province>Country@province-Country@geo_mountain>geo_mountain\n",
      "\u001b[1;31;47mSampled_Varience=48.16637831516918 , Walk Scheme=Country@target-Code@country>Code@country-Country@province>Name@province-Province@geo_mountain>geo_mountain\n",
      "\u001b[1;31;47mSampled_Varience=123.53137253345807 , Walk Scheme=Country@target-Code@country>Code@country-Country@province>Country@province-Country@geo_river>geo_river\n",
      "\u001b[1;31;47mSampled_Varience=123.8628273534881 , Walk Scheme=Country@target-Code@country>Code@country-Country@province>Name@province-Province@geo_river>geo_river\n",
      "\u001b[1;31;47mSampled_Varience=84.92349498224858 , Walk Scheme=Country@target-Code@country>Code@country-Country@province>Country@province-Country@geo_sea>geo_sea\n",
      "\u001b[1;31;47mSampled_Varience=85.32291603080617 , Walk Scheme=Country@target-Code@country>Code@country-Country@province>Name@province-Province@geo_sea>geo_sea\n",
      "\u001b[1;31;47mSampled_Varience=37.21558813185679 , Walk Scheme=Country@target-Code@country>Code@country-Country@province>Country@province-Country@geo_source>geo_source\n",
      "\u001b[1;31;47mSampled_Varience=37.21558813185679 , Walk Scheme=Country@target-Code@country>Code@country-Country@province>Name@province-Province@geo_source>geo_source\n",
      "\u001b[1;31;47mSampled_Varience=122.91460450247563 , Walk Scheme=Country@target-Code@country>Code@country-Country@province>Name@province-Province@located>located\n",
      "\u001b[1;31;47mSampled_Varience=122.8576411950026 , Walk Scheme=Country@target-Code@country>Code@country-Country@province>Country@province-Country@located>located\n",
      "\u001b[1;31;47mSampled_Varience=72.4568837309472 , Walk Scheme=Country@target-Code@country>Code@country-Country@province>Name@province-Province@locatedon>locatedon\n",
      "\u001b[1;31;47mSampled_Varience=72.44998274671983 , Walk Scheme=Country@target-Code@country>Code@country-Country@province>Country@province-Country@locatedon>locatedon\n",
      "\u001b[1;31;47mSampled_Varience=32.68026927673638 , Walk Scheme=Country@target-Code@country>Code@country-Country@province>Country@province-Country@organization>organization\n",
      "\u001b[1;31;47mSampled_Varience=32.77193921634788 , Walk Scheme=Country@target-Code@country>Code@country-Country@province>Name@province-Province@organization>organization\n",
      "\u001b[1;31;47mSampled_Varience=35.4964786985977 , Walk Scheme=Country@target-Code@country>Code@country-Country@religion>religion\n"
     ]
    }
   ],
   "source": [
    "for scheme,row_map in scheme_tuple_map.items():\n",
    "    to_print = f\"Sampled_Varience={np.linalg.norm(list({source:len(dests) for source,dests in row_map.items()}.values()))} , Walk Scheme={scheme}\"\n",
    "    if scheme in r6_schemes:\n",
    "        print(f'\\033[1;32;47m{to_print}')\n",
    "    else:\n",
    "        print(f'\\033[1;31;47m{to_print}')"
   ]
  },
  {
   "cell_type": "code",
   "execution_count": 53,
   "id": "12f23eed",
   "metadata": {},
   "outputs": [],
   "source": [
    "# regular loss\n",
    "# epoch 1:\n",
    "# Ordered schemes from highest loss to lowest: [22, 26, 48, 23, 61, 20, 32, 19, 54, 51, 18, 53, 62, 52, 56, 55, 31, 46, 45, 21, 27, 25, 28, 17, 3, 50, 2, 1, 47, 4, 0, 49, 24, 30, 11, 5, 9, 15, 13, 14, 7, 12, 8, 6, 10, 16, 29, 58, 37, 36, 33, 34, 35, 57, 60, 59, 38, 43, 42, 40, 44, 41, 39]\n",
    "# Dict: {22: 117094.4609375, 26: 86673.3984375, 48: 75924.4609375, 23: 40755.7578125, 61: 38801.52734375, 20: 35927.3828125, 32: 35103.7109375, 19: 33964.78125, 54: 32421.498046875, 51: 32013.271484375, 18: 31608.998046875, 53: 28661.712890625, 62: 28085.11328125, 52: 27733.078125, 56: 27639.140625, 55: 26908.04296875, 31: 24149.654296875, 46: 22895.052734375, 45: 22733.759765625, 21: 22156.591796875, 27: 21388.435546875, 25: 21349.970703125, 28: 21334.619140625, 17: 21322.517578125, 3: 21263.541015625, 50: 21133.68359375, 2: 20727.955078125, 1: 20391.71484375, 47: 20194.01171875, 4: 20144.83203125, 0: 20065.677734375, 49: 19963.908203125, 24: 16880.361328125, 30: 14057.0078125, 11: 11692.9482421875, 5: 11552.9921875, 9: 11407.1884765625, 15: 11355.279296875, 13: 11158.224609375, 14: 11133.08203125, 7: 10836.3125, 12: 10823.2978515625, 8: 10780.7587890625, 6: 10509.2236328125, 10: 10047.2509765625, 16: 9936.7119140625, 29: 7706.07666015625, 58: 5030.6611328125, 37: 4900.486328125, 36: 4808.93896484375, 33: 4663.9287109375, 34: 4492.541015625, 35: 4454.36865234375, 57: 4106.4970703125, 60: 3997.12744140625, 59: 3517.112060546875, 38: 2041.1888427734375, 43: 542.4093017578125, 42: 520.8069458007812, 40: 506.0948486328125, 44: 479.5279541015625, 41: 402.8952331542969, 39: 324.1453552246094}\n",
    "losses_1_remove_0 = {22: 117094.4609375, 26: 86673.3984375, 48: 75924.4609375, 23: 40755.7578125, 61: 38801.52734375, 20: 35927.3828125, 32: 35103.7109375, 19: 33964.78125, 54: 32421.498046875, 51: 32013.271484375, 18: 31608.998046875, 53: 28661.712890625, 62: 28085.11328125, 52: 27733.078125, 56: 27639.140625, 55: 26908.04296875, 31: 24149.654296875, 46: 22895.052734375, 45: 22733.759765625, 21: 22156.591796875, 27: 21388.435546875, 25: 21349.970703125, 28: 21334.619140625, 17: 21322.517578125, 3: 21263.541015625, 50: 21133.68359375, 2: 20727.955078125, 1: 20391.71484375, 47: 20194.01171875, 4: 20144.83203125, 0: 20065.677734375, 49: 19963.908203125, 24: 16880.361328125, 30: 14057.0078125, 11: 11692.9482421875, 5: 11552.9921875, 9: 11407.1884765625, 15: 11355.279296875, 13: 11158.224609375, 14: 11133.08203125, 7: 10836.3125, 12: 10823.2978515625, 8: 10780.7587890625, 6: 10509.2236328125, 10: 10047.2509765625, 16: 9936.7119140625, 29: 7706.07666015625, 58: 5030.6611328125, 37: 4900.486328125, 36: 4808.93896484375, 33: 4663.9287109375, 34: 4492.541015625, 35: 4454.36865234375, 57: 4106.4970703125, 60: 3997.12744140625, 59: 3517.112060546875, 38: 2041.1888427734375, 43: 542.4093017578125, 42: 520.8069458007812, 40: 506.0948486328125, 44: 479.5279541015625, 41: 402.8952331542969, 39: 324.1453552246094}\n",
    "# epoch 10:\n",
    "# Ordered schemes from highest loss to lowest: [26, 22, 23, 61, 48, 32, 20, 51, 54, 62, 19, 53, 56, 18, 52, 55, 25, 45, 21, 31, 46, 28, 27, 17, 3, 30, 24, 50, 2, 47, 49, 4, 1, 0, 9, 11, 15, 5, 14, 13, 8, 29, 12, 7, 6, 10, 16, 36, 37, 33, 35, 34, 58, 57, 60, 59, 38, 43, 42, 40, 44, 41, 39]\n",
    "# Dict: {26: 314186.25, 22: 225831.0625, 23: 173883.71875, 61: 171609.734375, 48: 161306.375, 32: 96653.4609375, 20: 95426.953125, 51: 86661.9140625, 54: 86418.2734375, 62: 85797.9609375, 19: 83091.3984375, 53: 77647.40625, 56: 77128.203125, 18: 73877.0, 52: 73832.65625, 55: 72773.046875, 25: 62349.01171875, 45: 56076.14453125, 21: 54044.828125, 31: 53627.828125, 46: 52875.28515625, 28: 46078.828125, 27: 45092.6328125, 17: 38954.48046875, 3: 37905.26953125, 30: 35381.68359375, 24: 34851.98828125, 50: 30929.244140625, 2: 30114.234375, 47: 29863.689453125, 49: 29444.857421875, 4: 29419.109375, 1: 29295.783203125, 0: 29138.431640625, 9: 27324.615234375, 11: 27249.87890625, 15: 26739.62890625, 5: 25871.97265625, 14: 21124.9140625, 13: 20887.26171875, 8: 20764.712890625, 29: 20683.013671875, 12: 20334.767578125, 7: 20183.185546875, 6: 19984.421875, 10: 19308.125, 16: 18469.896484375, 36: 10381.13671875, 37: 10237.861328125, 33: 9950.076171875, 35: 9400.9287109375, 34: 9252.4931640625, 58: 6813.603515625, 57: 5704.6376953125, 60: 5611.72021484375, 59: 4922.52685546875, 38: 2664.206787109375, 43: 888.4740600585938, 42: 606.90625, 40: 561.51904296875, 44: 525.419189453125, 41: 463.7660827636719, 39: 381.2342529296875}\n",
    "losses_10_remove_0 = {26: 314186.25, 22: 225831.0625, 23: 173883.71875, 61: 171609.734375, 48: 161306.375, 32: 96653.4609375, 20: 95426.953125, 51: 86661.9140625, 54: 86418.2734375, 62: 85797.9609375, 19: 83091.3984375, 53: 77647.40625, 56: 77128.203125, 18: 73877.0, 52: 73832.65625, 55: 72773.046875, 25: 62349.01171875, 45: 56076.14453125, 21: 54044.828125, 31: 53627.828125, 46: 52875.28515625, 28: 46078.828125, 27: 45092.6328125, 17: 38954.48046875, 3: 37905.26953125, 30: 35381.68359375, 24: 34851.98828125, 50: 30929.244140625, 2: 30114.234375, 47: 29863.689453125, 49: 29444.857421875, 4: 29419.109375, 1: 29295.783203125, 0: 29138.431640625, 9: 27324.615234375, 11: 27249.87890625, 15: 26739.62890625, 5: 25871.97265625, 14: 21124.9140625, 13: 20887.26171875, 8: 20764.712890625, 29: 20683.013671875, 12: 20334.767578125, 7: 20183.185546875, 6: 19984.421875, 10: 19308.125, 16: 18469.896484375, 36: 10381.13671875, 37: 10237.861328125, 33: 9950.076171875, 35: 9400.9287109375, 34: 9252.4931640625, 58: 6813.603515625, 57: 5704.6376953125, 60: 5611.72021484375, 59: 4922.52685546875, 38: 2664.206787109375, 43: 888.4740600585938, 42: 606.90625, 40: 561.51904296875, 44: 525.419189453125, 41: 463.7660827636719, 39: 381.2342529296875}"
   ]
  },
  {
   "cell_type": "code",
   "execution_count": 55,
   "id": "20009a8d",
   "metadata": {},
   "outputs": [
    {
     "name": "stdout",
     "output_type": "stream",
     "text": [
      "diff_dict_0:{4: -541.8567727416131, 7: -785.9499454957579, 10: -750.1053566716254, 5: -362.7470697188161, 17: -131.0543367216784, 2: -126.14914772499736, 8: -319.14942320288685, 1: -118.82527734628744, 11: -264.2721695827121, 14: -282.4320042777912, 0: -111.51400571580027, 18: -25.1553481822911, 12: -263.87754750336484, 13: -251.2596772525031, 15: -236.9511324836345, 16: -277.38267962091726, 3: -65.29871176758414, 9: -202.2940663871748, 6: -191.46845985831828}\n",
      "diff_dict_10:{7: -1739.319413369208, 4: -1017.0179034354264, 5: -762.6837832022919, 10: -1046.5781083093257, 17: -429.9783090179273, 8: -587.4474264435806, 2: -370.3680931619235, 1: -338.73437683444337, 11: -358.4451565080063, 14: -489.86238479520443, 18: -62.561197581791355, 0: -307.594593078286, 13: -444.02958292275554, 12: -446.766837623486, 16: -496.56026005999837, 15: -308.22509311071974, 9: -226.68738259194666, 6: -346.46251807071604, 3: -134.04743877855867}\n"
     ]
    }
   ],
   "source": [
    "# compare losses try_sorted_correct_lowest_loss_after_10_epoch_44\n",
    "# epoch 1:\n",
    "# Ordered schemes from highest loss to lowest: [4, 7, 10, 5, 17, 2, 8, 1, 11, 14, 0, 18, 12, 13, 15, 16, 3, 9, 6]\n",
    "# Dict: {4: 129300.96875, 7: 96004.3046875, 10: 85412.21875, 5: 53461.1328125, 17: 49266.6015625, 2: 46876.09375, 8: 45187.48828125, 1: 44622.2265625, 11: 42594.15625, 14: 42576.46875, 0: 42441.71875, 18: 39560.3515625, 12: 39383.55078125, 13: 39194.34375, 15: 38261.7421875, 16: 37499.4296875, 3: 35148.359375, 9: 34483.25390625, 6: 30631.072265625}\n",
    "losses_1_remove_44 = {4: 129300.96875, 7: 96004.3046875, 10: 85412.21875, 5: 53461.1328125, 17: 49266.6015625, 2: 46876.09375, 8: 45187.48828125, 1: 44622.2265625, 11: 42594.15625, 14: 42576.46875, 0: 42441.71875, 18: 39560.3515625, 12: 39383.55078125, 13: 39194.34375, 15: 38261.7421875, 16: 37499.4296875, 3: 35148.359375, 9: 34483.25390625, 6: 30631.072265625}\n",
    "# epoch 10:\n",
    "# Ordered schemes from highest loss to lowest: [7, 4, 5, 10, 17, 8, 2, 1, 11, 14, 18, 0, 13, 12, 16, 15, 9, 6, 3]\n",
    "# Dict: {7: 371233.25, 4: 328616.71875, 5: 223193.3125, 10: 221382.734375, 17: 206450.296875, 8: 142746.484375, 2: 141647.75, 1: 128530.671875, 11: 124925.75, 14: 124607.921875, 18: 120095.3359375, 0: 118766.671875, 13: 113632.8828125, 12: 111183.765625, 16: 110184.0625, 15: 109157.875, 9: 89266.0703125, 6: 89222.953125, 3: 88716.3125}\n",
    "losses_10_remove_44 = {7: 371233.25, 4: 328616.71875, 5: 223193.3125, 10: 221382.734375, 17: 206450.296875, 8: 142746.484375, 2: 141647.75, 1: 128530.671875, 11: 124925.75, 14: 124607.921875, 18: 120095.3359375, 0: 118766.671875, 13: 113632.8828125, 12: 111183.765625, 16: 110184.0625, 15: 109157.875, 9: 89266.0703125, 6: 89222.953125, 3: 88716.3125}\n",
    "\n",
    "diff_dict_0 = {k:100*(losses_1_remove_0[k]-v)/losses_1_remove_0[k] for k,v in losses_1_remove_44.items()}\n",
    "print(f\"diff_dict_0:{diff_dict_0}\")\n",
    "diff_dict_10 = {k:100*(losses_10_remove_0[k]-v)/losses_10_remove_0[k] for k,v in losses_10_remove_44.items()}\n",
    "print(f\"diff_dict_10:{diff_dict_10}\")"
   ]
  },
  {
   "cell_type": "code",
   "execution_count": 4,
   "id": "a105a3d2",
   "metadata": {},
   "outputs": [
    {
     "name": "stdout",
     "output_type": "stream",
     "text": [
      "matrix_remove_0: mean=[-3.8377196e-02 -2.0379106e-02  1.0637247e-02  2.3869807e-02\n",
      " -2.7594453e-02 -3.6949225e-02 -1.4958254e-03 -4.5357374e-04\n",
      "  3.9229039e-02 -5.5097346e-03  1.2385706e-02  1.7137002e-02\n",
      " -3.8309865e-02  7.0757652e-03 -2.9943982e-02 -4.6522967e-03\n",
      " -8.3462913e-03 -7.3295217e-03  4.0329855e-02 -5.0480593e-02\n",
      " -1.6332380e-02 -2.3989337e-02 -3.4808878e-02  3.0746324e-02\n",
      "  9.7708832e-03 -2.2783337e-02 -4.1982178e-02  2.3539191e-02\n",
      " -6.8548054e-02  4.3412361e-02 -5.2901741e-02 -1.8109420e-02\n",
      "  1.2795267e-03 -1.4923354e-02  1.3816397e-02 -5.9802695e-03\n",
      " -1.8325187e-02  1.1836119e-02  1.8168515e-02  3.7265946e-03\n",
      " -6.2905408e-02  4.9050111e-02 -5.0899830e-02 -1.9554976e-02\n",
      " -2.6135772e-02  3.0790310e-02  1.9331621e-02 -5.4073485e-04\n",
      "  1.5398811e-02 -2.4393725e-03  2.7837655e-02 -2.7875328e-02\n",
      " -3.9194864e-03 -9.8368404e-03 -2.7001121e-03  2.7200725e-02\n",
      " -2.2407373e-02  3.0597053e-02 -4.0680025e-02 -1.1974219e-02\n",
      "  5.7021243e-04 -7.4660541e-03 -3.7016377e-02 -7.6111075e-03\n",
      "  3.6499247e-02 -1.6118519e-03 -1.4374541e-02 -1.7132359e-02\n",
      "  5.2349218e-03 -4.1623533e-02  1.1550344e-02 -1.5914848e-02\n",
      "  1.1930416e-02 -2.7417118e-02  1.9817838e-02  3.0562276e-02\n",
      "  1.2987118e-02  7.5768642e-03 -1.5501289e-03  1.5690651e-02\n",
      "  3.5851434e-02 -1.1863136e-02 -3.0757437e-02  4.0206395e-02\n",
      " -3.3093881e-02  7.4003860e-03 -8.5558929e-03  2.4676099e-02\n",
      "  1.5146876e-02 -2.9933019e-02  2.2216024e-02 -5.8226395e-02\n",
      "  8.8316286e-03 -2.0265825e-02 -9.7614564e-03  1.1592229e-02\n",
      "  2.4377410e-03 -2.3497520e-02 -4.5554772e-02 -8.8650660e-05]    var=[0.00157083 0.0008994  0.00103996 0.00082857 0.00101791 0.00077172\n",
      " 0.00134449 0.00219389 0.00171559 0.00078723 0.0016224  0.00095819\n",
      " 0.00166427 0.00119702 0.00138353 0.00104363 0.00216319 0.00154379\n",
      " 0.00061091 0.00160829 0.0012984  0.00098737 0.00191569 0.00079132\n",
      " 0.0013827  0.00176788 0.00110776 0.00182919 0.00180503 0.00066523\n",
      " 0.00091627 0.00109534 0.00063044 0.00129638 0.00174727 0.00176142\n",
      " 0.00049183 0.00087253 0.00164325 0.00135469 0.00091109 0.00192176\n",
      " 0.00074499 0.00114293 0.00161608 0.00084664 0.00084505 0.00118341\n",
      " 0.0028416  0.00093745 0.00057049 0.00163827 0.00092843 0.00137684\n",
      " 0.00112639 0.0010799  0.00109541 0.00098511 0.00226382 0.00217114\n",
      " 0.00222077 0.001272   0.00126515 0.00184776 0.00137558 0.00091368\n",
      " 0.00122641 0.00068564 0.00140538 0.00086186 0.00098216 0.00250178\n",
      " 0.00094931 0.00101969 0.00157891 0.000891   0.00241494 0.00112834\n",
      " 0.00195057 0.00097269 0.00085333 0.00079308 0.00095469 0.00086445\n",
      " 0.00103761 0.0014123  0.00140188 0.0007491  0.00068295 0.00113811\n",
      " 0.00161076 0.00102774 0.00092358 0.00139838 0.00154307 0.00106159\n",
      " 0.00116326 0.00088692 0.00137513 0.00375154]\n"
     ]
    }
   ],
   "source": [
    "#embeddings\n",
    "import os\n",
    "import sys\n",
    "import io_utils\n",
    "import numpy as np\n",
    "embedding_remove_44 = io_utils.load_embedding(f\"Embeddings/mondial/EK_3_100_500_10_50000_0experiment_try_sorted_correct_lowest_loss_after_10_epoch_44\")\n",
    "# print(embedding_remove_44['0@target'])\n",
    "matrix_remove_44 = np.concatenate(list(embedding_remove_44.values()),axis=0).reshape((-1,100))\n",
    "mean_remove_44 = matrix_remove_44.mean(axis=0)\n",
    "var_remove_44 = matrix_remove_44.var(axis=0)\n",
    "# print(f\"matrix_remove_44: mean={mean_remove_44}    var={var_remove_44}\")\n",
    "\n",
    "embedding_remove_0 = io_utils.load_embedding(f\"Embeddings/mondial/EK_3_100_500_10_50000_0experiment_try_sorted_correct_lowest_loss_after_10_epoch_0\")\n",
    "# print(embedding_remove_44['0@target'])\n",
    "matrix_remove_0 = np.concatenate(list(embedding_remove_0.values()),axis=0).reshape((-1,100))\n",
    "mean_remove_0 = matrix_remove_0.mean(axis=0)\n",
    "var_remove_0 = matrix_remove_0.var(axis=0)\n",
    "print(f\"matrix_remove_0: mean={mean_remove_0}    var={var_remove_0}\")"
   ]
  },
  {
   "cell_type": "code",
   "execution_count": 6,
   "id": "478796d7",
   "metadata": {},
   "outputs": [
    {
     "name": "stdout",
     "output_type": "stream",
     "text": [
      "(204, 100)\n",
      "(204, 204)\n",
      "pairwise_dists_remove_44_mean=0.6025907397270203 var=0.009577702730894089\n",
      "pairwise_dists_remove_0_mean =0.498433917760849  var=0.010852929204702377\n"
     ]
    }
   ],
   "source": [
    "from sklearn.metrics import pairwise_distances\n",
    "# calc all the pairwise dist\n",
    "# 236X236 dist matrix\n",
    "# mean dist on that\n",
    "print(matrix_remove_44.shape)\n",
    "print(pairwise_distances(matrix_remove_44).shape)\n",
    "pairwise_dists_remove_44_mean = pairwise_distances(matrix_remove_44).mean()\n",
    "print(f\"pairwise_dists_remove_44_mean={pairwise_dists_remove_44_mean} var={pairwise_distances(matrix_remove_44).var()}\")\n",
    "pairwise_dists_remove_0_mean = pairwise_distances(matrix_remove_0).mean()\n",
    "print(f\"pairwise_dists_remove_0_mean ={pairwise_dists_remove_0_mean}  var={pairwise_distances(matrix_remove_0).var()}\")"
   ]
  },
  {
   "cell_type": "code",
   "execution_count": 7,
   "id": "35f3cbe3",
   "metadata": {},
   "outputs": [
    {
     "name": "stdout",
     "output_type": "stream",
     "text": [
      "pairwise_dists_remove_1_mean=0.6025907397270203 var=0.009577702730894089\n",
      "pairwise_dists_remove_0_mean=0.498433917760849  var=0.010852929204702377\n"
     ]
    }
   ],
   "source": [
    "# generic func to compare 2 embeddings\n",
    "def compare_2_exps_embeddings(exp1_path=f\"Embeddings/mondial/EK_3_100_500_10_50000_0experiment_try_sorted_correct_lowest_loss_after_10_epoch_44\", exp2_path=f\"Embeddings/mondial/EK_3_100_500_10_50000_0experiment_try_sorted_correct_lowest_loss_after_10_epoch_0\"):\n",
    "    embedding_remove_1 = io_utils.load_embedding(exp1_path)\n",
    "    # print(embedding_remove_1['0@target'])\n",
    "    matrix_remove_1 = np.concatenate(list(embedding_remove_1.values()),axis=0).reshape((-1,100))\n",
    "    mean_remove_1 = matrix_remove_1.mean(axis=0)\n",
    "    var_remove_1 = matrix_remove_1.var(axis=0)\n",
    "    # print(f\"matrix_remove_1: mean={mean_remove_1}    var={var_remove_1}\")\n",
    "\n",
    "    embedding_remove_0 = io_utils.load_embedding(exp2_path)\n",
    "    # print(embedding_remove_1['0@target'])\n",
    "    matrix_remove_0 = np.concatenate(list(embedding_remove_0.values()),axis=0).reshape((-1,100))\n",
    "    mean_remove_0 = matrix_remove_0.mean(axis=0)\n",
    "    var_remove_0 = matrix_remove_0.var(axis=0)\n",
    "    # print(f\"matrix_remove_0: mean={mean_remove_0}    var={var_remove_0}\")\n",
    "    \n",
    "    # print(matrix_remove_1.shape)\n",
    "    # print(pairwise_distances(matrix_remove_1).shape)\n",
    "    pairwise_dists_remove_1_mean = pairwise_distances(matrix_remove_1).mean()\n",
    "    print(f\"pairwise_dists_remove_1_mean={pairwise_dists_remove_1_mean} var={pairwise_distances(matrix_remove_1).var()}\")\n",
    "    pairwise_dists_remove_0_mean = pairwise_distances(matrix_remove_0).mean()\n",
    "    print(f\"pairwise_dists_remove_0_mean={pairwise_dists_remove_0_mean}  var={pairwise_distances(matrix_remove_0).var()}\")\n",
    "    \n",
    "compare_2_exps_embeddings()\n"
   ]
  },
  {
   "cell_type": "code",
   "execution_count": 16,
   "id": "6e27d81f",
   "metadata": {},
   "outputs": [
    {
     "name": "stdout",
     "output_type": "stream",
     "text": [
      "Original forward's mean dist between 2 vectors progression on mondial:\n",
      "conditional_entropy_removed_43_\n",
      "epoch_0 - {'mean': 1.4089199, 'var': 0.020212447}\n",
      "epoch_1 - {'mean': 1.2107825, 'var': 0.016416168}\n",
      "epoch_2 - {'mean': 1.0626326, 'var': 0.013970068}\n",
      "epoch_3 - {'mean': 0.9576644, 'var': 0.012398127}\n",
      "epoch_4 - {'mean': 0.88051736, 'var': 0.011325865}\n",
      "epoch_5 - {'mean': 0.8209285, 'var': 0.010538649}\n",
      "epoch_6 - {'mean': 0.7731872, 'var': 0.009940284}\n",
      "epoch_7 - {'mean': 0.73388994, 'var': 0.009463399}\n",
      "epoch_8 - {'mean': 0.7009041, 'var': 0.009083298}\n",
      "epoch_9 - {'mean': 0.67278975, 'var': 0.008768892}\n",
      "epoch_10 - {'mean': 0.6485522, 'var': 0.008514876}\n"
     ]
    }
   ],
   "source": [
    "# check the distance progretion of forward vector embeddings during the epochs\n",
    "def get_all_exp_with_exp_name(exp_name, data_name=\"Embeddings/mondial\"):\n",
    "    dirs = os.listdir(os.path.join(\".\",data_name))\n",
    "    for d in dirs.copy():\n",
    "        if exp_name not in d:\n",
    "            dirs.remove(d)\n",
    "    # print(dirs)\n",
    "    return [os.path.join(data_name,d) for d in dirs]\n",
    "\n",
    "def get_exp_embeddings_mean_var(exp1_path=f\"Embeddings/mondial/EK_3_100_500_10_50000_0experiment_try_sorted_correct_lowest_loss_after_10_epoch_44\"):\n",
    "    embedding_remove_1 = io_utils.load_embedding(exp1_path)\n",
    "    # print(embedding_remove_1['0@target'])\n",
    "    matrix_remove_1 = np.concatenate(list(embedding_remove_1.values()),axis=0).reshape((-1,100))\n",
    "    mean_remove_1 = matrix_remove_1.mean(axis=0)\n",
    "    var_remove_1 = matrix_remove_1.var(axis=0)\n",
    "    # print(f\"matrix_remove_1: mean={mean_remove_1}    var={var_remove_1}\")\n",
    "\n",
    "    # print(matrix_remove_1.shape)\n",
    "    # print(pairwise_distances(matrix_remove_1).shape)\n",
    "    pairwise_dists_remove_1_mean = pairwise_distances(matrix_remove_1).mean()\n",
    "    # print(f\"pairwise_dists_remove_1_mean={pairwise_dists_remove_1_mean} var={pairwise_distances(matrix_remove_1).var()}\")\n",
    "    return {\"mean\":pairwise_dists_remove_1_mean, \"var\":pairwise_distances(matrix_remove_1).var()}\n",
    "\n",
    "# get_exp_embeddings_mean_var()\n",
    "data_n=\"mondial\"\n",
    "# exp_n = 'orig_forward_' + \"_\"\n",
    "exp_n = \"conditional_entropy_removed_43\" + \"_\"\n",
    "embeddings_paths = sorted(get_all_exp_with_exp_name(f\"{exp_n}epoch_\", data_name=f\"Embeddings/{data_n}\"),key=lambda p:int(p.split(f\"{exp_n}epoch_\")[-1]))\n",
    "print(f\"Original forward's mean dist between 2 vectors progression on {data_n}:\\n{exp_n}\")\n",
    "for p in embeddings_paths:\n",
    "    print(f\"{p.split(exp_n)[-1]} - {get_exp_embeddings_mean_var(p)}\")"
   ]
  },
  {
   "cell_type": "code",
   "execution_count": 15,
   "id": "71b2557b",
   "metadata": {},
   "outputs": [
    {
     "name": "stdout",
     "output_type": "stream",
     "text": [
      "Original forward's cosine mean dist between 2 vectors progression on mondial:\n",
      "conditional_entropy_from_low_to_high_removed_43_\n",
      "epoch_0 - {'mean': 0.0053933724, 'var': 0.014830895}\n",
      "epoch_1 - {'mean': 0.0061449646, 'var': 0.015041436}\n",
      "epoch_2 - {'mean': 0.014488915, 'var': 0.015595864}\n",
      "epoch_3 - {'mean': 0.06267562, 'var': 0.01570647}\n",
      "epoch_4 - {'mean': 0.19553843, 'var': 0.013844994}\n",
      "epoch_5 - {'mean': 0.2184843, 'var': 0.013736209}\n",
      "epoch_6 - {'mean': 0.24037172, 'var': 0.014966461}\n",
      "epoch_7 - {'mean': 0.2563604, 'var': 0.01658138}\n",
      "epoch_8 - {'mean': 0.2680656, 'var': 0.018578038}\n",
      "epoch_9 - {'mean': 0.27721903, 'var': 0.020589845}\n",
      "epoch_10 - {'mean': 0.2843505, 'var': 0.022372013}\n",
      "Original forward's cosine mean dist between 2 vectors progression on mondial:\n",
      "conditional_entropy_removed_43_\n",
      "epoch_0 - {'mean': 0.0053933724, 'var': 0.014830895}\n",
      "epoch_1 - {'mean': 0.0052776802, 'var': 0.014964679}\n",
      "epoch_2 - {'mean': 0.005181032, 'var': 0.015488344}\n",
      "epoch_3 - {'mean': 0.005138241, 'var': 0.016189987}\n",
      "epoch_4 - {'mean': 0.0051358994, 'var': 0.016955582}\n",
      "epoch_5 - {'mean': 0.00515595, 'var': 0.017739194}\n",
      "epoch_6 - {'mean': 0.0052036587, 'var': 0.018532809}\n",
      "epoch_7 - {'mean': 0.00527092, 'var': 0.019325072}\n",
      "epoch_8 - {'mean': 0.005362699, 'var': 0.020121284}\n",
      "epoch_9 - {'mean': 0.00546417, 'var': 0.020917093}\n",
      "epoch_10 - {'mean': 0.005598792, 'var': 0.021709021}\n",
      "Original forward's cosine mean dist between 2 vectors progression on mondial:\n",
      "orig_forward_\n",
      "epoch_0 - {'mean': 0.0053933724, 'var': 0.014830895}\n",
      "epoch_1 - {'mean': 0.009785563, 'var': 0.01555669}\n",
      "epoch_2 - {'mean': 0.10882356, 'var': 0.0156361}\n",
      "epoch_3 - {'mean': 0.28528896, 'var': 0.0133635895}\n",
      "epoch_4 - {'mean': 0.3249447, 'var': 0.017404085}\n",
      "epoch_5 - {'mean': 0.34509456, 'var': 0.023683151}\n",
      "epoch_6 - {'mean': 0.35773858, 'var': 0.028917305}\n",
      "epoch_7 - {'mean': 0.3645903, 'var': 0.032360017}\n",
      "epoch_8 - {'mean': 0.3666317, 'var': 0.034877144}\n",
      "epoch_9 - {'mean': 0.36438337, 'var': 0.03682512}\n",
      "epoch_10 - {'mean': 0.36041078, 'var': 0.038254168}\n"
     ]
    }
   ],
   "source": [
    "from sklearn.metrics.pairwise import cosine_similarity\n",
    "def get_exp_embeddings_cosine_mean_var(exp1_path=f\"Embeddings/mondial/EK_3_100_500_10_50000_0experiment_try_sorted_correct_lowest_loss_after_10_epoch_44\"):\n",
    "    embedding_remove_1 = io_utils.load_embedding(exp1_path)\n",
    "    matrix_remove_1 = np.concatenate(list(embedding_remove_1.values()),axis=0).reshape((-1,100))\n",
    "    mean_remove_1 = matrix_remove_1.mean(axis=0)\n",
    "    var_remove_1 = matrix_remove_1.var(axis=0)\n",
    "    # print(f\"matrix_remove_1: mean={mean_remove_1}    var={var_remove_1}\")\n",
    "\n",
    "    # print(matrix_remove_1.shape)\n",
    "    # print(pairwise_distances(matrix_remove_1).shape)\n",
    "    pairwise_dists_remove_1 = cosine_similarity(matrix_remove_1)\n",
    "    return {\"mean\":pairwise_dists_remove_1.mean(), \"var\":pairwise_dists_remove_1.var()}\n",
    "\n",
    "data_n=\"mondial\"\n",
    "for exp_n in [\"conditional_entropy_from_low_to_high_removed_43\",\"conditional_entropy_removed_43\",\"orig_forward\"]:\n",
    "    # exp_n = 'orig_forward_' + \"_\"\n",
    "    exp_n = exp_n + \"_\"\n",
    "    embeddings_paths = sorted(get_all_exp_with_exp_name(f\"{exp_n}epoch_\", data_name=f\"Embeddings/{data_n}\"),key=lambda p:int(p.split(f\"{exp_n}epoch_\")[-1]))\n",
    "    print(f\"Original forward's cosine mean dist between 2 vectors progression on {data_n}:\\n{exp_n}\")\n",
    "    for p in embeddings_paths:\n",
    "        print(f\"{p.split(exp_n)[-1]} - {get_exp_embeddings_cosine_mean_var(p)}\")"
   ]
  },
  {
   "cell_type": "code",
   "execution_count": 62,
   "id": "1c9afc8f",
   "metadata": {
    "scrolled": true
   },
   "outputs": [
    {
     "name": "stdout",
     "output_type": "stream",
     "text": [
      "Original forward's cosine mean dist between 2 vectors progression on mondial:\n",
      "sorted_mean_lowest_loss_after_10_epoch_40_\n",
      "[t-SNE] Computing 91 nearest neighbors...\n",
      "[t-SNE] Indexed 204 samples in 0.000s...\n",
      "[t-SNE] Computed neighbors for 204 samples in 0.002s...\n",
      "[t-SNE] Computed conditional probabilities for sample 204 / 204\n",
      "[t-SNE] Mean sigma: 0.191799\n",
      "[t-SNE] KL divergence after 250 iterations with early exaggeration: 66.682777\n",
      "[t-SNE] KL divergence after 1000 iterations: 0.520418\n",
      "Original forward's cosine mean dist between 2 vectors progression on mondial:\n",
      "sorted_mean_highest_loss_after_10_epoch_40_\n",
      "[t-SNE] Computing 91 nearest neighbors...\n",
      "[t-SNE] Indexed 204 samples in 0.000s...\n",
      "[t-SNE] Computed neighbors for 204 samples in 0.002s...\n",
      "[t-SNE] Computed conditional probabilities for sample 204 / 204\n",
      "[t-SNE] Mean sigma: 0.161602\n",
      "[t-SNE] KL divergence after 250 iterations with early exaggeration: 98.779968\n",
      "[t-SNE] KL divergence after 1000 iterations: 1.207047\n"
     ]
    },
    {
     "data": {
      "image/png": "[encoded data removed]",
      "text/plain": [
       "<Figure size 1152x720 with 1 Axes>"
      ]
     },
     "metadata": {
      "needs_background": "light"
     },
     "output_type": "display_data"
    },
    {
     "data": {
      "image/png": "[encoded data removed]",
      "text/plain": [
       "<Figure size 1152x720 with 1 Axes>"
      ]
     },
     "metadata": {
      "needs_background": "light"
     },
     "output_type": "display_data"
    }
   ],
   "source": [
    "# vectors visualization\n",
    "def get_embeddings_from_path(exp1_path=f\"Embeddings/mondial/EK_3_100_500_10_50000_0experiment_try_sorted_correct_lowest_loss_after_10_epoch_44\"):\n",
    "    embedding_remove_1 = io_utils.load_embedding(exp1_path)\n",
    "    return list(embedding_remove_1.values())\n",
    "\n",
    "def plot_tsne_of_embeddings(exp1_path=f\"Embeddings/mondial/EK_3_100_500_10_50000_0experiment_try_sorted_correct_lowest_loss_after_10_epoch_44\",target_path='Datasets\\\\mondial\\\\target.csv',target=\"Target\"):\n",
    "    x = get_embeddings_from_path(exp1_path)\n",
    "    tsne = TSNE(n_components=2, verbose=1, random_state=123)\n",
    "    tsne_results = tsne.fit_transform(x) \n",
    "    df_subset = pd.DataFrame()\n",
    "    df_subset['tsne-2d-one'] = tsne_results[:,0]\n",
    "    df_subset['tsne-2d-two'] = tsne_results[:,1]\n",
    "    plt.figure(figsize=(16,10))\n",
    "    df_subset['y'] = pd.read_csv(target_path)[target]\n",
    "    sns.scatterplot(\n",
    "        x=\"tsne-2d-one\", y=\"tsne-2d-two\",\n",
    "        hue=\"y\",\n",
    "        palette=sns.color_palette(\"hls\", 2),\n",
    "        data=df_subset,\n",
    "        legend=\"full\",\n",
    "        alpha=0.3\n",
    "    )\n",
    "    plt.gca().set_title(f\"{exp1_path.split('experiment_')[-1]}\")\n",
    "# plot_tsne_of_embeddings(exp1_path=f\"Embeddings/mondial/EK_3_100_500_10_50000_0experiment_try_sorted_correct_lowest_loss_after_10_epoch_44\")\n",
    "\n",
    "\n",
    "data_n=\"mondial\"\n",
    "# for exp_n in [\"conditional_entropy_from_low_to_high_removed_43\",\"conditional_entropy_removed_43\",\"orig_forward\"]:\n",
    "for exp_n in [\"sorted_mean_lowest_loss_after_10_epoch_40\",\"sorted_mean_highest_loss_after_10_epoch_40\"]:\n",
    "    exp_n = exp_n + \"_\"\n",
    "    embeddings_paths = sorted(get_all_exp_with_exp_name(f\"{exp_n}epoch_\", data_name=f\"Embeddings/{data_n}\"),key=lambda p:int(p.split(f\"{exp_n}epoch_\")[-1]))\n",
    "    print(f\"Original forward's cosine mean dist between 2 vectors progression on {data_n}:\\n{exp_n}\")\n",
    "    # for p in embeddings_paths:\n",
    "    p=embeddings_paths[-1]\n",
    "    plot_tsne_of_embeddings(exp1_path=p,target_path='Datasets\\\\mondial\\\\target.csv',target=\"Target\")"
   ]
  },
  {
   "cell_type": "code",
   "execution_count": 65,
   "id": "9d2a78a4",
   "metadata": {},
   "outputs": [
    {
     "name": "stdout",
     "output_type": "stream",
     "text": [
      "Original forward's cosine mean dist between 2 vectors progression on mondial:\n",
      "sorted_mean_lowest_loss_after_10_epoch_40_\n",
      "Original forward's cosine mean dist between 2 vectors progression on mondial:\n",
      "sorted_mean_highest_loss_after_10_epoch_40_\n"
     ]
    },
    {
     "data": {
      "image/png": "[encoded data removed]",
      "text/plain": [
       "<Figure size 1152x720 with 1 Axes>"
      ]
     },
     "metadata": {
      "needs_background": "light"
     },
     "output_type": "display_data"
    },
    {
     "data": {
      "image/png": "[encoded data removed]",
      "text/plain": [
       "<Figure size 1152x720 with 1 Axes>"
      ]
     },
     "metadata": {
      "needs_background": "light"
     },
     "output_type": "display_data"
    }
   ],
   "source": [
    "# vectors visualization\n",
    "def plot_pca_of_embeddings(exp1_path=f\"Embeddings/mondial/EK_3_100_500_10_50000_0experiment_try_sorted_correct_lowest_loss_after_10_epoch_44\",target_path='Datasets\\\\mondial\\\\target.csv',target=\"Target\"):\n",
    "    x = get_embeddings_from_path(exp1_path)\n",
    "    pca = PCA(n_components=3)\n",
    "    pca_result = pca.fit_transform(x) \n",
    "    df_subset_pca = pd.DataFrame()\n",
    "    df_subset_pca['pca-one'] = pca_result[:,0]\n",
    "    df_subset_pca['pca-two'] = pca_result[:,1] \n",
    "    df_subset_pca['pca-three'] = pca_result[:,2]\n",
    "    df_subset_pca['y'] = pd.read_csv(target_path)[target]\n",
    "    plt.figure(figsize=(16,10))\n",
    "    sns.scatterplot(\n",
    "        x=\"pca-one\", y=\"pca-two\",\n",
    "        hue=\"y\",\n",
    "        palette=sns.color_palette(\"hls\", 2),\n",
    "        data=df_subset_pca,#.loc[rndperm,:],\n",
    "        legend=\"full\",\n",
    "        alpha=0.3\n",
    "    )\n",
    "    plt.gca().set_title(f\"{exp1_path.split('experiment_')[-1]}\")\n",
    "\n",
    "data_n=\"mondial\"\n",
    "#for exp_n in [\"conditional_entropy_from_low_to_high_removed_43\",\"conditional_entropy_removed_43\",\"orig_forward\"]:\n",
    "for exp_n in [\"sorted_mean_lowest_loss_after_10_epoch_40\",\"sorted_mean_highest_loss_after_10_epoch_40\"]:\n",
    "    exp_n = exp_n + \"_\"\n",
    "    embeddings_paths = sorted(get_all_exp_with_exp_name(f\"{exp_n}epoch_\", data_name=f\"Embeddings/{data_n}\"),key=lambda p:int(p.split(f\"{exp_n}epoch_\")[-1]))\n",
    "    print(f\"Original forward's cosine mean dist between 2 vectors progression on {data_n}:\\n{exp_n}\")\n",
    "    # for p in embeddings_paths:\n",
    "    p=embeddings_paths[-1]\n",
    "    plot_pca_of_embeddings(exp1_path=p,target_path='Datasets\\\\mondial\\\\target.csv',target=\"Target\")"
   ]
  },
  {
   "cell_type": "code",
   "execution_count": null,
   "id": "63ff2f1b",
   "metadata": {},
   "outputs": [],
   "source": []
  }
 ],
 "metadata": {
  "kernelspec": {
   "display_name": "Python 3 (ipykernel)",
   "language": "python",
   "name": "python3"
  },
  "language_info": {
   "codemirror_mode": {
    "name": "ipython",
    "version": 3
   },
   "file_extension": ".py",
   "mimetype": "text/x-python",
   "name": "python",
   "nbconvert_exporter": "python",
   "pygments_lexer": "ipython3",
   "version": "3.9.7"
  }
 },
 "nbformat": 4,
 "nbformat_minor": 5
}
